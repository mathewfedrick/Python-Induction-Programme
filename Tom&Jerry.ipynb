{
  "nbformat": 4,
  "nbformat_minor": 0,
  "metadata": {
    "colab": {
      "provenance": [],
      "name": "Tom&Jerry.ipynb",
      "include_colab_link": true
    },
    "kernelspec": {
      "name": "python3",
      "display_name": "Python 3"
    },
    "language_info": {
      "name": "python"
    }
  },
  "cells": [
    {
      "cell_type": "markdown",
      "metadata": {
        "id": "view-in-github",
        "colab_type": "text"
      },
      "source": [
        "<a href=\"https://colab.research.google.com/github/mathewfedrick/Python-Induction-Programme/blob/main/Tom%26Jerry.ipynb\" target=\"_parent\"><img src=\"https://colab.research.google.com/assets/colab-badge.svg\" alt=\"Open In Colab\"/></a>"
      ]
    },
    {
      "cell_type": "code",
      "execution_count": null,
      "metadata": {
        "id": "Igqcv_49vct9"
      },
      "outputs": [],
      "source": [
        "import numpy as np\n",
        "import pandas as pd\n",
        "import matplotlib.pyplot as plt\n",
        "from sklearn.model_selection import train_test_split\n",
        "from sklearn.preprocessing import StandardScaler\n",
        "from sklearn.tree import DecisionTreeClassifier\n",
        "from sklearn.metrics import confusion_matrix\n",
        "from sklearn.metrics import accuracy_score\n",
        "from sklearn.tree import export_graphviz\n",
        "import graphviz\n",
        "import seaborn as sns\n",
        "from sklearn.preprocessing import LabelEncoder"
      ]
    },
    {
      "cell_type": "code",
      "source": [
        "df=pd.read_csv(\"Train.csv\")"
      ],
      "metadata": {
        "id": "9Afonhd9wO9E"
      },
      "execution_count": null,
      "outputs": []
    },
    {
      "cell_type": "code",
      "source": [
        "col = list(df.columns)"
      ],
      "metadata": {
        "id": "-2wPJQN9wfiL"
      },
      "execution_count": null,
      "outputs": []
    },
    {
      "cell_type": "code",
      "source": [
        "from sklearn.preprocessing import LabelEncoder\n",
        "labelencoder = LabelEncoder()\n",
        "for m in col:\n",
        "  df[m]=labelencoder.fit_transform(df[m])\n",
        "df"
      ],
      "metadata": {
        "colab": {
          "base_uri": "https://localhost:8080/",
          "height": 423
        },
        "id": "n86MV1abwmj8",
        "outputId": "e201b0ff-3675-4b71-ed0e-94311705954f"
      },
      "execution_count": null,
      "outputs": [
        {
          "output_type": "execute_result",
          "data": {
            "text/plain": [
              "     Frame_ID  Emotion\n",
              "0           0        2\n",
              "1           1        2\n",
              "2         112        4\n",
              "3         221        4\n",
              "4         232        1\n",
              "..        ...      ...\n",
              "293       216        0\n",
              "294       217        0\n",
              "295       218        0\n",
              "296       219        0\n",
              "297       220        0\n",
              "\n",
              "[298 rows x 2 columns]"
            ],
            "text/html": [
              "\n",
              "  <div id=\"df-923da26a-4bbe-405d-a2b5-81a1d632b410\">\n",
              "    <div class=\"colab-df-container\">\n",
              "      <div>\n",
              "<style scoped>\n",
              "    .dataframe tbody tr th:only-of-type {\n",
              "        vertical-align: middle;\n",
              "    }\n",
              "\n",
              "    .dataframe tbody tr th {\n",
              "        vertical-align: top;\n",
              "    }\n",
              "\n",
              "    .dataframe thead th {\n",
              "        text-align: right;\n",
              "    }\n",
              "</style>\n",
              "<table border=\"1\" class=\"dataframe\">\n",
              "  <thead>\n",
              "    <tr style=\"text-align: right;\">\n",
              "      <th></th>\n",
              "      <th>Frame_ID</th>\n",
              "      <th>Emotion</th>\n",
              "    </tr>\n",
              "  </thead>\n",
              "  <tbody>\n",
              "    <tr>\n",
              "      <th>0</th>\n",
              "      <td>0</td>\n",
              "      <td>2</td>\n",
              "    </tr>\n",
              "    <tr>\n",
              "      <th>1</th>\n",
              "      <td>1</td>\n",
              "      <td>2</td>\n",
              "    </tr>\n",
              "    <tr>\n",
              "      <th>2</th>\n",
              "      <td>112</td>\n",
              "      <td>4</td>\n",
              "    </tr>\n",
              "    <tr>\n",
              "      <th>3</th>\n",
              "      <td>221</td>\n",
              "      <td>4</td>\n",
              "    </tr>\n",
              "    <tr>\n",
              "      <th>4</th>\n",
              "      <td>232</td>\n",
              "      <td>1</td>\n",
              "    </tr>\n",
              "    <tr>\n",
              "      <th>...</th>\n",
              "      <td>...</td>\n",
              "      <td>...</td>\n",
              "    </tr>\n",
              "    <tr>\n",
              "      <th>293</th>\n",
              "      <td>216</td>\n",
              "      <td>0</td>\n",
              "    </tr>\n",
              "    <tr>\n",
              "      <th>294</th>\n",
              "      <td>217</td>\n",
              "      <td>0</td>\n",
              "    </tr>\n",
              "    <tr>\n",
              "      <th>295</th>\n",
              "      <td>218</td>\n",
              "      <td>0</td>\n",
              "    </tr>\n",
              "    <tr>\n",
              "      <th>296</th>\n",
              "      <td>219</td>\n",
              "      <td>0</td>\n",
              "    </tr>\n",
              "    <tr>\n",
              "      <th>297</th>\n",
              "      <td>220</td>\n",
              "      <td>0</td>\n",
              "    </tr>\n",
              "  </tbody>\n",
              "</table>\n",
              "<p>298 rows × 2 columns</p>\n",
              "</div>\n",
              "      <button class=\"colab-df-convert\" onclick=\"convertToInteractive('df-923da26a-4bbe-405d-a2b5-81a1d632b410')\"\n",
              "              title=\"Convert this dataframe to an interactive table.\"\n",
              "              style=\"display:none;\">\n",
              "        \n",
              "  <svg xmlns=\"http://www.w3.org/2000/svg\" height=\"24px\"viewBox=\"0 0 24 24\"\n",
              "       width=\"24px\">\n",
              "    <path d=\"M0 0h24v24H0V0z\" fill=\"none\"/>\n",
              "    <path d=\"M18.56 5.44l.94 2.06.94-2.06 2.06-.94-2.06-.94-.94-2.06-.94 2.06-2.06.94zm-11 1L8.5 8.5l.94-2.06 2.06-.94-2.06-.94L8.5 2.5l-.94 2.06-2.06.94zm10 10l.94 2.06.94-2.06 2.06-.94-2.06-.94-.94-2.06-.94 2.06-2.06.94z\"/><path d=\"M17.41 7.96l-1.37-1.37c-.4-.4-.92-.59-1.43-.59-.52 0-1.04.2-1.43.59L10.3 9.45l-7.72 7.72c-.78.78-.78 2.05 0 2.83L4 21.41c.39.39.9.59 1.41.59.51 0 1.02-.2 1.41-.59l7.78-7.78 2.81-2.81c.8-.78.8-2.07 0-2.86zM5.41 20L4 18.59l7.72-7.72 1.47 1.35L5.41 20z\"/>\n",
              "  </svg>\n",
              "      </button>\n",
              "      \n",
              "  <style>\n",
              "    .colab-df-container {\n",
              "      display:flex;\n",
              "      flex-wrap:wrap;\n",
              "      gap: 12px;\n",
              "    }\n",
              "\n",
              "    .colab-df-convert {\n",
              "      background-color: #E8F0FE;\n",
              "      border: none;\n",
              "      border-radius: 50%;\n",
              "      cursor: pointer;\n",
              "      display: none;\n",
              "      fill: #1967D2;\n",
              "      height: 32px;\n",
              "      padding: 0 0 0 0;\n",
              "      width: 32px;\n",
              "    }\n",
              "\n",
              "    .colab-df-convert:hover {\n",
              "      background-color: #E2EBFA;\n",
              "      box-shadow: 0px 1px 2px rgba(60, 64, 67, 0.3), 0px 1px 3px 1px rgba(60, 64, 67, 0.15);\n",
              "      fill: #174EA6;\n",
              "    }\n",
              "\n",
              "    [theme=dark] .colab-df-convert {\n",
              "      background-color: #3B4455;\n",
              "      fill: #D2E3FC;\n",
              "    }\n",
              "\n",
              "    [theme=dark] .colab-df-convert:hover {\n",
              "      background-color: #434B5C;\n",
              "      box-shadow: 0px 1px 3px 1px rgba(0, 0, 0, 0.15);\n",
              "      filter: drop-shadow(0px 1px 2px rgba(0, 0, 0, 0.3));\n",
              "      fill: #FFFFFF;\n",
              "    }\n",
              "  </style>\n",
              "\n",
              "      <script>\n",
              "        const buttonEl =\n",
              "          document.querySelector('#df-923da26a-4bbe-405d-a2b5-81a1d632b410 button.colab-df-convert');\n",
              "        buttonEl.style.display =\n",
              "          google.colab.kernel.accessAllowed ? 'block' : 'none';\n",
              "\n",
              "        async function convertToInteractive(key) {\n",
              "          const element = document.querySelector('#df-923da26a-4bbe-405d-a2b5-81a1d632b410');\n",
              "          const dataTable =\n",
              "            await google.colab.kernel.invokeFunction('convertToInteractive',\n",
              "                                                     [key], {});\n",
              "          if (!dataTable) return;\n",
              "\n",
              "          const docLinkHtml = 'Like what you see? Visit the ' +\n",
              "            '<a target=\"_blank\" href=https://colab.research.google.com/notebooks/data_table.ipynb>data table notebook</a>'\n",
              "            + ' to learn more about interactive tables.';\n",
              "          element.innerHTML = '';\n",
              "          dataTable['output_type'] = 'display_data';\n",
              "          await google.colab.output.renderOutput(dataTable, element);\n",
              "          const docLink = document.createElement('div');\n",
              "          docLink.innerHTML = docLinkHtml;\n",
              "          element.appendChild(docLink);\n",
              "        }\n",
              "      </script>\n",
              "    </div>\n",
              "  </div>\n",
              "  "
            ]
          },
          "metadata": {},
          "execution_count": 4
        }
      ]
    },
    {
      "cell_type": "code",
      "source": [
        "df.head()"
      ],
      "metadata": {
        "colab": {
          "base_uri": "https://localhost:8080/",
          "height": 206
        },
        "id": "4itlTQb-wpN7",
        "outputId": "3b7fb12d-488e-4534-bedf-110b1463e9cd"
      },
      "execution_count": null,
      "outputs": [
        {
          "output_type": "execute_result",
          "data": {
            "text/plain": [
              "   Frame_ID  Emotion\n",
              "0         0        2\n",
              "1         1        2\n",
              "2       112        4\n",
              "3       221        4\n",
              "4       232        1"
            ],
            "text/html": [
              "\n",
              "  <div id=\"df-51b52155-794e-408a-84ff-2cf9e48fd09a\">\n",
              "    <div class=\"colab-df-container\">\n",
              "      <div>\n",
              "<style scoped>\n",
              "    .dataframe tbody tr th:only-of-type {\n",
              "        vertical-align: middle;\n",
              "    }\n",
              "\n",
              "    .dataframe tbody tr th {\n",
              "        vertical-align: top;\n",
              "    }\n",
              "\n",
              "    .dataframe thead th {\n",
              "        text-align: right;\n",
              "    }\n",
              "</style>\n",
              "<table border=\"1\" class=\"dataframe\">\n",
              "  <thead>\n",
              "    <tr style=\"text-align: right;\">\n",
              "      <th></th>\n",
              "      <th>Frame_ID</th>\n",
              "      <th>Emotion</th>\n",
              "    </tr>\n",
              "  </thead>\n",
              "  <tbody>\n",
              "    <tr>\n",
              "      <th>0</th>\n",
              "      <td>0</td>\n",
              "      <td>2</td>\n",
              "    </tr>\n",
              "    <tr>\n",
              "      <th>1</th>\n",
              "      <td>1</td>\n",
              "      <td>2</td>\n",
              "    </tr>\n",
              "    <tr>\n",
              "      <th>2</th>\n",
              "      <td>112</td>\n",
              "      <td>4</td>\n",
              "    </tr>\n",
              "    <tr>\n",
              "      <th>3</th>\n",
              "      <td>221</td>\n",
              "      <td>4</td>\n",
              "    </tr>\n",
              "    <tr>\n",
              "      <th>4</th>\n",
              "      <td>232</td>\n",
              "      <td>1</td>\n",
              "    </tr>\n",
              "  </tbody>\n",
              "</table>\n",
              "</div>\n",
              "      <button class=\"colab-df-convert\" onclick=\"convertToInteractive('df-51b52155-794e-408a-84ff-2cf9e48fd09a')\"\n",
              "              title=\"Convert this dataframe to an interactive table.\"\n",
              "              style=\"display:none;\">\n",
              "        \n",
              "  <svg xmlns=\"http://www.w3.org/2000/svg\" height=\"24px\"viewBox=\"0 0 24 24\"\n",
              "       width=\"24px\">\n",
              "    <path d=\"M0 0h24v24H0V0z\" fill=\"none\"/>\n",
              "    <path d=\"M18.56 5.44l.94 2.06.94-2.06 2.06-.94-2.06-.94-.94-2.06-.94 2.06-2.06.94zm-11 1L8.5 8.5l.94-2.06 2.06-.94-2.06-.94L8.5 2.5l-.94 2.06-2.06.94zm10 10l.94 2.06.94-2.06 2.06-.94-2.06-.94-.94-2.06-.94 2.06-2.06.94z\"/><path d=\"M17.41 7.96l-1.37-1.37c-.4-.4-.92-.59-1.43-.59-.52 0-1.04.2-1.43.59L10.3 9.45l-7.72 7.72c-.78.78-.78 2.05 0 2.83L4 21.41c.39.39.9.59 1.41.59.51 0 1.02-.2 1.41-.59l7.78-7.78 2.81-2.81c.8-.78.8-2.07 0-2.86zM5.41 20L4 18.59l7.72-7.72 1.47 1.35L5.41 20z\"/>\n",
              "  </svg>\n",
              "      </button>\n",
              "      \n",
              "  <style>\n",
              "    .colab-df-container {\n",
              "      display:flex;\n",
              "      flex-wrap:wrap;\n",
              "      gap: 12px;\n",
              "    }\n",
              "\n",
              "    .colab-df-convert {\n",
              "      background-color: #E8F0FE;\n",
              "      border: none;\n",
              "      border-radius: 50%;\n",
              "      cursor: pointer;\n",
              "      display: none;\n",
              "      fill: #1967D2;\n",
              "      height: 32px;\n",
              "      padding: 0 0 0 0;\n",
              "      width: 32px;\n",
              "    }\n",
              "\n",
              "    .colab-df-convert:hover {\n",
              "      background-color: #E2EBFA;\n",
              "      box-shadow: 0px 1px 2px rgba(60, 64, 67, 0.3), 0px 1px 3px 1px rgba(60, 64, 67, 0.15);\n",
              "      fill: #174EA6;\n",
              "    }\n",
              "\n",
              "    [theme=dark] .colab-df-convert {\n",
              "      background-color: #3B4455;\n",
              "      fill: #D2E3FC;\n",
              "    }\n",
              "\n",
              "    [theme=dark] .colab-df-convert:hover {\n",
              "      background-color: #434B5C;\n",
              "      box-shadow: 0px 1px 3px 1px rgba(0, 0, 0, 0.15);\n",
              "      filter: drop-shadow(0px 1px 2px rgba(0, 0, 0, 0.3));\n",
              "      fill: #FFFFFF;\n",
              "    }\n",
              "  </style>\n",
              "\n",
              "      <script>\n",
              "        const buttonEl =\n",
              "          document.querySelector('#df-51b52155-794e-408a-84ff-2cf9e48fd09a button.colab-df-convert');\n",
              "        buttonEl.style.display =\n",
              "          google.colab.kernel.accessAllowed ? 'block' : 'none';\n",
              "\n",
              "        async function convertToInteractive(key) {\n",
              "          const element = document.querySelector('#df-51b52155-794e-408a-84ff-2cf9e48fd09a');\n",
              "          const dataTable =\n",
              "            await google.colab.kernel.invokeFunction('convertToInteractive',\n",
              "                                                     [key], {});\n",
              "          if (!dataTable) return;\n",
              "\n",
              "          const docLinkHtml = 'Like what you see? Visit the ' +\n",
              "            '<a target=\"_blank\" href=https://colab.research.google.com/notebooks/data_table.ipynb>data table notebook</a>'\n",
              "            + ' to learn more about interactive tables.';\n",
              "          element.innerHTML = '';\n",
              "          dataTable['output_type'] = 'display_data';\n",
              "          await google.colab.output.renderOutput(dataTable, element);\n",
              "          const docLink = document.createElement('div');\n",
              "          docLink.innerHTML = docLinkHtml;\n",
              "          element.appendChild(docLink);\n",
              "        }\n",
              "      </script>\n",
              "    </div>\n",
              "  </div>\n",
              "  "
            ]
          },
          "metadata": {},
          "execution_count": 5
        }
      ]
    },
    {
      "cell_type": "code",
      "source": [
        "df.tail()"
      ],
      "metadata": {
        "colab": {
          "base_uri": "https://localhost:8080/",
          "height": 206
        },
        "id": "crULNxzxwt4j",
        "outputId": "85a62463-0dd5-4a15-955f-cc6e9bac6a03"
      },
      "execution_count": null,
      "outputs": [
        {
          "output_type": "execute_result",
          "data": {
            "text/plain": [
              "     Frame_ID  Emotion\n",
              "293       216        0\n",
              "294       217        0\n",
              "295       218        0\n",
              "296       219        0\n",
              "297       220        0"
            ],
            "text/html": [
              "\n",
              "  <div id=\"df-1e75a65e-a353-4822-886d-b3dac39f225a\">\n",
              "    <div class=\"colab-df-container\">\n",
              "      <div>\n",
              "<style scoped>\n",
              "    .dataframe tbody tr th:only-of-type {\n",
              "        vertical-align: middle;\n",
              "    }\n",
              "\n",
              "    .dataframe tbody tr th {\n",
              "        vertical-align: top;\n",
              "    }\n",
              "\n",
              "    .dataframe thead th {\n",
              "        text-align: right;\n",
              "    }\n",
              "</style>\n",
              "<table border=\"1\" class=\"dataframe\">\n",
              "  <thead>\n",
              "    <tr style=\"text-align: right;\">\n",
              "      <th></th>\n",
              "      <th>Frame_ID</th>\n",
              "      <th>Emotion</th>\n",
              "    </tr>\n",
              "  </thead>\n",
              "  <tbody>\n",
              "    <tr>\n",
              "      <th>293</th>\n",
              "      <td>216</td>\n",
              "      <td>0</td>\n",
              "    </tr>\n",
              "    <tr>\n",
              "      <th>294</th>\n",
              "      <td>217</td>\n",
              "      <td>0</td>\n",
              "    </tr>\n",
              "    <tr>\n",
              "      <th>295</th>\n",
              "      <td>218</td>\n",
              "      <td>0</td>\n",
              "    </tr>\n",
              "    <tr>\n",
              "      <th>296</th>\n",
              "      <td>219</td>\n",
              "      <td>0</td>\n",
              "    </tr>\n",
              "    <tr>\n",
              "      <th>297</th>\n",
              "      <td>220</td>\n",
              "      <td>0</td>\n",
              "    </tr>\n",
              "  </tbody>\n",
              "</table>\n",
              "</div>\n",
              "      <button class=\"colab-df-convert\" onclick=\"convertToInteractive('df-1e75a65e-a353-4822-886d-b3dac39f225a')\"\n",
              "              title=\"Convert this dataframe to an interactive table.\"\n",
              "              style=\"display:none;\">\n",
              "        \n",
              "  <svg xmlns=\"http://www.w3.org/2000/svg\" height=\"24px\"viewBox=\"0 0 24 24\"\n",
              "       width=\"24px\">\n",
              "    <path d=\"M0 0h24v24H0V0z\" fill=\"none\"/>\n",
              "    <path d=\"M18.56 5.44l.94 2.06.94-2.06 2.06-.94-2.06-.94-.94-2.06-.94 2.06-2.06.94zm-11 1L8.5 8.5l.94-2.06 2.06-.94-2.06-.94L8.5 2.5l-.94 2.06-2.06.94zm10 10l.94 2.06.94-2.06 2.06-.94-2.06-.94-.94-2.06-.94 2.06-2.06.94z\"/><path d=\"M17.41 7.96l-1.37-1.37c-.4-.4-.92-.59-1.43-.59-.52 0-1.04.2-1.43.59L10.3 9.45l-7.72 7.72c-.78.78-.78 2.05 0 2.83L4 21.41c.39.39.9.59 1.41.59.51 0 1.02-.2 1.41-.59l7.78-7.78 2.81-2.81c.8-.78.8-2.07 0-2.86zM5.41 20L4 18.59l7.72-7.72 1.47 1.35L5.41 20z\"/>\n",
              "  </svg>\n",
              "      </button>\n",
              "      \n",
              "  <style>\n",
              "    .colab-df-container {\n",
              "      display:flex;\n",
              "      flex-wrap:wrap;\n",
              "      gap: 12px;\n",
              "    }\n",
              "\n",
              "    .colab-df-convert {\n",
              "      background-color: #E8F0FE;\n",
              "      border: none;\n",
              "      border-radius: 50%;\n",
              "      cursor: pointer;\n",
              "      display: none;\n",
              "      fill: #1967D2;\n",
              "      height: 32px;\n",
              "      padding: 0 0 0 0;\n",
              "      width: 32px;\n",
              "    }\n",
              "\n",
              "    .colab-df-convert:hover {\n",
              "      background-color: #E2EBFA;\n",
              "      box-shadow: 0px 1px 2px rgba(60, 64, 67, 0.3), 0px 1px 3px 1px rgba(60, 64, 67, 0.15);\n",
              "      fill: #174EA6;\n",
              "    }\n",
              "\n",
              "    [theme=dark] .colab-df-convert {\n",
              "      background-color: #3B4455;\n",
              "      fill: #D2E3FC;\n",
              "    }\n",
              "\n",
              "    [theme=dark] .colab-df-convert:hover {\n",
              "      background-color: #434B5C;\n",
              "      box-shadow: 0px 1px 3px 1px rgba(0, 0, 0, 0.15);\n",
              "      filter: drop-shadow(0px 1px 2px rgba(0, 0, 0, 0.3));\n",
              "      fill: #FFFFFF;\n",
              "    }\n",
              "  </style>\n",
              "\n",
              "      <script>\n",
              "        const buttonEl =\n",
              "          document.querySelector('#df-1e75a65e-a353-4822-886d-b3dac39f225a button.colab-df-convert');\n",
              "        buttonEl.style.display =\n",
              "          google.colab.kernel.accessAllowed ? 'block' : 'none';\n",
              "\n",
              "        async function convertToInteractive(key) {\n",
              "          const element = document.querySelector('#df-1e75a65e-a353-4822-886d-b3dac39f225a');\n",
              "          const dataTable =\n",
              "            await google.colab.kernel.invokeFunction('convertToInteractive',\n",
              "                                                     [key], {});\n",
              "          if (!dataTable) return;\n",
              "\n",
              "          const docLinkHtml = 'Like what you see? Visit the ' +\n",
              "            '<a target=\"_blank\" href=https://colab.research.google.com/notebooks/data_table.ipynb>data table notebook</a>'\n",
              "            + ' to learn more about interactive tables.';\n",
              "          element.innerHTML = '';\n",
              "          dataTable['output_type'] = 'display_data';\n",
              "          await google.colab.output.renderOutput(dataTable, element);\n",
              "          const docLink = document.createElement('div');\n",
              "          docLink.innerHTML = docLinkHtml;\n",
              "          element.appendChild(docLink);\n",
              "        }\n",
              "      </script>\n",
              "    </div>\n",
              "  </div>\n",
              "  "
            ]
          },
          "metadata": {},
          "execution_count": 6
        }
      ]
    },
    {
      "cell_type": "code",
      "source": [
        "df.info()"
      ],
      "metadata": {
        "colab": {
          "base_uri": "https://localhost:8080/"
        },
        "id": "d14Rx7CWwwHL",
        "outputId": "710eb753-a3a5-4174-98fe-e9064b3bfd99"
      },
      "execution_count": null,
      "outputs": [
        {
          "output_type": "stream",
          "name": "stdout",
          "text": [
            "<class 'pandas.core.frame.DataFrame'>\n",
            "RangeIndex: 298 entries, 0 to 297\n",
            "Data columns (total 2 columns):\n",
            " #   Column    Non-Null Count  Dtype\n",
            "---  ------    --------------  -----\n",
            " 0   Frame_ID  298 non-null    int64\n",
            " 1   Emotion   298 non-null    int64\n",
            "dtypes: int64(2)\n",
            "memory usage: 4.8 KB\n"
          ]
        }
      ]
    },
    {
      "cell_type": "code",
      "source": [
        "df.shape"
      ],
      "metadata": {
        "colab": {
          "base_uri": "https://localhost:8080/"
        },
        "id": "CbxVCYLjwz-T",
        "outputId": "69067cba-b046-4659-a879-a98547a945de"
      },
      "execution_count": null,
      "outputs": [
        {
          "output_type": "execute_result",
          "data": {
            "text/plain": [
              "(298, 2)"
            ]
          },
          "metadata": {},
          "execution_count": 8
        }
      ]
    },
    {
      "cell_type": "code",
      "source": [
        "df.describe()"
      ],
      "metadata": {
        "colab": {
          "base_uri": "https://localhost:8080/",
          "height": 300
        },
        "id": "sEc5MZIxw2Ej",
        "outputId": "e6fe9a31-fee9-4196-bf3d-c6662228f7fd"
      },
      "execution_count": null,
      "outputs": [
        {
          "output_type": "execute_result",
          "data": {
            "text/plain": [
              "         Frame_ID     Emotion\n",
              "count  298.000000  298.000000\n",
              "mean   148.483221    1.687919\n",
              "std     86.140876    1.624700\n",
              "min      0.000000    0.000000\n",
              "25%     74.250000    0.000000\n",
              "50%    148.500000    1.000000\n",
              "75%    222.750000    3.000000\n",
              "max    296.000000    4.000000"
            ],
            "text/html": [
              "\n",
              "  <div id=\"df-1ac6b68f-98a4-4f9f-8a32-3a044374bb9b\">\n",
              "    <div class=\"colab-df-container\">\n",
              "      <div>\n",
              "<style scoped>\n",
              "    .dataframe tbody tr th:only-of-type {\n",
              "        vertical-align: middle;\n",
              "    }\n",
              "\n",
              "    .dataframe tbody tr th {\n",
              "        vertical-align: top;\n",
              "    }\n",
              "\n",
              "    .dataframe thead th {\n",
              "        text-align: right;\n",
              "    }\n",
              "</style>\n",
              "<table border=\"1\" class=\"dataframe\">\n",
              "  <thead>\n",
              "    <tr style=\"text-align: right;\">\n",
              "      <th></th>\n",
              "      <th>Frame_ID</th>\n",
              "      <th>Emotion</th>\n",
              "    </tr>\n",
              "  </thead>\n",
              "  <tbody>\n",
              "    <tr>\n",
              "      <th>count</th>\n",
              "      <td>298.000000</td>\n",
              "      <td>298.000000</td>\n",
              "    </tr>\n",
              "    <tr>\n",
              "      <th>mean</th>\n",
              "      <td>148.483221</td>\n",
              "      <td>1.687919</td>\n",
              "    </tr>\n",
              "    <tr>\n",
              "      <th>std</th>\n",
              "      <td>86.140876</td>\n",
              "      <td>1.624700</td>\n",
              "    </tr>\n",
              "    <tr>\n",
              "      <th>min</th>\n",
              "      <td>0.000000</td>\n",
              "      <td>0.000000</td>\n",
              "    </tr>\n",
              "    <tr>\n",
              "      <th>25%</th>\n",
              "      <td>74.250000</td>\n",
              "      <td>0.000000</td>\n",
              "    </tr>\n",
              "    <tr>\n",
              "      <th>50%</th>\n",
              "      <td>148.500000</td>\n",
              "      <td>1.000000</td>\n",
              "    </tr>\n",
              "    <tr>\n",
              "      <th>75%</th>\n",
              "      <td>222.750000</td>\n",
              "      <td>3.000000</td>\n",
              "    </tr>\n",
              "    <tr>\n",
              "      <th>max</th>\n",
              "      <td>296.000000</td>\n",
              "      <td>4.000000</td>\n",
              "    </tr>\n",
              "  </tbody>\n",
              "</table>\n",
              "</div>\n",
              "      <button class=\"colab-df-convert\" onclick=\"convertToInteractive('df-1ac6b68f-98a4-4f9f-8a32-3a044374bb9b')\"\n",
              "              title=\"Convert this dataframe to an interactive table.\"\n",
              "              style=\"display:none;\">\n",
              "        \n",
              "  <svg xmlns=\"http://www.w3.org/2000/svg\" height=\"24px\"viewBox=\"0 0 24 24\"\n",
              "       width=\"24px\">\n",
              "    <path d=\"M0 0h24v24H0V0z\" fill=\"none\"/>\n",
              "    <path d=\"M18.56 5.44l.94 2.06.94-2.06 2.06-.94-2.06-.94-.94-2.06-.94 2.06-2.06.94zm-11 1L8.5 8.5l.94-2.06 2.06-.94-2.06-.94L8.5 2.5l-.94 2.06-2.06.94zm10 10l.94 2.06.94-2.06 2.06-.94-2.06-.94-.94-2.06-.94 2.06-2.06.94z\"/><path d=\"M17.41 7.96l-1.37-1.37c-.4-.4-.92-.59-1.43-.59-.52 0-1.04.2-1.43.59L10.3 9.45l-7.72 7.72c-.78.78-.78 2.05 0 2.83L4 21.41c.39.39.9.59 1.41.59.51 0 1.02-.2 1.41-.59l7.78-7.78 2.81-2.81c.8-.78.8-2.07 0-2.86zM5.41 20L4 18.59l7.72-7.72 1.47 1.35L5.41 20z\"/>\n",
              "  </svg>\n",
              "      </button>\n",
              "      \n",
              "  <style>\n",
              "    .colab-df-container {\n",
              "      display:flex;\n",
              "      flex-wrap:wrap;\n",
              "      gap: 12px;\n",
              "    }\n",
              "\n",
              "    .colab-df-convert {\n",
              "      background-color: #E8F0FE;\n",
              "      border: none;\n",
              "      border-radius: 50%;\n",
              "      cursor: pointer;\n",
              "      display: none;\n",
              "      fill: #1967D2;\n",
              "      height: 32px;\n",
              "      padding: 0 0 0 0;\n",
              "      width: 32px;\n",
              "    }\n",
              "\n",
              "    .colab-df-convert:hover {\n",
              "      background-color: #E2EBFA;\n",
              "      box-shadow: 0px 1px 2px rgba(60, 64, 67, 0.3), 0px 1px 3px 1px rgba(60, 64, 67, 0.15);\n",
              "      fill: #174EA6;\n",
              "    }\n",
              "\n",
              "    [theme=dark] .colab-df-convert {\n",
              "      background-color: #3B4455;\n",
              "      fill: #D2E3FC;\n",
              "    }\n",
              "\n",
              "    [theme=dark] .colab-df-convert:hover {\n",
              "      background-color: #434B5C;\n",
              "      box-shadow: 0px 1px 3px 1px rgba(0, 0, 0, 0.15);\n",
              "      filter: drop-shadow(0px 1px 2px rgba(0, 0, 0, 0.3));\n",
              "      fill: #FFFFFF;\n",
              "    }\n",
              "  </style>\n",
              "\n",
              "      <script>\n",
              "        const buttonEl =\n",
              "          document.querySelector('#df-1ac6b68f-98a4-4f9f-8a32-3a044374bb9b button.colab-df-convert');\n",
              "        buttonEl.style.display =\n",
              "          google.colab.kernel.accessAllowed ? 'block' : 'none';\n",
              "\n",
              "        async function convertToInteractive(key) {\n",
              "          const element = document.querySelector('#df-1ac6b68f-98a4-4f9f-8a32-3a044374bb9b');\n",
              "          const dataTable =\n",
              "            await google.colab.kernel.invokeFunction('convertToInteractive',\n",
              "                                                     [key], {});\n",
              "          if (!dataTable) return;\n",
              "\n",
              "          const docLinkHtml = 'Like what you see? Visit the ' +\n",
              "            '<a target=\"_blank\" href=https://colab.research.google.com/notebooks/data_table.ipynb>data table notebook</a>'\n",
              "            + ' to learn more about interactive tables.';\n",
              "          element.innerHTML = '';\n",
              "          dataTable['output_type'] = 'display_data';\n",
              "          await google.colab.output.renderOutput(dataTable, element);\n",
              "          const docLink = document.createElement('div');\n",
              "          docLink.innerHTML = docLinkHtml;\n",
              "          element.appendChild(docLink);\n",
              "        }\n",
              "      </script>\n",
              "    </div>\n",
              "  </div>\n",
              "  "
            ]
          },
          "metadata": {},
          "execution_count": 9
        }
      ]
    },
    {
      "cell_type": "code",
      "source": [
        "df.nunique()"
      ],
      "metadata": {
        "colab": {
          "base_uri": "https://localhost:8080/"
        },
        "id": "HHuK0nPrw487",
        "outputId": "29cd2d81-077b-4d8b-9d60-d3b43f4740f2"
      },
      "execution_count": null,
      "outputs": [
        {
          "output_type": "execute_result",
          "data": {
            "text/plain": [
              "Frame_ID    297\n",
              "Emotion       5\n",
              "dtype: int64"
            ]
          },
          "metadata": {},
          "execution_count": 10
        }
      ]
    },
    {
      "cell_type": "code",
      "source": [
        "df.isnull().sum()"
      ],
      "metadata": {
        "colab": {
          "base_uri": "https://localhost:8080/"
        },
        "id": "-qZA-4UYw8lk",
        "outputId": "122564c6-d755-41ad-acb2-9a6e16378475"
      },
      "execution_count": null,
      "outputs": [
        {
          "output_type": "execute_result",
          "data": {
            "text/plain": [
              "Frame_ID    0\n",
              "Emotion     0\n",
              "dtype: int64"
            ]
          },
          "metadata": {},
          "execution_count": 11
        }
      ]
    },
    {
      "cell_type": "code",
      "source": [
        "df.isnull()"
      ],
      "metadata": {
        "colab": {
          "base_uri": "https://localhost:8080/",
          "height": 423
        },
        "id": "SGDhy-DMxA1j",
        "outputId": "9550a6ac-c5e7-495a-a354-2d160c5a797e"
      },
      "execution_count": null,
      "outputs": [
        {
          "output_type": "execute_result",
          "data": {
            "text/plain": [
              "     Frame_ID  Emotion\n",
              "0       False    False\n",
              "1       False    False\n",
              "2       False    False\n",
              "3       False    False\n",
              "4       False    False\n",
              "..        ...      ...\n",
              "293     False    False\n",
              "294     False    False\n",
              "295     False    False\n",
              "296     False    False\n",
              "297     False    False\n",
              "\n",
              "[298 rows x 2 columns]"
            ],
            "text/html": [
              "\n",
              "  <div id=\"df-327f431d-868a-45b0-bb11-59abbf5988a5\">\n",
              "    <div class=\"colab-df-container\">\n",
              "      <div>\n",
              "<style scoped>\n",
              "    .dataframe tbody tr th:only-of-type {\n",
              "        vertical-align: middle;\n",
              "    }\n",
              "\n",
              "    .dataframe tbody tr th {\n",
              "        vertical-align: top;\n",
              "    }\n",
              "\n",
              "    .dataframe thead th {\n",
              "        text-align: right;\n",
              "    }\n",
              "</style>\n",
              "<table border=\"1\" class=\"dataframe\">\n",
              "  <thead>\n",
              "    <tr style=\"text-align: right;\">\n",
              "      <th></th>\n",
              "      <th>Frame_ID</th>\n",
              "      <th>Emotion</th>\n",
              "    </tr>\n",
              "  </thead>\n",
              "  <tbody>\n",
              "    <tr>\n",
              "      <th>0</th>\n",
              "      <td>False</td>\n",
              "      <td>False</td>\n",
              "    </tr>\n",
              "    <tr>\n",
              "      <th>1</th>\n",
              "      <td>False</td>\n",
              "      <td>False</td>\n",
              "    </tr>\n",
              "    <tr>\n",
              "      <th>2</th>\n",
              "      <td>False</td>\n",
              "      <td>False</td>\n",
              "    </tr>\n",
              "    <tr>\n",
              "      <th>3</th>\n",
              "      <td>False</td>\n",
              "      <td>False</td>\n",
              "    </tr>\n",
              "    <tr>\n",
              "      <th>4</th>\n",
              "      <td>False</td>\n",
              "      <td>False</td>\n",
              "    </tr>\n",
              "    <tr>\n",
              "      <th>...</th>\n",
              "      <td>...</td>\n",
              "      <td>...</td>\n",
              "    </tr>\n",
              "    <tr>\n",
              "      <th>293</th>\n",
              "      <td>False</td>\n",
              "      <td>False</td>\n",
              "    </tr>\n",
              "    <tr>\n",
              "      <th>294</th>\n",
              "      <td>False</td>\n",
              "      <td>False</td>\n",
              "    </tr>\n",
              "    <tr>\n",
              "      <th>295</th>\n",
              "      <td>False</td>\n",
              "      <td>False</td>\n",
              "    </tr>\n",
              "    <tr>\n",
              "      <th>296</th>\n",
              "      <td>False</td>\n",
              "      <td>False</td>\n",
              "    </tr>\n",
              "    <tr>\n",
              "      <th>297</th>\n",
              "      <td>False</td>\n",
              "      <td>False</td>\n",
              "    </tr>\n",
              "  </tbody>\n",
              "</table>\n",
              "<p>298 rows × 2 columns</p>\n",
              "</div>\n",
              "      <button class=\"colab-df-convert\" onclick=\"convertToInteractive('df-327f431d-868a-45b0-bb11-59abbf5988a5')\"\n",
              "              title=\"Convert this dataframe to an interactive table.\"\n",
              "              style=\"display:none;\">\n",
              "        \n",
              "  <svg xmlns=\"http://www.w3.org/2000/svg\" height=\"24px\"viewBox=\"0 0 24 24\"\n",
              "       width=\"24px\">\n",
              "    <path d=\"M0 0h24v24H0V0z\" fill=\"none\"/>\n",
              "    <path d=\"M18.56 5.44l.94 2.06.94-2.06 2.06-.94-2.06-.94-.94-2.06-.94 2.06-2.06.94zm-11 1L8.5 8.5l.94-2.06 2.06-.94-2.06-.94L8.5 2.5l-.94 2.06-2.06.94zm10 10l.94 2.06.94-2.06 2.06-.94-2.06-.94-.94-2.06-.94 2.06-2.06.94z\"/><path d=\"M17.41 7.96l-1.37-1.37c-.4-.4-.92-.59-1.43-.59-.52 0-1.04.2-1.43.59L10.3 9.45l-7.72 7.72c-.78.78-.78 2.05 0 2.83L4 21.41c.39.39.9.59 1.41.59.51 0 1.02-.2 1.41-.59l7.78-7.78 2.81-2.81c.8-.78.8-2.07 0-2.86zM5.41 20L4 18.59l7.72-7.72 1.47 1.35L5.41 20z\"/>\n",
              "  </svg>\n",
              "      </button>\n",
              "      \n",
              "  <style>\n",
              "    .colab-df-container {\n",
              "      display:flex;\n",
              "      flex-wrap:wrap;\n",
              "      gap: 12px;\n",
              "    }\n",
              "\n",
              "    .colab-df-convert {\n",
              "      background-color: #E8F0FE;\n",
              "      border: none;\n",
              "      border-radius: 50%;\n",
              "      cursor: pointer;\n",
              "      display: none;\n",
              "      fill: #1967D2;\n",
              "      height: 32px;\n",
              "      padding: 0 0 0 0;\n",
              "      width: 32px;\n",
              "    }\n",
              "\n",
              "    .colab-df-convert:hover {\n",
              "      background-color: #E2EBFA;\n",
              "      box-shadow: 0px 1px 2px rgba(60, 64, 67, 0.3), 0px 1px 3px 1px rgba(60, 64, 67, 0.15);\n",
              "      fill: #174EA6;\n",
              "    }\n",
              "\n",
              "    [theme=dark] .colab-df-convert {\n",
              "      background-color: #3B4455;\n",
              "      fill: #D2E3FC;\n",
              "    }\n",
              "\n",
              "    [theme=dark] .colab-df-convert:hover {\n",
              "      background-color: #434B5C;\n",
              "      box-shadow: 0px 1px 3px 1px rgba(0, 0, 0, 0.15);\n",
              "      filter: drop-shadow(0px 1px 2px rgba(0, 0, 0, 0.3));\n",
              "      fill: #FFFFFF;\n",
              "    }\n",
              "  </style>\n",
              "\n",
              "      <script>\n",
              "        const buttonEl =\n",
              "          document.querySelector('#df-327f431d-868a-45b0-bb11-59abbf5988a5 button.colab-df-convert');\n",
              "        buttonEl.style.display =\n",
              "          google.colab.kernel.accessAllowed ? 'block' : 'none';\n",
              "\n",
              "        async function convertToInteractive(key) {\n",
              "          const element = document.querySelector('#df-327f431d-868a-45b0-bb11-59abbf5988a5');\n",
              "          const dataTable =\n",
              "            await google.colab.kernel.invokeFunction('convertToInteractive',\n",
              "                                                     [key], {});\n",
              "          if (!dataTable) return;\n",
              "\n",
              "          const docLinkHtml = 'Like what you see? Visit the ' +\n",
              "            '<a target=\"_blank\" href=https://colab.research.google.com/notebooks/data_table.ipynb>data table notebook</a>'\n",
              "            + ' to learn more about interactive tables.';\n",
              "          element.innerHTML = '';\n",
              "          dataTable['output_type'] = 'display_data';\n",
              "          await google.colab.output.renderOutput(dataTable, element);\n",
              "          const docLink = document.createElement('div');\n",
              "          docLink.innerHTML = docLinkHtml;\n",
              "          element.appendChild(docLink);\n",
              "        }\n",
              "      </script>\n",
              "    </div>\n",
              "  </div>\n",
              "  "
            ]
          },
          "metadata": {},
          "execution_count": 12
        }
      ]
    },
    {
      "cell_type": "code",
      "source": [
        "plt.scatter(df.Frame_ID,df.Emotion)\n",
        "plt.show()"
      ],
      "metadata": {
        "colab": {
          "base_uri": "https://localhost:8080/",
          "height": 265
        },
        "id": "nnX6P34zxGj8",
        "outputId": "64c7d158-be60-44de-e59c-117a076d021a"
      },
      "execution_count": null,
      "outputs": [
        {
          "output_type": "display_data",
          "data": {
            "text/plain": [
              "<Figure size 432x288 with 1 Axes>"
            ],
            "image/png": "[encoded data removed]"
          },
          "metadata": {
            "needs_background": "light"
          }
        }
      ]
    },
    {
      "cell_type": "code",
      "source": [
        "plt.plot(df.Frame_ID,df.Emotion)\n",
        "plt.show()"
      ],
      "metadata": {
        "colab": {
          "base_uri": "https://localhost:8080/",
          "height": 265
        },
        "id": "gf_7fB9Gxbj8",
        "outputId": "fd4b5171-e69c-44d1-c880-6648162165c5"
      },
      "execution_count": null,
      "outputs": [
        {
          "output_type": "display_data",
          "data": {
            "text/plain": [
              "<Figure size 432x288 with 1 Axes>"
            ],
            "image/png": "[encoded data removed]"
          },
          "metadata": {
            "needs_background": "light"
          }
        }
      ]
    },
    {
      "cell_type": "code",
      "source": [
        "plt.hist(df.Frame_ID)\n",
        "plt.show()"
      ],
      "metadata": {
        "colab": {
          "base_uri": "https://localhost:8080/",
          "height": 265
        },
        "id": "RJ2HkHipxb0c",
        "outputId": "ebc739da-913d-4c70-942b-7d37d7888912"
      },
      "execution_count": null,
      "outputs": [
        {
          "output_type": "display_data",
          "data": {
            "text/plain": [
              "<Figure size 432x288 with 1 Axes>"
            ],
            "image/png": "[encoded data removed]"
          },
          "metadata": {
            "needs_background": "light"
          }
        }
      ]
    },
    {
      "cell_type": "code",
      "source": [
        "x=df.drop('Emotion',axis=1)\n",
        "y=df['Emotion']"
      ],
      "metadata": {
        "id": "ky4eCxLAxcFP"
      },
      "execution_count": null,
      "outputs": []
    },
    {
      "cell_type": "code",
      "source": [
        "for j in col:\n",
        "  sns.boxplot(df[j])\n",
        "  plt.title(j)\n",
        "  plt.show()"
      ],
      "metadata": {
        "colab": {
          "base_uri": "https://localhost:8080/",
          "height": 545
        },
        "id": "_e27ERkEyKeg",
        "outputId": "33a54265-f07b-415c-9dbe-d86fb49b9b77"
      },
      "execution_count": null,
      "outputs": [
        {
          "output_type": "display_data",
          "data": {
            "text/plain": [
              "<Figure size 432x288 with 1 Axes>"
            ],
            "image/png": "[encoded data removed]"
          },
          "metadata": {
            "needs_background": "light"
          }
        },
        {
          "output_type": "display_data",
          "data": {
            "text/plain": [
              "<Figure size 432x288 with 1 Axes>"
            ],
            "image/png": "[encoded data removed]"
          },
          "metadata": {
            "needs_background": "light"
          }
        }
      ]
    },
    {
      "cell_type": "code",
      "source": [
        "x.head(3)"
      ],
      "metadata": {
        "colab": {
          "base_uri": "https://localhost:8080/",
          "height": 143
        },
        "id": "O0U7nDlYyWFo",
        "outputId": "a2cd7b08-cb45-4017-f006-9a1823a93197"
      },
      "execution_count": null,
      "outputs": [
        {
          "output_type": "execute_result",
          "data": {
            "text/plain": [
              "   Frame_ID\n",
              "0         0\n",
              "1         1\n",
              "2       112"
            ],
            "text/html": [
              "\n",
              "  <div id=\"df-b0c82423-bdee-440b-8878-86c88a21e291\">\n",
              "    <div class=\"colab-df-container\">\n",
              "      <div>\n",
              "<style scoped>\n",
              "    .dataframe tbody tr th:only-of-type {\n",
              "        vertical-align: middle;\n",
              "    }\n",
              "\n",
              "    .dataframe tbody tr th {\n",
              "        vertical-align: top;\n",
              "    }\n",
              "\n",
              "    .dataframe thead th {\n",
              "        text-align: right;\n",
              "    }\n",
              "</style>\n",
              "<table border=\"1\" class=\"dataframe\">\n",
              "  <thead>\n",
              "    <tr style=\"text-align: right;\">\n",
              "      <th></th>\n",
              "      <th>Frame_ID</th>\n",
              "    </tr>\n",
              "  </thead>\n",
              "  <tbody>\n",
              "    <tr>\n",
              "      <th>0</th>\n",
              "      <td>0</td>\n",
              "    </tr>\n",
              "    <tr>\n",
              "      <th>1</th>\n",
              "      <td>1</td>\n",
              "    </tr>\n",
              "    <tr>\n",
              "      <th>2</th>\n",
              "      <td>112</td>\n",
              "    </tr>\n",
              "  </tbody>\n",
              "</table>\n",
              "</div>\n",
              "      <button class=\"colab-df-convert\" onclick=\"convertToInteractive('df-b0c82423-bdee-440b-8878-86c88a21e291')\"\n",
              "              title=\"Convert this dataframe to an interactive table.\"\n",
              "              style=\"display:none;\">\n",
              "        \n",
              "  <svg xmlns=\"http://www.w3.org/2000/svg\" height=\"24px\"viewBox=\"0 0 24 24\"\n",
              "       width=\"24px\">\n",
              "    <path d=\"M0 0h24v24H0V0z\" fill=\"none\"/>\n",
              "    <path d=\"M18.56 5.44l.94 2.06.94-2.06 2.06-.94-2.06-.94-.94-2.06-.94 2.06-2.06.94zm-11 1L8.5 8.5l.94-2.06 2.06-.94-2.06-.94L8.5 2.5l-.94 2.06-2.06.94zm10 10l.94 2.06.94-2.06 2.06-.94-2.06-.94-.94-2.06-.94 2.06-2.06.94z\"/><path d=\"M17.41 7.96l-1.37-1.37c-.4-.4-.92-.59-1.43-.59-.52 0-1.04.2-1.43.59L10.3 9.45l-7.72 7.72c-.78.78-.78 2.05 0 2.83L4 21.41c.39.39.9.59 1.41.59.51 0 1.02-.2 1.41-.59l7.78-7.78 2.81-2.81c.8-.78.8-2.07 0-2.86zM5.41 20L4 18.59l7.72-7.72 1.47 1.35L5.41 20z\"/>\n",
              "  </svg>\n",
              "      </button>\n",
              "      \n",
              "  <style>\n",
              "    .colab-df-container {\n",
              "      display:flex;\n",
              "      flex-wrap:wrap;\n",
              "      gap: 12px;\n",
              "    }\n",
              "\n",
              "    .colab-df-convert {\n",
              "      background-color: #E8F0FE;\n",
              "      border: none;\n",
              "      border-radius: 50%;\n",
              "      cursor: pointer;\n",
              "      display: none;\n",
              "      fill: #1967D2;\n",
              "      height: 32px;\n",
              "      padding: 0 0 0 0;\n",
              "      width: 32px;\n",
              "    }\n",
              "\n",
              "    .colab-df-convert:hover {\n",
              "      background-color: #E2EBFA;\n",
              "      box-shadow: 0px 1px 2px rgba(60, 64, 67, 0.3), 0px 1px 3px 1px rgba(60, 64, 67, 0.15);\n",
              "      fill: #174EA6;\n",
              "    }\n",
              "\n",
              "    [theme=dark] .colab-df-convert {\n",
              "      background-color: #3B4455;\n",
              "      fill: #D2E3FC;\n",
              "    }\n",
              "\n",
              "    [theme=dark] .colab-df-convert:hover {\n",
              "      background-color: #434B5C;\n",
              "      box-shadow: 0px 1px 3px 1px rgba(0, 0, 0, 0.15);\n",
              "      filter: drop-shadow(0px 1px 2px rgba(0, 0, 0, 0.3));\n",
              "      fill: #FFFFFF;\n",
              "    }\n",
              "  </style>\n",
              "\n",
              "      <script>\n",
              "        const buttonEl =\n",
              "          document.querySelector('#df-b0c82423-bdee-440b-8878-86c88a21e291 button.colab-df-convert');\n",
              "        buttonEl.style.display =\n",
              "          google.colab.kernel.accessAllowed ? 'block' : 'none';\n",
              "\n",
              "        async function convertToInteractive(key) {\n",
              "          const element = document.querySelector('#df-b0c82423-bdee-440b-8878-86c88a21e291');\n",
              "          const dataTable =\n",
              "            await google.colab.kernel.invokeFunction('convertToInteractive',\n",
              "                                                     [key], {});\n",
              "          if (!dataTable) return;\n",
              "\n",
              "          const docLinkHtml = 'Like what you see? Visit the ' +\n",
              "            '<a target=\"_blank\" href=https://colab.research.google.com/notebooks/data_table.ipynb>data table notebook</a>'\n",
              "            + ' to learn more about interactive tables.';\n",
              "          element.innerHTML = '';\n",
              "          dataTable['output_type'] = 'display_data';\n",
              "          await google.colab.output.renderOutput(dataTable, element);\n",
              "          const docLink = document.createElement('div');\n",
              "          docLink.innerHTML = docLinkHtml;\n",
              "          element.appendChild(docLink);\n",
              "        }\n",
              "      </script>\n",
              "    </div>\n",
              "  </div>\n",
              "  "
            ]
          },
          "metadata": {},
          "execution_count": 19
        }
      ]
    },
    {
      "cell_type": "code",
      "source": [
        "y.head(3)"
      ],
      "metadata": {
        "colab": {
          "base_uri": "https://localhost:8080/"
        },
        "id": "2OjavFqeyX1J",
        "outputId": "7c38200b-f756-433c-e240-e6b8c0d31acb"
      },
      "execution_count": null,
      "outputs": [
        {
          "output_type": "execute_result",
          "data": {
            "text/plain": [
              "0    2\n",
              "1    2\n",
              "2    4\n",
              "Name: Emotion, dtype: int64"
            ]
          },
          "metadata": {},
          "execution_count": 20
        }
      ]
    },
    {
      "cell_type": "code",
      "source": [
        "x_train,x_test,y_train,y_test=train_test_split(x,y,test_size=0.5,random_state=0)\n"
      ],
      "metadata": {
        "id": "7djhdoRjydYX"
      },
      "execution_count": null,
      "outputs": []
    },
    {
      "cell_type": "code",
      "source": [
        "a=StandardScaler()\n",
        "x_train=a.fit_transform(x_train)\n",
        "x_test=a.transform(x_test)"
      ],
      "metadata": {
        "id": "GvOZRA4NynN3"
      },
      "execution_count": null,
      "outputs": []
    },
    {
      "cell_type": "code",
      "source": [
        "clf=DecisionTreeClassifier(criterion=\"entropy\",random_state=0)\n",
        "clf.fit(x_train,y_train)"
      ],
      "metadata": {
        "colab": {
          "base_uri": "https://localhost:8080/",
          "height": 74
        },
        "id": "b9NtUSL2ypEm",
        "outputId": "705894ab-dd99-4b1a-d099-864fefab291e"
      },
      "execution_count": null,
      "outputs": [
        {
          "output_type": "execute_result",
          "data": {
            "text/plain": [
              "DecisionTreeClassifier(criterion='entropy', random_state=0)"
            ],
            "text/html": [
              "<style>#sk-container-id-1 {color: black;background-color: white;}#sk-container-id-1 pre{padding: 0;}#sk-container-id-1 div.sk-toggleable {background-color: white;}#sk-container-id-1 label.sk-toggleable__label {cursor: pointer;display: block;width: 100%;margin-bottom: 0;padding: 0.3em;box-sizing: border-box;text-align: center;}#sk-container-id-1 label.sk-toggleable__label-arrow:before {content: \"▸\";float: left;margin-right: 0.25em;color: #696969;}#sk-container-id-1 label.sk-toggleable__label-arrow:hover:before {color: black;}#sk-container-id-1 div.sk-estimator:hover label.sk-toggleable__label-arrow:before {color: black;}#sk-container-id-1 div.sk-toggleable__content {max-height: 0;max-width: 0;overflow: hidden;text-align: left;background-color: #f0f8ff;}#sk-container-id-1 div.sk-toggleable__content pre {margin: 0.2em;color: black;border-radius: 0.25em;background-color: #f0f8ff;}#sk-container-id-1 input.sk-toggleable__control:checked~div.sk-toggleable__content {max-height: 200px;max-width: 100%;overflow: auto;}#sk-container-id-1 input.sk-toggleable__control:checked~label.sk-toggleable__label-arrow:before {content: \"▾\";}#sk-container-id-1 div.sk-estimator input.sk-toggleable__control:checked~label.sk-toggleable__label {background-color: #d4ebff;}#sk-container-id-1 div.sk-label input.sk-toggleable__control:checked~label.sk-toggleable__label {background-color: #d4ebff;}#sk-container-id-1 input.sk-hidden--visually {border: 0;clip: rect(1px 1px 1px 1px);clip: rect(1px, 1px, 1px, 1px);height: 1px;margin: -1px;overflow: hidden;padding: 0;position: absolute;width: 1px;}#sk-container-id-1 div.sk-estimator {font-family: monospace;background-color: #f0f8ff;border: 1px dotted black;border-radius: 0.25em;box-sizing: border-box;margin-bottom: 0.5em;}#sk-container-id-1 div.sk-estimator:hover {background-color: #d4ebff;}#sk-container-id-1 div.sk-parallel-item::after {content: \"\";width: 100%;border-bottom: 1px solid gray;flex-grow: 1;}#sk-container-id-1 div.sk-label:hover label.sk-toggleable__label {background-color: #d4ebff;}#sk-container-id-1 div.sk-serial::before {content: \"\";position: absolute;border-left: 1px solid gray;box-sizing: border-box;top: 0;bottom: 0;left: 50%;z-index: 0;}#sk-container-id-1 div.sk-serial {display: flex;flex-direction: column;align-items: center;background-color: white;padding-right: 0.2em;padding-left: 0.2em;position: relative;}#sk-container-id-1 div.sk-item {position: relative;z-index: 1;}#sk-container-id-1 div.sk-parallel {display: flex;align-items: stretch;justify-content: center;background-color: white;position: relative;}#sk-container-id-1 div.sk-item::before, #sk-container-id-1 div.sk-parallel-item::before {content: \"\";position: absolute;border-left: 1px solid gray;box-sizing: border-box;top: 0;bottom: 0;left: 50%;z-index: -1;}#sk-container-id-1 div.sk-parallel-item {display: flex;flex-direction: column;z-index: 1;position: relative;background-color: white;}#sk-container-id-1 div.sk-parallel-item:first-child::after {align-self: flex-end;width: 50%;}#sk-container-id-1 div.sk-parallel-item:last-child::after {align-self: flex-start;width: 50%;}#sk-container-id-1 div.sk-parallel-item:only-child::after {width: 0;}#sk-container-id-1 div.sk-dashed-wrapped {border: 1px dashed gray;margin: 0 0.4em 0.5em 0.4em;box-sizing: border-box;padding-bottom: 0.4em;background-color: white;}#sk-container-id-1 div.sk-label label {font-family: monospace;font-weight: bold;display: inline-block;line-height: 1.2em;}#sk-container-id-1 div.sk-label-container {text-align: center;}#sk-container-id-1 div.sk-container {/* jupyter's `normalize.less` sets `[hidden] { display: none; }` but bootstrap.min.css set `[hidden] { display: none !important; }` so we also need the `!important` here to be able to override the default hidden behavior on the sphinx rendered scikit-learn.org. See: https://github.com/scikit-learn/scikit-learn/issues/21755 */display: inline-block !important;position: relative;}#sk-container-id-1 div.sk-text-repr-fallback {display: none;}</style><div id=\"sk-container-id-1\" class=\"sk-top-container\"><div class=\"sk-text-repr-fallback\"><pre>DecisionTreeClassifier(criterion=&#x27;entropy&#x27;, random_state=0)</pre><b>In a Jupyter environment, please rerun this cell to show the HTML representation or trust the notebook. <br />On GitHub, the HTML representation is unable to render, please try loading this page with nbviewer.org.</b></div><div class=\"sk-container\" hidden><div class=\"sk-item\"><div class=\"sk-estimator sk-toggleable\"><input class=\"sk-toggleable__control sk-hidden--visually\" id=\"sk-estimator-id-1\" type=\"checkbox\" checked><label for=\"sk-estimator-id-1\" class=\"sk-toggleable__label sk-toggleable__label-arrow\">DecisionTreeClassifier</label><div class=\"sk-toggleable__content\"><pre>DecisionTreeClassifier(criterion=&#x27;entropy&#x27;, random_state=0)</pre></div></div></div></div></div>"
            ]
          },
          "metadata": {},
          "execution_count": 23
        }
      ]
    },
    {
      "cell_type": "code",
      "source": [
        "y_pred=clf.predict(x_test)"
      ],
      "metadata": {
        "id": "T_eg3HKyytD2"
      },
      "execution_count": null,
      "outputs": []
    },
    {
      "cell_type": "code",
      "source": [
        "cm=confusion_matrix(y_test,y_pred)\n",
        "cm"
      ],
      "metadata": {
        "colab": {
          "base_uri": "https://localhost:8080/"
        },
        "id": "Snv9sul6yxGp",
        "outputId": "06ff8662-3a37-47fb-ddc0-bcf24075dcd0"
      },
      "execution_count": null,
      "outputs": [
        {
          "output_type": "execute_result",
          "data": {
            "text/plain": [
              "array([[43,  5,  5,  5,  6],\n",
              "       [ 6,  9,  0,  1,  1],\n",
              "       [ 2,  0,  6,  2,  4],\n",
              "       [ 1,  0,  3, 12,  1],\n",
              "       [ 4,  7,  3,  5, 18]])"
            ]
          },
          "metadata": {},
          "execution_count": 25
        }
      ]
    },
    {
      "cell_type": "code",
      "source": [
        "import sklearn"
      ],
      "metadata": {
        "id": "e1lQ-ZXey17G"
      },
      "execution_count": null,
      "outputs": []
    },
    {
      "cell_type": "code",
      "source": [
        "from sklearn.metrics import accuracy_score\n",
        "sklearn.metrics.accuracy_score(y_test,y_pred)"
      ],
      "metadata": {
        "colab": {
          "base_uri": "https://localhost:8080/"
        },
        "id": "yHayGcuky4_X",
        "outputId": "f549d8df-685a-471b-84f8-34c56acba14f"
      },
      "execution_count": null,
      "outputs": [
        {
          "output_type": "execute_result",
          "data": {
            "text/plain": [
              "0.5906040268456376"
            ]
          },
          "metadata": {},
          "execution_count": 27
        }
      ]
    },
    {
      "cell_type": "code",
      "source": [
        "import graphviz"
      ],
      "metadata": {
        "id": "ok2HNIu_y6qG"
      },
      "execution_count": null,
      "outputs": []
    },
    {
      "cell_type": "code",
      "source": [
        "graphviz.Source(export_graphviz(clf,feature_names=x.columns,filled=True,))"
      ],
      "metadata": {
        "colab": {
          "base_uri": "https://localhost:8080/",
          "height": 1000
        },
        "id": "lB9McsZXzA0H",
        "outputId": "f31f0fd2-fe75-4e10-dd49-ca7961cab903"
      },
      "execution_count": null,
      "outputs": [
        {
          "output_type": "execute_result",
          "data": {
            "image/svg+xml": "<?xml version=\"1.0\" encoding=\"UTF-8\" standalone=\"no\"?>\n<!DOCTYPE svg PUBLIC \"-//W3C//DTD SVG 1.1//EN\"\n \"http://www.w3.org/Graphics/SVG/1.1/DTD/svg11.dtd\">\n<!-- Generated by graphviz version 2.43.0 (0)\n -->\n<!-- Title: Tree Pages: 1 -->\n<svg width=\"5417pt\" height=\"1205pt\"\n viewBox=\"0.00 0.00 5417.00 1205.00\" xmlns=\"http://www.w3.org/2000/svg\" xmlns:xlink=\"http://www.w3.org/1999/xlink\">\n<g id=\"graph0\" class=\"graph\" transform=\"scale(1 1) rotate(0) translate(4 1201)\">\n<title>Tree</title>\n<polygon fill=\"white\" stroke=\"transparent\" points=\"-4,4 -4,-1201 5413,-1201 5413,4 -4,4\"/>\n<!-- 0 -->\n<g id=\"node1\" class=\"node\">\n<title>0</title>\n<polygon fill=\"#fae9dc\" stroke=\"black\" points=\"3333.5,-1197 3156.5,-1197 3156.5,-1129 3333.5,-1129 3333.5,-1197\"/>\n<text text-anchor=\"middle\" x=\"3245\" y=\"-1181.8\" font-family=\"Helvetica,sans-Serif\" font-size=\"14.00\">Frame_ID &lt;= 0.947</text>\n<text text-anchor=\"middle\" x=\"3245\" y=\"-1166.8\" font-family=\"Helvetica,sans-Serif\" font-size=\"14.00\">entropy = 2.222</text>\n<text text-anchor=\"middle\" x=\"3245\" y=\"-1151.8\" font-family=\"Helvetica,sans-Serif\" font-size=\"14.00\">samples = 149</text>\n<text text-anchor=\"middle\" x=\"3245\" y=\"-1136.8\" font-family=\"Helvetica,sans-Serif\" font-size=\"14.00\">value = [52, 20, 23, 23, 31]</text>\n</g>\n<!-- 1 -->\n<g id=\"node2\" class=\"node\">\n<title>1</title>\n<polygon fill=\"#f7d7c0\" stroke=\"black\" points=\"2701.5,-1093 2524.5,-1093 2524.5,-1025 2701.5,-1025 2701.5,-1093\"/>\n<text text-anchor=\"middle\" x=\"2613\" y=\"-1077.8\" font-family=\"Helvetica,sans-Serif\" font-size=\"14.00\">Frame_ID &lt;= 0.37</text>\n<text text-anchor=\"middle\" x=\"2613\" y=\"-1062.8\" font-family=\"Helvetica,sans-Serif\" font-size=\"14.00\">entropy = 2.125</text>\n<text text-anchor=\"middle\" x=\"2613\" y=\"-1047.8\" font-family=\"Helvetica,sans-Serif\" font-size=\"14.00\">samples = 115</text>\n<text text-anchor=\"middle\" x=\"2613\" y=\"-1032.8\" font-family=\"Helvetica,sans-Serif\" font-size=\"14.00\">value = [49, 18, 13, 17, 18]</text>\n</g>\n<!-- 0&#45;&gt;1 -->\n<g id=\"edge1\" class=\"edge\">\n<title>0&#45;&gt;1</title>\n<path fill=\"none\" stroke=\"black\" d=\"M3156.46,-1147.71C3039.4,-1128.82 2833.77,-1095.63 2711.79,-1075.94\"/>\n<polygon fill=\"black\" stroke=\"black\" points=\"2712.14,-1072.45 2701.71,-1074.32 2711.02,-1079.37 2712.14,-1072.45\"/>\n<text text-anchor=\"middle\" x=\"2716.34\" y=\"-1090.89\" font-family=\"Helvetica,sans-Serif\" font-size=\"14.00\">True</text>\n</g>\n<!-- 108 -->\n<g id=\"node109\" class=\"node\">\n<title>108</title>\n<polygon fill=\"#fce6f7\" stroke=\"black\" points=\"3757.5,-1093 3602.5,-1093 3602.5,-1025 3757.5,-1025 3757.5,-1093\"/>\n<text text-anchor=\"middle\" x=\"3680\" y=\"-1077.8\" font-family=\"Helvetica,sans-Serif\" font-size=\"14.00\">Frame_ID &lt;= 1.421</text>\n<text text-anchor=\"middle\" x=\"3680\" y=\"-1062.8\" font-family=\"Helvetica,sans-Serif\" font-size=\"14.00\">entropy = 2.041</text>\n<text text-anchor=\"middle\" x=\"3680\" y=\"-1047.8\" font-family=\"Helvetica,sans-Serif\" font-size=\"14.00\">samples = 34</text>\n<text text-anchor=\"middle\" x=\"3680\" y=\"-1032.8\" font-family=\"Helvetica,sans-Serif\" font-size=\"14.00\">value = [3, 2, 10, 6, 13]</text>\n</g>\n<!-- 0&#45;&gt;108 -->\n<g id=\"edge108\" class=\"edge\">\n<title>0&#45;&gt;108</title>\n<path fill=\"none\" stroke=\"black\" d=\"M3333.55,-1141.24C3409.15,-1123.51 3517.29,-1098.15 3592.56,-1080.5\"/>\n<polygon fill=\"black\" stroke=\"black\" points=\"3593.56,-1083.86 3602.5,-1078.17 3591.96,-1077.05 3593.56,-1083.86\"/>\n<text text-anchor=\"middle\" x=\"3589.32\" y=\"-1095.72\" font-family=\"Helvetica,sans-Serif\" font-size=\"14.00\">False</text>\n</g>\n<!-- 2 -->\n<g id=\"node3\" class=\"node\">\n<title>2</title>\n<polygon fill=\"#fae8da\" stroke=\"black\" points=\"1647.5,-989 1470.5,-989 1470.5,-921 1647.5,-921 1647.5,-989\"/>\n<text text-anchor=\"middle\" x=\"1559\" y=\"-973.8\" font-family=\"Helvetica,sans-Serif\" font-size=\"14.00\">Frame_ID &lt;= &#45;1.376</text>\n<text text-anchor=\"middle\" x=\"1559\" y=\"-958.8\" font-family=\"Helvetica,sans-Serif\" font-size=\"14.00\">entropy = 2.22</text>\n<text text-anchor=\"middle\" x=\"1559\" y=\"-943.8\" font-family=\"Helvetica,sans-Serif\" font-size=\"14.00\">samples = 88</text>\n<text text-anchor=\"middle\" x=\"1559\" y=\"-928.8\" font-family=\"Helvetica,sans-Serif\" font-size=\"14.00\">value = [31, 18, 12, 14, 13]</text>\n</g>\n<!-- 1&#45;&gt;2 -->\n<g id=\"edge2\" class=\"edge\">\n<title>1&#45;&gt;2</title>\n<path fill=\"none\" stroke=\"black\" d=\"M2524.5,-1049.44C2329.21,-1030.54 1862.53,-985.37 1657.95,-965.58\"/>\n<polygon fill=\"black\" stroke=\"black\" points=\"1658.11,-962.07 1647.82,-964.6 1657.43,-969.04 1658.11,-962.07\"/>\n</g>\n<!-- 85 -->\n<g id=\"node86\" class=\"node\">\n<title>85</title>\n<polygon fill=\"#f0b58a\" stroke=\"black\" points=\"2686.5,-989 2539.5,-989 2539.5,-921 2686.5,-921 2686.5,-989\"/>\n<text text-anchor=\"middle\" x=\"2613\" y=\"-973.8\" font-family=\"Helvetica,sans-Serif\" font-size=\"14.00\">Frame_ID &lt;= 0.466</text>\n<text text-anchor=\"middle\" x=\"2613\" y=\"-958.8\" font-family=\"Helvetica,sans-Serif\" font-size=\"14.00\">entropy = 1.369</text>\n<text text-anchor=\"middle\" x=\"2613\" y=\"-943.8\" font-family=\"Helvetica,sans-Serif\" font-size=\"14.00\">samples = 27</text>\n<text text-anchor=\"middle\" x=\"2613\" y=\"-928.8\" font-family=\"Helvetica,sans-Serif\" font-size=\"14.00\">value = [18, 0, 1, 3, 5]</text>\n</g>\n<!-- 1&#45;&gt;85 -->\n<g id=\"edge85\" class=\"edge\">\n<title>1&#45;&gt;85</title>\n<path fill=\"none\" stroke=\"black\" d=\"M2613,-1024.88C2613,-1016.78 2613,-1007.98 2613,-999.47\"/>\n<polygon fill=\"black\" stroke=\"black\" points=\"2616.5,-999.3 2613,-989.3 2609.5,-999.3 2616.5,-999.3\"/>\n</g>\n<!-- 3 -->\n<g id=\"node4\" class=\"node\">\n<title>3</title>\n<polygon fill=\"#eda876\" stroke=\"black\" points=\"1373.5,-885 1226.5,-885 1226.5,-817 1373.5,-817 1373.5,-885\"/>\n<text text-anchor=\"middle\" x=\"1300\" y=\"-869.8\" font-family=\"Helvetica,sans-Serif\" font-size=\"14.00\">Frame_ID &lt;= &#45;1.636</text>\n<text text-anchor=\"middle\" x=\"1300\" y=\"-854.8\" font-family=\"Helvetica,sans-Serif\" font-size=\"14.00\">entropy = 1.014</text>\n<text text-anchor=\"middle\" x=\"1300\" y=\"-839.8\" font-family=\"Helvetica,sans-Serif\" font-size=\"14.00\">samples = 16</text>\n<text text-anchor=\"middle\" x=\"1300\" y=\"-824.8\" font-family=\"Helvetica,sans-Serif\" font-size=\"14.00\">value = [12, 1, 3, 0, 0]</text>\n</g>\n<!-- 2&#45;&gt;3 -->\n<g id=\"edge3\" class=\"edge\">\n<title>2&#45;&gt;3</title>\n<path fill=\"none\" stroke=\"black\" d=\"M1474.91,-920.88C1445.45,-909.28 1412.41,-896.27 1383.04,-884.7\"/>\n<polygon fill=\"black\" stroke=\"black\" points=\"1384.23,-881.41 1373.64,-881 1381.67,-887.92 1384.23,-881.41\"/>\n</g>\n<!-- 10 -->\n<g id=\"node11\" class=\"node\">\n<title>10</title>\n<polygon fill=\"#fefaf8\" stroke=\"black\" points=\"1644,-885 1474,-885 1474,-817 1644,-817 1644,-885\"/>\n<text text-anchor=\"middle\" x=\"1559\" y=\"-869.8\" font-family=\"Helvetica,sans-Serif\" font-size=\"14.00\">Frame_ID &lt;= &#45;0.014</text>\n<text text-anchor=\"middle\" x=\"1559\" y=\"-854.8\" font-family=\"Helvetica,sans-Serif\" font-size=\"14.00\">entropy = 2.279</text>\n<text text-anchor=\"middle\" x=\"1559\" y=\"-839.8\" font-family=\"Helvetica,sans-Serif\" font-size=\"14.00\">samples = 72</text>\n<text text-anchor=\"middle\" x=\"1559\" y=\"-824.8\" font-family=\"Helvetica,sans-Serif\" font-size=\"14.00\">value = [19, 17, 9, 14, 13]</text>\n</g>\n<!-- 2&#45;&gt;10 -->\n<g id=\"edge10\" class=\"edge\">\n<title>2&#45;&gt;10</title>\n<path fill=\"none\" stroke=\"black\" d=\"M1559,-920.88C1559,-912.78 1559,-903.98 1559,-895.47\"/>\n<polygon fill=\"black\" stroke=\"black\" points=\"1562.5,-895.3 1559,-885.3 1555.5,-895.3 1562.5,-895.3\"/>\n</g>\n<!-- 4 -->\n<g id=\"node5\" class=\"node\">\n<title>4</title>\n<polygon fill=\"#7beed8\" stroke=\"black\" points=\"298,-781 158,-781 158,-713 298,-713 298,-781\"/>\n<text text-anchor=\"middle\" x=\"228\" y=\"-765.8\" font-family=\"Helvetica,sans-Serif\" font-size=\"14.00\">Frame_ID &lt;= &#45;1.664</text>\n<text text-anchor=\"middle\" x=\"228\" y=\"-750.8\" font-family=\"Helvetica,sans-Serif\" font-size=\"14.00\">entropy = 0.811</text>\n<text text-anchor=\"middle\" x=\"228\" y=\"-735.8\" font-family=\"Helvetica,sans-Serif\" font-size=\"14.00\">samples = 4</text>\n<text text-anchor=\"middle\" x=\"228\" y=\"-720.8\" font-family=\"Helvetica,sans-Serif\" font-size=\"14.00\">value = [0, 1, 3, 0, 0]</text>\n</g>\n<!-- 3&#45;&gt;4 -->\n<g id=\"edge4\" class=\"edge\">\n<title>3&#45;&gt;4</title>\n<path fill=\"none\" stroke=\"black\" d=\"M1226.32,-842.99C1032.55,-824.55 509.82,-774.82 308.53,-755.66\"/>\n<polygon fill=\"black\" stroke=\"black\" points=\"308.62,-752.15 298.33,-754.69 307.95,-759.12 308.62,-752.15\"/>\n</g>\n<!-- 9 -->\n<g id=\"node10\" class=\"node\">\n<title>9</title>\n<polygon fill=\"#e58139\" stroke=\"black\" points=\"1373.5,-773.5 1226.5,-773.5 1226.5,-720.5 1373.5,-720.5 1373.5,-773.5\"/>\n<text text-anchor=\"middle\" x=\"1300\" y=\"-758.3\" font-family=\"Helvetica,sans-Serif\" font-size=\"14.00\">entropy = 0.0</text>\n<text text-anchor=\"middle\" x=\"1300\" y=\"-743.3\" font-family=\"Helvetica,sans-Serif\" font-size=\"14.00\">samples = 12</text>\n<text text-anchor=\"middle\" x=\"1300\" y=\"-728.3\" font-family=\"Helvetica,sans-Serif\" font-size=\"14.00\">value = [12, 0, 0, 0, 0]</text>\n</g>\n<!-- 3&#45;&gt;9 -->\n<g id=\"edge9\" class=\"edge\">\n<title>3&#45;&gt;9</title>\n<path fill=\"none\" stroke=\"black\" d=\"M1300,-816.88C1300,-806.33 1300,-794.6 1300,-783.85\"/>\n<polygon fill=\"black\" stroke=\"black\" points=\"1303.5,-783.52 1300,-773.52 1296.5,-783.52 1303.5,-783.52\"/>\n</g>\n<!-- 5 -->\n<g id=\"node6\" class=\"node\">\n<title>5</title>\n<polygon fill=\"#39e5c5\" stroke=\"black\" points=\"140,-669.5 0,-669.5 0,-616.5 140,-616.5 140,-669.5\"/>\n<text text-anchor=\"middle\" x=\"70\" y=\"-654.3\" font-family=\"Helvetica,sans-Serif\" font-size=\"14.00\">entropy = 0.0</text>\n<text text-anchor=\"middle\" x=\"70\" y=\"-639.3\" font-family=\"Helvetica,sans-Serif\" font-size=\"14.00\">samples = 2</text>\n<text text-anchor=\"middle\" x=\"70\" y=\"-624.3\" font-family=\"Helvetica,sans-Serif\" font-size=\"14.00\">value = [0, 0, 2, 0, 0]</text>\n</g>\n<!-- 4&#45;&gt;5 -->\n<g id=\"edge5\" class=\"edge\">\n<title>4&#45;&gt;5</title>\n<path fill=\"none\" stroke=\"black\" d=\"M176.7,-712.88C157.88,-700.73 136.65,-687.03 118.11,-675.06\"/>\n<polygon fill=\"black\" stroke=\"black\" points=\"119.83,-672 109.53,-669.52 116.03,-677.88 119.83,-672\"/>\n</g>\n<!-- 6 -->\n<g id=\"node7\" class=\"node\">\n<title>6</title>\n<polygon fill=\"#ffffff\" stroke=\"black\" points=\"298,-677 158,-677 158,-609 298,-609 298,-677\"/>\n<text text-anchor=\"middle\" x=\"228\" y=\"-661.8\" font-family=\"Helvetica,sans-Serif\" font-size=\"14.00\">Frame_ID &lt;= &#45;1.653</text>\n<text text-anchor=\"middle\" x=\"228\" y=\"-646.8\" font-family=\"Helvetica,sans-Serif\" font-size=\"14.00\">entropy = 1.0</text>\n<text text-anchor=\"middle\" x=\"228\" y=\"-631.8\" font-family=\"Helvetica,sans-Serif\" font-size=\"14.00\">samples = 2</text>\n<text text-anchor=\"middle\" x=\"228\" y=\"-616.8\" font-family=\"Helvetica,sans-Serif\" font-size=\"14.00\">value = [0, 1, 1, 0, 0]</text>\n</g>\n<!-- 4&#45;&gt;6 -->\n<g id=\"edge6\" class=\"edge\">\n<title>4&#45;&gt;6</title>\n<path fill=\"none\" stroke=\"black\" d=\"M228,-712.88C228,-704.78 228,-695.98 228,-687.47\"/>\n<polygon fill=\"black\" stroke=\"black\" points=\"231.5,-687.3 228,-677.3 224.5,-687.3 231.5,-687.3\"/>\n</g>\n<!-- 7 -->\n<g id=\"node8\" class=\"node\">\n<title>7</title>\n<polygon fill=\"#7be539\" stroke=\"black\" points=\"140,-565.5 0,-565.5 0,-512.5 140,-512.5 140,-565.5\"/>\n<text text-anchor=\"middle\" x=\"70\" y=\"-550.3\" font-family=\"Helvetica,sans-Serif\" font-size=\"14.00\">entropy = 0.0</text>\n<text text-anchor=\"middle\" x=\"70\" y=\"-535.3\" font-family=\"Helvetica,sans-Serif\" font-size=\"14.00\">samples = 1</text>\n<text text-anchor=\"middle\" x=\"70\" y=\"-520.3\" font-family=\"Helvetica,sans-Serif\" font-size=\"14.00\">value = [0, 1, 0, 0, 0]</text>\n</g>\n<!-- 6&#45;&gt;7 -->\n<g id=\"edge7\" class=\"edge\">\n<title>6&#45;&gt;7</title>\n<path fill=\"none\" stroke=\"black\" d=\"M176.7,-608.88C157.88,-596.73 136.65,-583.03 118.11,-571.06\"/>\n<polygon fill=\"black\" stroke=\"black\" points=\"119.83,-568 109.53,-565.52 116.03,-573.88 119.83,-568\"/>\n</g>\n<!-- 8 -->\n<g id=\"node9\" class=\"node\">\n<title>8</title>\n<polygon fill=\"#39e5c5\" stroke=\"black\" points=\"298,-565.5 158,-565.5 158,-512.5 298,-512.5 298,-565.5\"/>\n<text text-anchor=\"middle\" x=\"228\" y=\"-550.3\" font-family=\"Helvetica,sans-Serif\" font-size=\"14.00\">entropy = 0.0</text>\n<text text-anchor=\"middle\" x=\"228\" y=\"-535.3\" font-family=\"Helvetica,sans-Serif\" font-size=\"14.00\">samples = 1</text>\n<text text-anchor=\"middle\" x=\"228\" y=\"-520.3\" font-family=\"Helvetica,sans-Serif\" font-size=\"14.00\">value = [0, 0, 1, 0, 0]</text>\n</g>\n<!-- 6&#45;&gt;8 -->\n<g id=\"edge8\" class=\"edge\">\n<title>6&#45;&gt;8</title>\n<path fill=\"none\" stroke=\"black\" d=\"M228,-608.88C228,-598.33 228,-586.6 228,-575.85\"/>\n<polygon fill=\"black\" stroke=\"black\" points=\"231.5,-575.52 228,-565.52 224.5,-575.52 231.5,-575.52\"/>\n</g>\n<!-- 11 -->\n<g id=\"node12\" class=\"node\">\n<title>11</title>\n<polygon fill=\"#fcf1e9\" stroke=\"black\" points=\"1597,-781 1435,-781 1435,-713 1597,-713 1597,-781\"/>\n<text text-anchor=\"middle\" x=\"1516\" y=\"-765.8\" font-family=\"Helvetica,sans-Serif\" font-size=\"14.00\">Frame_ID &lt;= &#45;0.992</text>\n<text text-anchor=\"middle\" x=\"1516\" y=\"-750.8\" font-family=\"Helvetica,sans-Serif\" font-size=\"14.00\">entropy = 2.27</text>\n<text text-anchor=\"middle\" x=\"1516\" y=\"-735.8\" font-family=\"Helvetica,sans-Serif\" font-size=\"14.00\">samples = 57</text>\n<text text-anchor=\"middle\" x=\"1516\" y=\"-720.8\" font-family=\"Helvetica,sans-Serif\" font-size=\"14.00\">value = [17, 8, 9, 11, 12]</text>\n</g>\n<!-- 10&#45;&gt;11 -->\n<g id=\"edge11\" class=\"edge\">\n<title>10&#45;&gt;11</title>\n<path fill=\"none\" stroke=\"black\" d=\"M1545.04,-816.88C1541.51,-808.51 1537.67,-799.4 1533.97,-790.63\"/>\n<polygon fill=\"black\" stroke=\"black\" points=\"1537.15,-789.15 1530.04,-781.3 1530.7,-791.87 1537.15,-789.15\"/>\n</g>\n<!-- 72 -->\n<g id=\"node73\" class=\"node\">\n<title>72</title>\n<polygon fill=\"#bdf29c\" stroke=\"black\" points=\"1867,-781 1727,-781 1727,-713 1867,-713 1867,-781\"/>\n<text text-anchor=\"middle\" x=\"1797\" y=\"-765.8\" font-family=\"Helvetica,sans-Serif\" font-size=\"14.00\">Frame_ID &lt;= 0.144</text>\n<text text-anchor=\"middle\" x=\"1797\" y=\"-750.8\" font-family=\"Helvetica,sans-Serif\" font-size=\"14.00\">entropy = 1.555</text>\n<text text-anchor=\"middle\" x=\"1797\" y=\"-735.8\" font-family=\"Helvetica,sans-Serif\" font-size=\"14.00\">samples = 15</text>\n<text text-anchor=\"middle\" x=\"1797\" y=\"-720.8\" font-family=\"Helvetica,sans-Serif\" font-size=\"14.00\">value = [2, 9, 0, 3, 1]</text>\n</g>\n<!-- 10&#45;&gt;72 -->\n<g id=\"edge72\" class=\"edge\">\n<title>10&#45;&gt;72</title>\n<path fill=\"none\" stroke=\"black\" d=\"M1636.27,-816.88C1662.26,-805.74 1691.29,-793.3 1717.46,-782.09\"/>\n<polygon fill=\"black\" stroke=\"black\" points=\"1719.14,-785.18 1726.95,-778.02 1716.38,-778.74 1719.14,-785.18\"/>\n</g>\n<!-- 12 -->\n<g id=\"node13\" class=\"node\">\n<title>12</title>\n<polygon fill=\"#e1f9d1\" stroke=\"black\" points=\"732,-677 592,-677 592,-609 732,-609 732,-677\"/>\n<text text-anchor=\"middle\" x=\"662\" y=\"-661.8\" font-family=\"Helvetica,sans-Serif\" font-size=\"14.00\">Frame_ID &lt;= &#45;1.269</text>\n<text text-anchor=\"middle\" x=\"662\" y=\"-646.8\" font-family=\"Helvetica,sans-Serif\" font-size=\"14.00\">entropy = 1.99</text>\n<text text-anchor=\"middle\" x=\"662\" y=\"-631.8\" font-family=\"Helvetica,sans-Serif\" font-size=\"14.00\">samples = 17</text>\n<text text-anchor=\"middle\" x=\"662\" y=\"-616.8\" font-family=\"Helvetica,sans-Serif\" font-size=\"14.00\">value = [4, 7, 1, 4, 1]</text>\n</g>\n<!-- 11&#45;&gt;12 -->\n<g id=\"edge12\" class=\"edge\">\n<title>11&#45;&gt;12</title>\n<path fill=\"none\" stroke=\"black\" d=\"M1434.91,-724.02C1417.55,-719.88 1399.24,-715.93 1382,-713 1151.71,-673.82 875.91,-655.15 742.35,-647.87\"/>\n<polygon fill=\"black\" stroke=\"black\" points=\"742.38,-644.36 732.2,-647.32 742,-651.35 742.38,-644.36\"/>\n</g>\n<!-- 35 -->\n<g id=\"node36\" class=\"node\">\n<title>35</title>\n<polygon fill=\"#fdf6f1\" stroke=\"black\" points=\"1593.5,-677 1438.5,-677 1438.5,-609 1593.5,-609 1593.5,-677\"/>\n<text text-anchor=\"middle\" x=\"1516\" y=\"-661.8\" font-family=\"Helvetica,sans-Serif\" font-size=\"14.00\">Frame_ID &lt;= &#45;0.641</text>\n<text text-anchor=\"middle\" x=\"1516\" y=\"-646.8\" font-family=\"Helvetica,sans-Serif\" font-size=\"14.00\">entropy = 2.077</text>\n<text text-anchor=\"middle\" x=\"1516\" y=\"-631.8\" font-family=\"Helvetica,sans-Serif\" font-size=\"14.00\">samples = 40</text>\n<text text-anchor=\"middle\" x=\"1516\" y=\"-616.8\" font-family=\"Helvetica,sans-Serif\" font-size=\"14.00\">value = [13, 1, 8, 7, 11]</text>\n</g>\n<!-- 11&#45;&gt;35 -->\n<g id=\"edge35\" class=\"edge\">\n<title>11&#45;&gt;35</title>\n<path fill=\"none\" stroke=\"black\" d=\"M1516,-712.88C1516,-704.78 1516,-695.98 1516,-687.47\"/>\n<polygon fill=\"black\" stroke=\"black\" points=\"1519.5,-687.3 1516,-677.3 1512.5,-687.3 1519.5,-687.3\"/>\n</g>\n<!-- 13 -->\n<g id=\"node14\" class=\"node\">\n<title>13</title>\n<polygon fill=\"#7d7bee\" stroke=\"black\" points=\"456,-573 316,-573 316,-505 456,-505 456,-573\"/>\n<text text-anchor=\"middle\" x=\"386\" y=\"-557.8\" font-family=\"Helvetica,sans-Serif\" font-size=\"14.00\">Frame_ID &lt;= &#45;1.314</text>\n<text text-anchor=\"middle\" x=\"386\" y=\"-542.8\" font-family=\"Helvetica,sans-Serif\" font-size=\"14.00\">entropy = 0.811</text>\n<text text-anchor=\"middle\" x=\"386\" y=\"-527.8\" font-family=\"Helvetica,sans-Serif\" font-size=\"14.00\">samples = 4</text>\n<text text-anchor=\"middle\" x=\"386\" y=\"-512.8\" font-family=\"Helvetica,sans-Serif\" font-size=\"14.00\">value = [1, 0, 0, 3, 0]</text>\n</g>\n<!-- 12&#45;&gt;13 -->\n<g id=\"edge13\" class=\"edge\">\n<title>12&#45;&gt;13</title>\n<path fill=\"none\" stroke=\"black\" d=\"M592,-616.13C553.56,-601.92 505.73,-584.25 465.84,-569.51\"/>\n<polygon fill=\"black\" stroke=\"black\" points=\"467,-566.2 456.41,-566.02 464.57,-572.77 467,-566.2\"/>\n</g>\n<!-- 18 -->\n<g id=\"node19\" class=\"node\">\n<title>18</title>\n<polygon fill=\"#caf5b0\" stroke=\"black\" points=\"732,-573 592,-573 592,-505 732,-505 732,-573\"/>\n<text text-anchor=\"middle\" x=\"662\" y=\"-557.8\" font-family=\"Helvetica,sans-Serif\" font-size=\"14.00\">Frame_ID &lt;= &#45;1.093</text>\n<text text-anchor=\"middle\" x=\"662\" y=\"-542.8\" font-family=\"Helvetica,sans-Serif\" font-size=\"14.00\">entropy = 1.823</text>\n<text text-anchor=\"middle\" x=\"662\" y=\"-527.8\" font-family=\"Helvetica,sans-Serif\" font-size=\"14.00\">samples = 13</text>\n<text text-anchor=\"middle\" x=\"662\" y=\"-512.8\" font-family=\"Helvetica,sans-Serif\" font-size=\"14.00\">value = [3, 7, 1, 1, 1]</text>\n</g>\n<!-- 12&#45;&gt;18 -->\n<g id=\"edge18\" class=\"edge\">\n<title>12&#45;&gt;18</title>\n<path fill=\"none\" stroke=\"black\" d=\"M662,-608.88C662,-600.78 662,-591.98 662,-583.47\"/>\n<polygon fill=\"black\" stroke=\"black\" points=\"665.5,-583.3 662,-573.3 658.5,-583.3 665.5,-583.3\"/>\n</g>\n<!-- 14 -->\n<g id=\"node15\" class=\"node\">\n<title>14</title>\n<polygon fill=\"#3c39e5\" stroke=\"black\" points=\"238,-461.5 98,-461.5 98,-408.5 238,-408.5 238,-461.5\"/>\n<text text-anchor=\"middle\" x=\"168\" y=\"-446.3\" font-family=\"Helvetica,sans-Serif\" font-size=\"14.00\">entropy = 0.0</text>\n<text text-anchor=\"middle\" x=\"168\" y=\"-431.3\" font-family=\"Helvetica,sans-Serif\" font-size=\"14.00\">samples = 2</text>\n<text text-anchor=\"middle\" x=\"168\" y=\"-416.3\" font-family=\"Helvetica,sans-Serif\" font-size=\"14.00\">value = [0, 0, 0, 2, 0]</text>\n</g>\n<!-- 13&#45;&gt;14 -->\n<g id=\"edge14\" class=\"edge\">\n<title>13&#45;&gt;14</title>\n<path fill=\"none\" stroke=\"black\" d=\"M315.82,-505.17C288.88,-492.56 258.29,-478.25 231.96,-465.93\"/>\n<polygon fill=\"black\" stroke=\"black\" points=\"233.38,-462.73 222.84,-461.66 230.41,-469.07 233.38,-462.73\"/>\n</g>\n<!-- 15 -->\n<g id=\"node16\" class=\"node\">\n<title>15</title>\n<polygon fill=\"#ffffff\" stroke=\"black\" points=\"396,-469 256,-469 256,-401 396,-401 396,-469\"/>\n<text text-anchor=\"middle\" x=\"326\" y=\"-453.8\" font-family=\"Helvetica,sans-Serif\" font-size=\"14.00\">Frame_ID &lt;= &#45;1.291</text>\n<text text-anchor=\"middle\" x=\"326\" y=\"-438.8\" font-family=\"Helvetica,sans-Serif\" font-size=\"14.00\">entropy = 1.0</text>\n<text text-anchor=\"middle\" x=\"326\" y=\"-423.8\" font-family=\"Helvetica,sans-Serif\" font-size=\"14.00\">samples = 2</text>\n<text text-anchor=\"middle\" x=\"326\" y=\"-408.8\" font-family=\"Helvetica,sans-Serif\" font-size=\"14.00\">value = [1, 0, 0, 1, 0]</text>\n</g>\n<!-- 13&#45;&gt;15 -->\n<g id=\"edge15\" class=\"edge\">\n<title>13&#45;&gt;15</title>\n<path fill=\"none\" stroke=\"black\" d=\"M366.52,-504.88C361.49,-496.33 356.01,-487.01 350.75,-478.07\"/>\n<polygon fill=\"black\" stroke=\"black\" points=\"353.67,-476.14 345.59,-469.3 347.64,-479.69 353.67,-476.14\"/>\n</g>\n<!-- 16 -->\n<g id=\"node17\" class=\"node\">\n<title>16</title>\n<polygon fill=\"#e58139\" stroke=\"black\" points=\"198,-357.5 58,-357.5 58,-304.5 198,-304.5 198,-357.5\"/>\n<text text-anchor=\"middle\" x=\"128\" y=\"-342.3\" font-family=\"Helvetica,sans-Serif\" font-size=\"14.00\">entropy = 0.0</text>\n<text text-anchor=\"middle\" x=\"128\" y=\"-327.3\" font-family=\"Helvetica,sans-Serif\" font-size=\"14.00\">samples = 1</text>\n<text text-anchor=\"middle\" x=\"128\" y=\"-312.3\" font-family=\"Helvetica,sans-Serif\" font-size=\"14.00\">value = [1, 0, 0, 0, 0]</text>\n</g>\n<!-- 15&#45;&gt;16 -->\n<g id=\"edge16\" class=\"edge\">\n<title>15&#45;&gt;16</title>\n<path fill=\"none\" stroke=\"black\" d=\"M261.72,-400.88C237.59,-388.46 210.32,-374.41 186.72,-362.25\"/>\n<polygon fill=\"black\" stroke=\"black\" points=\"188.03,-358.99 177.54,-357.52 184.83,-365.21 188.03,-358.99\"/>\n</g>\n<!-- 17 -->\n<g id=\"node18\" class=\"node\">\n<title>17</title>\n<polygon fill=\"#3c39e5\" stroke=\"black\" points=\"356,-357.5 216,-357.5 216,-304.5 356,-304.5 356,-357.5\"/>\n<text text-anchor=\"middle\" x=\"286\" y=\"-342.3\" font-family=\"Helvetica,sans-Serif\" font-size=\"14.00\">entropy = 0.0</text>\n<text text-anchor=\"middle\" x=\"286\" y=\"-327.3\" font-family=\"Helvetica,sans-Serif\" font-size=\"14.00\">samples = 1</text>\n<text text-anchor=\"middle\" x=\"286\" y=\"-312.3\" font-family=\"Helvetica,sans-Serif\" font-size=\"14.00\">value = [0, 0, 0, 1, 0]</text>\n</g>\n<!-- 15&#45;&gt;17 -->\n<g id=\"edge17\" class=\"edge\">\n<title>15&#45;&gt;17</title>\n<path fill=\"none\" stroke=\"black\" d=\"M313.01,-400.88C308.74,-390 303.99,-377.86 299.67,-366.85\"/>\n<polygon fill=\"black\" stroke=\"black\" points=\"302.92,-365.55 296.01,-357.52 296.4,-368.11 302.92,-365.55\"/>\n</g>\n<!-- 19 -->\n<g id=\"node20\" class=\"node\">\n<title>19</title>\n<polygon fill=\"#ffffff\" stroke=\"black\" points=\"633,-469 493,-469 493,-401 633,-401 633,-469\"/>\n<text text-anchor=\"middle\" x=\"563\" y=\"-453.8\" font-family=\"Helvetica,sans-Serif\" font-size=\"14.00\">Frame_ID &lt;= &#45;1.212</text>\n<text text-anchor=\"middle\" x=\"563\" y=\"-438.8\" font-family=\"Helvetica,sans-Serif\" font-size=\"14.00\">entropy = 2.113</text>\n<text text-anchor=\"middle\" x=\"563\" y=\"-423.8\" font-family=\"Helvetica,sans-Serif\" font-size=\"14.00\">samples = 9</text>\n<text text-anchor=\"middle\" x=\"563\" y=\"-408.8\" font-family=\"Helvetica,sans-Serif\" font-size=\"14.00\">value = [3, 3, 1, 1, 1]</text>\n</g>\n<!-- 18&#45;&gt;19 -->\n<g id=\"edge19\" class=\"edge\">\n<title>18&#45;&gt;19</title>\n<path fill=\"none\" stroke=\"black\" d=\"M629.86,-504.88C621.13,-495.89 611.57,-486.04 602.48,-476.68\"/>\n<polygon fill=\"black\" stroke=\"black\" points=\"604.8,-474.04 595.32,-469.3 599.77,-478.91 604.8,-474.04\"/>\n</g>\n<!-- 34 -->\n<g id=\"node35\" class=\"node\">\n<title>34</title>\n<polygon fill=\"#7be539\" stroke=\"black\" points=\"791,-461.5 651,-461.5 651,-408.5 791,-408.5 791,-461.5\"/>\n<text text-anchor=\"middle\" x=\"721\" y=\"-446.3\" font-family=\"Helvetica,sans-Serif\" font-size=\"14.00\">entropy = 0.0</text>\n<text text-anchor=\"middle\" x=\"721\" y=\"-431.3\" font-family=\"Helvetica,sans-Serif\" font-size=\"14.00\">samples = 4</text>\n<text text-anchor=\"middle\" x=\"721\" y=\"-416.3\" font-family=\"Helvetica,sans-Serif\" font-size=\"14.00\">value = [0, 4, 0, 0, 0]</text>\n</g>\n<!-- 18&#45;&gt;34 -->\n<g id=\"edge34\" class=\"edge\">\n<title>18&#45;&gt;34</title>\n<path fill=\"none\" stroke=\"black\" d=\"M681.16,-504.88C687.58,-493.78 694.76,-481.37 701.23,-470.18\"/>\n<polygon fill=\"black\" stroke=\"black\" points=\"704.26,-471.93 706.24,-461.52 698.2,-468.42 704.26,-471.93\"/>\n</g>\n<!-- 20 -->\n<g id=\"node21\" class=\"node\">\n<title>20</title>\n<polygon fill=\"#bdf29c\" stroke=\"black\" points=\"514,-365 374,-365 374,-297 514,-297 514,-365\"/>\n<text text-anchor=\"middle\" x=\"444\" y=\"-349.8\" font-family=\"Helvetica,sans-Serif\" font-size=\"14.00\">Frame_ID &lt;= &#45;1.246</text>\n<text text-anchor=\"middle\" x=\"444\" y=\"-334.8\" font-family=\"Helvetica,sans-Serif\" font-size=\"14.00\">entropy = 0.918</text>\n<text text-anchor=\"middle\" x=\"444\" y=\"-319.8\" font-family=\"Helvetica,sans-Serif\" font-size=\"14.00\">samples = 3</text>\n<text text-anchor=\"middle\" x=\"444\" y=\"-304.8\" font-family=\"Helvetica,sans-Serif\" font-size=\"14.00\">value = [0, 2, 0, 0, 1]</text>\n</g>\n<!-- 19&#45;&gt;20 -->\n<g id=\"edge20\" class=\"edge\">\n<title>19&#45;&gt;20</title>\n<path fill=\"none\" stroke=\"black\" d=\"M524.36,-400.88C513.56,-391.62 501.7,-381.45 490.49,-371.85\"/>\n<polygon fill=\"black\" stroke=\"black\" points=\"492.72,-369.15 482.85,-365.3 488.16,-374.46 492.72,-369.15\"/>\n</g>\n<!-- 23 -->\n<g id=\"node24\" class=\"node\">\n<title>23</title>\n<polygon fill=\"#f5cdb0\" stroke=\"black\" points=\"672,-365 532,-365 532,-297 672,-297 672,-365\"/>\n<text text-anchor=\"middle\" x=\"602\" y=\"-349.8\" font-family=\"Helvetica,sans-Serif\" font-size=\"14.00\">Frame_ID &lt;= &#45;1.144</text>\n<text text-anchor=\"middle\" x=\"602\" y=\"-334.8\" font-family=\"Helvetica,sans-Serif\" font-size=\"14.00\">entropy = 1.792</text>\n<text text-anchor=\"middle\" x=\"602\" y=\"-319.8\" font-family=\"Helvetica,sans-Serif\" font-size=\"14.00\">samples = 6</text>\n<text text-anchor=\"middle\" x=\"602\" y=\"-304.8\" font-family=\"Helvetica,sans-Serif\" font-size=\"14.00\">value = [3, 1, 1, 1, 0]</text>\n</g>\n<!-- 19&#45;&gt;23 -->\n<g id=\"edge23\" class=\"edge\">\n<title>19&#45;&gt;23</title>\n<path fill=\"none\" stroke=\"black\" d=\"M575.66,-400.88C578.83,-392.6 582.27,-383.6 585.59,-374.91\"/>\n<polygon fill=\"black\" stroke=\"black\" points=\"588.97,-375.89 589.27,-365.3 582.43,-373.39 588.97,-375.89\"/>\n</g>\n<!-- 21 -->\n<g id=\"node22\" class=\"node\">\n<title>21</title>\n<polygon fill=\"#7be539\" stroke=\"black\" points=\"277,-253.5 137,-253.5 137,-200.5 277,-200.5 277,-253.5\"/>\n<text text-anchor=\"middle\" x=\"207\" y=\"-238.3\" font-family=\"Helvetica,sans-Serif\" font-size=\"14.00\">entropy = 0.0</text>\n<text text-anchor=\"middle\" x=\"207\" y=\"-223.3\" font-family=\"Helvetica,sans-Serif\" font-size=\"14.00\">samples = 2</text>\n<text text-anchor=\"middle\" x=\"207\" y=\"-208.3\" font-family=\"Helvetica,sans-Serif\" font-size=\"14.00\">value = [0, 2, 0, 0, 0]</text>\n</g>\n<!-- 20&#45;&gt;21 -->\n<g id=\"edge21\" class=\"edge\">\n<title>20&#45;&gt;21</title>\n<path fill=\"none\" stroke=\"black\" d=\"M373.85,-299.81C342.93,-286.5 306.7,-270.91 275.92,-257.66\"/>\n<polygon fill=\"black\" stroke=\"black\" points=\"277.12,-254.37 266.55,-253.63 274.35,-260.8 277.12,-254.37\"/>\n</g>\n<!-- 22 -->\n<g id=\"node23\" class=\"node\">\n<title>22</title>\n<polygon fill=\"#e539c0\" stroke=\"black\" points=\"435,-253.5 295,-253.5 295,-200.5 435,-200.5 435,-253.5\"/>\n<text text-anchor=\"middle\" x=\"365\" y=\"-238.3\" font-family=\"Helvetica,sans-Serif\" font-size=\"14.00\">entropy = 0.0</text>\n<text text-anchor=\"middle\" x=\"365\" y=\"-223.3\" font-family=\"Helvetica,sans-Serif\" font-size=\"14.00\">samples = 1</text>\n<text text-anchor=\"middle\" x=\"365\" y=\"-208.3\" font-family=\"Helvetica,sans-Serif\" font-size=\"14.00\">value = [0, 0, 0, 0, 1]</text>\n</g>\n<!-- 20&#45;&gt;22 -->\n<g id=\"edge22\" class=\"edge\">\n<title>20&#45;&gt;22</title>\n<path fill=\"none\" stroke=\"black\" d=\"M418.35,-296.88C409.58,-285.56 399.76,-272.88 390.96,-261.52\"/>\n<polygon fill=\"black\" stroke=\"black\" points=\"393.66,-259.28 384.77,-253.52 388.12,-263.57 393.66,-259.28\"/>\n</g>\n<!-- 24 -->\n<g id=\"node25\" class=\"node\">\n<title>24</title>\n<polygon fill=\"#ffffff\" stroke=\"black\" points=\"593,-261 453,-261 453,-193 593,-193 593,-261\"/>\n<text text-anchor=\"middle\" x=\"523\" y=\"-245.8\" font-family=\"Helvetica,sans-Serif\" font-size=\"14.00\">Frame_ID &lt;= &#45;1.173</text>\n<text text-anchor=\"middle\" x=\"523\" y=\"-230.8\" font-family=\"Helvetica,sans-Serif\" font-size=\"14.00\">entropy = 1.585</text>\n<text text-anchor=\"middle\" x=\"523\" y=\"-215.8\" font-family=\"Helvetica,sans-Serif\" font-size=\"14.00\">samples = 3</text>\n<text text-anchor=\"middle\" x=\"523\" y=\"-200.8\" font-family=\"Helvetica,sans-Serif\" font-size=\"14.00\">value = [1, 0, 1, 1, 0]</text>\n</g>\n<!-- 23&#45;&gt;24 -->\n<g id=\"edge24\" class=\"edge\">\n<title>23&#45;&gt;24</title>\n<path fill=\"none\" stroke=\"black\" d=\"M576.35,-296.88C569.52,-288.07 562.06,-278.43 554.94,-269.24\"/>\n<polygon fill=\"black\" stroke=\"black\" points=\"557.68,-267.06 548.79,-261.3 552.15,-271.35 557.68,-267.06\"/>\n</g>\n<!-- 29 -->\n<g id=\"node30\" class=\"node\">\n<title>29</title>\n<polygon fill=\"#f2c09c\" stroke=\"black\" points=\"751,-261 611,-261 611,-193 751,-193 751,-261\"/>\n<text text-anchor=\"middle\" x=\"681\" y=\"-245.8\" font-family=\"Helvetica,sans-Serif\" font-size=\"14.00\">Frame_ID &lt;= &#45;1.133</text>\n<text text-anchor=\"middle\" x=\"681\" y=\"-230.8\" font-family=\"Helvetica,sans-Serif\" font-size=\"14.00\">entropy = 0.918</text>\n<text text-anchor=\"middle\" x=\"681\" y=\"-215.8\" font-family=\"Helvetica,sans-Serif\" font-size=\"14.00\">samples = 3</text>\n<text text-anchor=\"middle\" x=\"681\" y=\"-200.8\" font-family=\"Helvetica,sans-Serif\" font-size=\"14.00\">value = [2, 1, 0, 0, 0]</text>\n</g>\n<!-- 23&#45;&gt;29 -->\n<g id=\"edge29\" class=\"edge\">\n<title>23&#45;&gt;29</title>\n<path fill=\"none\" stroke=\"black\" d=\"M627.65,-296.88C634.48,-288.07 641.94,-278.43 649.06,-269.24\"/>\n<polygon fill=\"black\" stroke=\"black\" points=\"651.85,-271.35 655.21,-261.3 646.32,-267.06 651.85,-271.35\"/>\n</g>\n<!-- 25 -->\n<g id=\"node26\" class=\"node\">\n<title>25</title>\n<polygon fill=\"#e58139\" stroke=\"black\" points=\"356,-149.5 216,-149.5 216,-96.5 356,-96.5 356,-149.5\"/>\n<text text-anchor=\"middle\" x=\"286\" y=\"-134.3\" font-family=\"Helvetica,sans-Serif\" font-size=\"14.00\">entropy = 0.0</text>\n<text text-anchor=\"middle\" x=\"286\" y=\"-119.3\" font-family=\"Helvetica,sans-Serif\" font-size=\"14.00\">samples = 1</text>\n<text text-anchor=\"middle\" x=\"286\" y=\"-104.3\" font-family=\"Helvetica,sans-Serif\" font-size=\"14.00\">value = [1, 0, 0, 0, 0]</text>\n</g>\n<!-- 24&#45;&gt;25 -->\n<g id=\"edge25\" class=\"edge\">\n<title>24&#45;&gt;25</title>\n<path fill=\"none\" stroke=\"black\" d=\"M452.85,-195.81C421.93,-182.5 385.7,-166.91 354.92,-153.66\"/>\n<polygon fill=\"black\" stroke=\"black\" points=\"356.12,-150.37 345.55,-149.63 353.35,-156.8 356.12,-150.37\"/>\n</g>\n<!-- 26 -->\n<g id=\"node27\" class=\"node\">\n<title>26</title>\n<polygon fill=\"#ffffff\" stroke=\"black\" points=\"514,-157 374,-157 374,-89 514,-89 514,-157\"/>\n<text text-anchor=\"middle\" x=\"444\" y=\"-141.8\" font-family=\"Helvetica,sans-Serif\" font-size=\"14.00\">Frame_ID &lt;= &#45;1.156</text>\n<text text-anchor=\"middle\" x=\"444\" y=\"-126.8\" font-family=\"Helvetica,sans-Serif\" font-size=\"14.00\">entropy = 1.0</text>\n<text text-anchor=\"middle\" x=\"444\" y=\"-111.8\" font-family=\"Helvetica,sans-Serif\" font-size=\"14.00\">samples = 2</text>\n<text text-anchor=\"middle\" x=\"444\" y=\"-96.8\" font-family=\"Helvetica,sans-Serif\" font-size=\"14.00\">value = [0, 0, 1, 1, 0]</text>\n</g>\n<!-- 24&#45;&gt;26 -->\n<g id=\"edge26\" class=\"edge\">\n<title>24&#45;&gt;26</title>\n<path fill=\"none\" stroke=\"black\" d=\"M497.35,-192.88C490.52,-184.07 483.06,-174.43 475.94,-165.24\"/>\n<polygon fill=\"black\" stroke=\"black\" points=\"478.68,-163.06 469.79,-157.3 473.15,-167.35 478.68,-163.06\"/>\n</g>\n<!-- 27 -->\n<g id=\"node28\" class=\"node\">\n<title>27</title>\n<polygon fill=\"#39e5c5\" stroke=\"black\" points=\"396,-53 256,-53 256,0 396,0 396,-53\"/>\n<text text-anchor=\"middle\" x=\"326\" y=\"-37.8\" font-family=\"Helvetica,sans-Serif\" font-size=\"14.00\">entropy = 0.0</text>\n<text text-anchor=\"middle\" x=\"326\" y=\"-22.8\" font-family=\"Helvetica,sans-Serif\" font-size=\"14.00\">samples = 1</text>\n<text text-anchor=\"middle\" x=\"326\" y=\"-7.8\" font-family=\"Helvetica,sans-Serif\" font-size=\"14.00\">value = [0, 0, 1, 0, 0]</text>\n</g>\n<!-- 26&#45;&gt;27 -->\n<g id=\"edge27\" class=\"edge\">\n<title>26&#45;&gt;27</title>\n<path fill=\"none\" stroke=\"black\" d=\"M402.73,-88.95C390.85,-79.43 377.91,-69.07 366.1,-59.62\"/>\n<polygon fill=\"black\" stroke=\"black\" points=\"368.13,-56.76 358.14,-53.24 363.75,-62.22 368.13,-56.76\"/>\n</g>\n<!-- 28 -->\n<g id=\"node29\" class=\"node\">\n<title>28</title>\n<polygon fill=\"#3c39e5\" stroke=\"black\" points=\"554,-53 414,-53 414,0 554,0 554,-53\"/>\n<text text-anchor=\"middle\" x=\"484\" y=\"-37.8\" font-family=\"Helvetica,sans-Serif\" font-size=\"14.00\">entropy = 0.0</text>\n<text text-anchor=\"middle\" x=\"484\" y=\"-22.8\" font-family=\"Helvetica,sans-Serif\" font-size=\"14.00\">samples = 1</text>\n<text text-anchor=\"middle\" x=\"484\" y=\"-7.8\" font-family=\"Helvetica,sans-Serif\" font-size=\"14.00\">value = [0, 0, 0, 1, 0]</text>\n</g>\n<!-- 26&#45;&gt;28 -->\n<g id=\"edge28\" class=\"edge\">\n<title>26&#45;&gt;28</title>\n<path fill=\"none\" stroke=\"black\" d=\"M457.99,-88.95C461.59,-80.44 465.48,-71.26 469.12,-62.65\"/>\n<polygon fill=\"black\" stroke=\"black\" points=\"472.43,-63.81 473.11,-53.24 465.98,-61.08 472.43,-63.81\"/>\n</g>\n<!-- 30 -->\n<g id=\"node31\" class=\"node\">\n<title>30</title>\n<polygon fill=\"#e58139\" stroke=\"black\" points=\"672,-149.5 532,-149.5 532,-96.5 672,-96.5 672,-149.5\"/>\n<text text-anchor=\"middle\" x=\"602\" y=\"-134.3\" font-family=\"Helvetica,sans-Serif\" font-size=\"14.00\">entropy = 0.0</text>\n<text text-anchor=\"middle\" x=\"602\" y=\"-119.3\" font-family=\"Helvetica,sans-Serif\" font-size=\"14.00\">samples = 1</text>\n<text text-anchor=\"middle\" x=\"602\" y=\"-104.3\" font-family=\"Helvetica,sans-Serif\" font-size=\"14.00\">value = [1, 0, 0, 0, 0]</text>\n</g>\n<!-- 29&#45;&gt;30 -->\n<g id=\"edge30\" class=\"edge\">\n<title>29&#45;&gt;30</title>\n<path fill=\"none\" stroke=\"black\" d=\"M655.35,-192.88C646.58,-181.56 636.76,-168.88 627.96,-157.52\"/>\n<polygon fill=\"black\" stroke=\"black\" points=\"630.66,-155.28 621.77,-149.52 625.12,-159.57 630.66,-155.28\"/>\n</g>\n<!-- 31 -->\n<g id=\"node32\" class=\"node\">\n<title>31</title>\n<polygon fill=\"#ffffff\" stroke=\"black\" points=\"830,-157 690,-157 690,-89 830,-89 830,-157\"/>\n<text text-anchor=\"middle\" x=\"760\" y=\"-141.8\" font-family=\"Helvetica,sans-Serif\" font-size=\"14.00\">Frame_ID &lt;= &#45;1.122</text>\n<text text-anchor=\"middle\" x=\"760\" y=\"-126.8\" font-family=\"Helvetica,sans-Serif\" font-size=\"14.00\">entropy = 1.0</text>\n<text text-anchor=\"middle\" x=\"760\" y=\"-111.8\" font-family=\"Helvetica,sans-Serif\" font-size=\"14.00\">samples = 2</text>\n<text text-anchor=\"middle\" x=\"760\" y=\"-96.8\" font-family=\"Helvetica,sans-Serif\" font-size=\"14.00\">value = [1, 1, 0, 0, 0]</text>\n</g>\n<!-- 29&#45;&gt;31 -->\n<g id=\"edge31\" class=\"edge\">\n<title>29&#45;&gt;31</title>\n<path fill=\"none\" stroke=\"black\" d=\"M706.65,-192.88C713.48,-184.07 720.94,-174.43 728.06,-165.24\"/>\n<polygon fill=\"black\" stroke=\"black\" points=\"730.85,-167.35 734.21,-157.3 725.32,-163.06 730.85,-167.35\"/>\n</g>\n<!-- 32 -->\n<g id=\"node33\" class=\"node\">\n<title>32</title>\n<polygon fill=\"#7be539\" stroke=\"black\" points=\"791,-53 651,-53 651,0 791,0 791,-53\"/>\n<text text-anchor=\"middle\" x=\"721\" y=\"-37.8\" font-family=\"Helvetica,sans-Serif\" font-size=\"14.00\">entropy = 0.0</text>\n<text text-anchor=\"middle\" x=\"721\" y=\"-22.8\" font-family=\"Helvetica,sans-Serif\" font-size=\"14.00\">samples = 1</text>\n<text text-anchor=\"middle\" x=\"721\" y=\"-7.8\" font-family=\"Helvetica,sans-Serif\" font-size=\"14.00\">value = [0, 1, 0, 0, 0]</text>\n</g>\n<!-- 31&#45;&gt;32 -->\n<g id=\"edge32\" class=\"edge\">\n<title>31&#45;&gt;32</title>\n<path fill=\"none\" stroke=\"black\" d=\"M746.36,-88.95C742.85,-80.44 739.06,-71.26 735.5,-62.65\"/>\n<polygon fill=\"black\" stroke=\"black\" points=\"738.67,-61.15 731.62,-53.24 732.2,-63.82 738.67,-61.15\"/>\n</g>\n<!-- 33 -->\n<g id=\"node34\" class=\"node\">\n<title>33</title>\n<polygon fill=\"#e58139\" stroke=\"black\" points=\"949,-53 809,-53 809,0 949,0 949,-53\"/>\n<text text-anchor=\"middle\" x=\"879\" y=\"-37.8\" font-family=\"Helvetica,sans-Serif\" font-size=\"14.00\">entropy = 0.0</text>\n<text text-anchor=\"middle\" x=\"879\" y=\"-22.8\" font-family=\"Helvetica,sans-Serif\" font-size=\"14.00\">samples = 1</text>\n<text text-anchor=\"middle\" x=\"879\" y=\"-7.8\" font-family=\"Helvetica,sans-Serif\" font-size=\"14.00\">value = [1, 0, 0, 0, 0]</text>\n</g>\n<!-- 31&#45;&gt;33 -->\n<g id=\"edge33\" class=\"edge\">\n<title>31&#45;&gt;33</title>\n<path fill=\"none\" stroke=\"black\" d=\"M801.62,-88.95C813.6,-79.43 826.65,-69.07 838.56,-59.62\"/>\n<polygon fill=\"black\" stroke=\"black\" points=\"840.94,-62.2 846.59,-53.24 836.58,-56.71 840.94,-62.2\"/>\n</g>\n<!-- 36 -->\n<g id=\"node37\" class=\"node\">\n<title>36</title>\n<polygon fill=\"#ee81d7\" stroke=\"black\" points=\"1383,-573 1243,-573 1243,-505 1383,-505 1383,-573\"/>\n<text text-anchor=\"middle\" x=\"1313\" y=\"-557.8\" font-family=\"Helvetica,sans-Serif\" font-size=\"14.00\">Frame_ID &lt;= &#45;0.924</text>\n<text text-anchor=\"middle\" x=\"1313\" y=\"-542.8\" font-family=\"Helvetica,sans-Serif\" font-size=\"14.00\">entropy = 1.352</text>\n<text text-anchor=\"middle\" x=\"1313\" y=\"-527.8\" font-family=\"Helvetica,sans-Serif\" font-size=\"14.00\">samples = 13</text>\n<text text-anchor=\"middle\" x=\"1313\" y=\"-512.8\" font-family=\"Helvetica,sans-Serif\" font-size=\"14.00\">value = [2, 0, 1, 1, 9]</text>\n</g>\n<!-- 35&#45;&gt;36 -->\n<g id=\"edge36\" class=\"edge\">\n<title>35&#45;&gt;36</title>\n<path fill=\"none\" stroke=\"black\" d=\"M1450.09,-608.88C1430.22,-598.9 1408.27,-587.87 1387.87,-577.62\"/>\n<polygon fill=\"black\" stroke=\"black\" points=\"1389.43,-574.49 1378.92,-573.12 1386.29,-580.74 1389.43,-574.49\"/>\n</g>\n<!-- 49 -->\n<g id=\"node50\" class=\"node\">\n<title>49</title>\n<polygon fill=\"#fae6d7\" stroke=\"black\" points=\"1860.5,-573 1713.5,-573 1713.5,-505 1860.5,-505 1860.5,-573\"/>\n<text text-anchor=\"middle\" x=\"1787\" y=\"-557.8\" font-family=\"Helvetica,sans-Serif\" font-size=\"14.00\">Frame_ID &lt;= &#45;0.24</text>\n<text text-anchor=\"middle\" x=\"1787\" y=\"-542.8\" font-family=\"Helvetica,sans-Serif\" font-size=\"14.00\">entropy = 1.969</text>\n<text text-anchor=\"middle\" x=\"1787\" y=\"-527.8\" font-family=\"Helvetica,sans-Serif\" font-size=\"14.00\">samples = 27</text>\n<text text-anchor=\"middle\" x=\"1787\" y=\"-512.8\" font-family=\"Helvetica,sans-Serif\" font-size=\"14.00\">value = [11, 1, 7, 6, 2]</text>\n</g>\n<!-- 35&#45;&gt;49 -->\n<g id=\"edge49\" class=\"edge\">\n<title>35&#45;&gt;49</title>\n<path fill=\"none\" stroke=\"black\" d=\"M1593.66,-612.77C1627.97,-599.86 1668.37,-584.65 1703.35,-571.49\"/>\n<polygon fill=\"black\" stroke=\"black\" points=\"1704.93,-574.63 1713.06,-567.83 1702.47,-568.08 1704.93,-574.63\"/>\n</g>\n<!-- 37 -->\n<g id=\"node38\" class=\"node\">\n<title>37</title>\n<polygon fill=\"#e58139\" stroke=\"black\" points=\"1225,-461.5 1085,-461.5 1085,-408.5 1225,-408.5 1225,-461.5\"/>\n<text text-anchor=\"middle\" x=\"1155\" y=\"-446.3\" font-family=\"Helvetica,sans-Serif\" font-size=\"14.00\">entropy = 0.0</text>\n<text text-anchor=\"middle\" x=\"1155\" y=\"-431.3\" font-family=\"Helvetica,sans-Serif\" font-size=\"14.00\">samples = 1</text>\n<text text-anchor=\"middle\" x=\"1155\" y=\"-416.3\" font-family=\"Helvetica,sans-Serif\" font-size=\"14.00\">value = [1, 0, 0, 0, 0]</text>\n</g>\n<!-- 36&#45;&gt;37 -->\n<g id=\"edge37\" class=\"edge\">\n<title>36&#45;&gt;37</title>\n<path fill=\"none\" stroke=\"black\" d=\"M1261.7,-504.88C1242.88,-492.73 1221.65,-479.03 1203.11,-467.06\"/>\n<polygon fill=\"black\" stroke=\"black\" points=\"1204.83,-464 1194.53,-461.52 1201.03,-469.88 1204.83,-464\"/>\n</g>\n<!-- 38 -->\n<g id=\"node39\" class=\"node\">\n<title>38</title>\n<polygon fill=\"#ec6fd1\" stroke=\"black\" points=\"1383,-469 1243,-469 1243,-401 1383,-401 1383,-469\"/>\n<text text-anchor=\"middle\" x=\"1313\" y=\"-453.8\" font-family=\"Helvetica,sans-Serif\" font-size=\"14.00\">Frame_ID &lt;= &#45;0.743</text>\n<text text-anchor=\"middle\" x=\"1313\" y=\"-438.8\" font-family=\"Helvetica,sans-Serif\" font-size=\"14.00\">entropy = 1.208</text>\n<text text-anchor=\"middle\" x=\"1313\" y=\"-423.8\" font-family=\"Helvetica,sans-Serif\" font-size=\"14.00\">samples = 12</text>\n<text text-anchor=\"middle\" x=\"1313\" y=\"-408.8\" font-family=\"Helvetica,sans-Serif\" font-size=\"14.00\">value = [1, 0, 1, 1, 9]</text>\n</g>\n<!-- 36&#45;&gt;38 -->\n<g id=\"edge38\" class=\"edge\">\n<title>36&#45;&gt;38</title>\n<path fill=\"none\" stroke=\"black\" d=\"M1313,-504.88C1313,-496.78 1313,-487.98 1313,-479.47\"/>\n<polygon fill=\"black\" stroke=\"black\" points=\"1316.5,-479.3 1313,-469.3 1309.5,-479.3 1316.5,-479.3\"/>\n</g>\n<!-- 39 -->\n<g id=\"node40\" class=\"node\">\n<title>39</title>\n<polygon fill=\"#e955c9\" stroke=\"black\" points=\"1146,-365 1006,-365 1006,-297 1146,-297 1146,-365\"/>\n<text text-anchor=\"middle\" x=\"1076\" y=\"-349.8\" font-family=\"Helvetica,sans-Serif\" font-size=\"14.00\">Frame_ID &lt;= &#45;0.794</text>\n<text text-anchor=\"middle\" x=\"1076\" y=\"-334.8\" font-family=\"Helvetica,sans-Serif\" font-size=\"14.00\">entropy = 0.544</text>\n<text text-anchor=\"middle\" x=\"1076\" y=\"-319.8\" font-family=\"Helvetica,sans-Serif\" font-size=\"14.00\">samples = 8</text>\n<text text-anchor=\"middle\" x=\"1076\" y=\"-304.8\" font-family=\"Helvetica,sans-Serif\" font-size=\"14.00\">value = [0, 0, 1, 0, 7]</text>\n</g>\n<!-- 38&#45;&gt;39 -->\n<g id=\"edge39\" class=\"edge\">\n<title>38&#45;&gt;39</title>\n<path fill=\"none\" stroke=\"black\" d=\"M1242.85,-403.81C1215.51,-392.04 1184.01,-378.49 1155.8,-366.35\"/>\n<polygon fill=\"black\" stroke=\"black\" points=\"1156.94,-363.03 1146.38,-362.29 1154.18,-369.46 1156.94,-363.03\"/>\n</g>\n<!-- 44 -->\n<g id=\"node45\" class=\"node\">\n<title>44</title>\n<polygon fill=\"#f6bdea\" stroke=\"black\" points=\"1383,-365 1243,-365 1243,-297 1383,-297 1383,-365\"/>\n<text text-anchor=\"middle\" x=\"1313\" y=\"-349.8\" font-family=\"Helvetica,sans-Serif\" font-size=\"14.00\">Frame_ID &lt;= &#45;0.692</text>\n<text text-anchor=\"middle\" x=\"1313\" y=\"-334.8\" font-family=\"Helvetica,sans-Serif\" font-size=\"14.00\">entropy = 1.5</text>\n<text text-anchor=\"middle\" x=\"1313\" y=\"-319.8\" font-family=\"Helvetica,sans-Serif\" font-size=\"14.00\">samples = 4</text>\n<text text-anchor=\"middle\" x=\"1313\" y=\"-304.8\" font-family=\"Helvetica,sans-Serif\" font-size=\"14.00\">value = [1, 0, 0, 1, 2]</text>\n</g>\n<!-- 38&#45;&gt;44 -->\n<g id=\"edge44\" class=\"edge\">\n<title>38&#45;&gt;44</title>\n<path fill=\"none\" stroke=\"black\" d=\"M1313,-400.88C1313,-392.78 1313,-383.98 1313,-375.47\"/>\n<polygon fill=\"black\" stroke=\"black\" points=\"1316.5,-375.3 1313,-365.3 1309.5,-375.3 1316.5,-375.3\"/>\n</g>\n<!-- 40 -->\n<g id=\"node41\" class=\"node\">\n<title>40</title>\n<polygon fill=\"#e539c0\" stroke=\"black\" points=\"988,-253.5 848,-253.5 848,-200.5 988,-200.5 988,-253.5\"/>\n<text text-anchor=\"middle\" x=\"918\" y=\"-238.3\" font-family=\"Helvetica,sans-Serif\" font-size=\"14.00\">entropy = 0.0</text>\n<text text-anchor=\"middle\" x=\"918\" y=\"-223.3\" font-family=\"Helvetica,sans-Serif\" font-size=\"14.00\">samples = 5</text>\n<text text-anchor=\"middle\" x=\"918\" y=\"-208.3\" font-family=\"Helvetica,sans-Serif\" font-size=\"14.00\">value = [0, 0, 0, 0, 5]</text>\n</g>\n<!-- 39&#45;&gt;40 -->\n<g id=\"edge40\" class=\"edge\">\n<title>39&#45;&gt;40</title>\n<path fill=\"none\" stroke=\"black\" d=\"M1024.7,-296.88C1005.88,-284.73 984.65,-271.03 966.11,-259.06\"/>\n<polygon fill=\"black\" stroke=\"black\" points=\"967.83,-256 957.53,-253.52 964.03,-261.88 967.83,-256\"/>\n</g>\n<!-- 41 -->\n<g id=\"node42\" class=\"node\">\n<title>41</title>\n<polygon fill=\"#f29ce0\" stroke=\"black\" points=\"1146,-261 1006,-261 1006,-193 1146,-193 1146,-261\"/>\n<text text-anchor=\"middle\" x=\"1076\" y=\"-245.8\" font-family=\"Helvetica,sans-Serif\" font-size=\"14.00\">Frame_ID &lt;= &#45;0.783</text>\n<text text-anchor=\"middle\" x=\"1076\" y=\"-230.8\" font-family=\"Helvetica,sans-Serif\" font-size=\"14.00\">entropy = 0.918</text>\n<text text-anchor=\"middle\" x=\"1076\" y=\"-215.8\" font-family=\"Helvetica,sans-Serif\" font-size=\"14.00\">samples = 3</text>\n<text text-anchor=\"middle\" x=\"1076\" y=\"-200.8\" font-family=\"Helvetica,sans-Serif\" font-size=\"14.00\">value = [0, 0, 1, 0, 2]</text>\n</g>\n<!-- 39&#45;&gt;41 -->\n<g id=\"edge41\" class=\"edge\">\n<title>39&#45;&gt;41</title>\n<path fill=\"none\" stroke=\"black\" d=\"M1076,-296.88C1076,-288.78 1076,-279.98 1076,-271.47\"/>\n<polygon fill=\"black\" stroke=\"black\" points=\"1079.5,-271.3 1076,-261.3 1072.5,-271.3 1079.5,-271.3\"/>\n</g>\n<!-- 42 -->\n<g id=\"node43\" class=\"node\">\n<title>42</title>\n<polygon fill=\"#39e5c5\" stroke=\"black\" points=\"988,-149.5 848,-149.5 848,-96.5 988,-96.5 988,-149.5\"/>\n<text text-anchor=\"middle\" x=\"918\" y=\"-134.3\" font-family=\"Helvetica,sans-Serif\" font-size=\"14.00\">entropy = 0.0</text>\n<text text-anchor=\"middle\" x=\"918\" y=\"-119.3\" font-family=\"Helvetica,sans-Serif\" font-size=\"14.00\">samples = 1</text>\n<text text-anchor=\"middle\" x=\"918\" y=\"-104.3\" font-family=\"Helvetica,sans-Serif\" font-size=\"14.00\">value = [0, 0, 1, 0, 0]</text>\n</g>\n<!-- 41&#45;&gt;42 -->\n<g id=\"edge42\" class=\"edge\">\n<title>41&#45;&gt;42</title>\n<path fill=\"none\" stroke=\"black\" d=\"M1024.7,-192.88C1005.88,-180.73 984.65,-167.03 966.11,-155.06\"/>\n<polygon fill=\"black\" stroke=\"black\" points=\"967.83,-152 957.53,-149.52 964.03,-157.88 967.83,-152\"/>\n</g>\n<!-- 43 -->\n<g id=\"node44\" class=\"node\">\n<title>43</title>\n<polygon fill=\"#e539c0\" stroke=\"black\" points=\"1146,-149.5 1006,-149.5 1006,-96.5 1146,-96.5 1146,-149.5\"/>\n<text text-anchor=\"middle\" x=\"1076\" y=\"-134.3\" font-family=\"Helvetica,sans-Serif\" font-size=\"14.00\">entropy = 0.0</text>\n<text text-anchor=\"middle\" x=\"1076\" y=\"-119.3\" font-family=\"Helvetica,sans-Serif\" font-size=\"14.00\">samples = 2</text>\n<text text-anchor=\"middle\" x=\"1076\" y=\"-104.3\" font-family=\"Helvetica,sans-Serif\" font-size=\"14.00\">value = [0, 0, 0, 0, 2]</text>\n</g>\n<!-- 41&#45;&gt;43 -->\n<g id=\"edge43\" class=\"edge\">\n<title>41&#45;&gt;43</title>\n<path fill=\"none\" stroke=\"black\" d=\"M1076,-192.88C1076,-182.33 1076,-170.6 1076,-159.85\"/>\n<polygon fill=\"black\" stroke=\"black\" points=\"1079.5,-159.52 1076,-149.52 1072.5,-159.52 1079.5,-159.52\"/>\n</g>\n<!-- 45 -->\n<g id=\"node46\" class=\"node\">\n<title>45</title>\n<polygon fill=\"#ffffff\" stroke=\"black\" points=\"1304,-261 1164,-261 1164,-193 1304,-193 1304,-261\"/>\n<text text-anchor=\"middle\" x=\"1234\" y=\"-245.8\" font-family=\"Helvetica,sans-Serif\" font-size=\"14.00\">Frame_ID &lt;= &#45;0.715</text>\n<text text-anchor=\"middle\" x=\"1234\" y=\"-230.8\" font-family=\"Helvetica,sans-Serif\" font-size=\"14.00\">entropy = 1.0</text>\n<text text-anchor=\"middle\" x=\"1234\" y=\"-215.8\" font-family=\"Helvetica,sans-Serif\" font-size=\"14.00\">samples = 2</text>\n<text text-anchor=\"middle\" x=\"1234\" y=\"-200.8\" font-family=\"Helvetica,sans-Serif\" font-size=\"14.00\">value = [1, 0, 0, 1, 0]</text>\n</g>\n<!-- 44&#45;&gt;45 -->\n<g id=\"edge45\" class=\"edge\">\n<title>44&#45;&gt;45</title>\n<path fill=\"none\" stroke=\"black\" d=\"M1287.35,-296.88C1280.52,-288.07 1273.06,-278.43 1265.94,-269.24\"/>\n<polygon fill=\"black\" stroke=\"black\" points=\"1268.68,-267.06 1259.79,-261.3 1263.15,-271.35 1268.68,-267.06\"/>\n</g>\n<!-- 48 -->\n<g id=\"node49\" class=\"node\">\n<title>48</title>\n<polygon fill=\"#e539c0\" stroke=\"black\" points=\"1462,-253.5 1322,-253.5 1322,-200.5 1462,-200.5 1462,-253.5\"/>\n<text text-anchor=\"middle\" x=\"1392\" y=\"-238.3\" font-family=\"Helvetica,sans-Serif\" font-size=\"14.00\">entropy = 0.0</text>\n<text text-anchor=\"middle\" x=\"1392\" y=\"-223.3\" font-family=\"Helvetica,sans-Serif\" font-size=\"14.00\">samples = 2</text>\n<text text-anchor=\"middle\" x=\"1392\" y=\"-208.3\" font-family=\"Helvetica,sans-Serif\" font-size=\"14.00\">value = [0, 0, 0, 0, 2]</text>\n</g>\n<!-- 44&#45;&gt;48 -->\n<g id=\"edge48\" class=\"edge\">\n<title>44&#45;&gt;48</title>\n<path fill=\"none\" stroke=\"black\" d=\"M1338.65,-296.88C1347.42,-285.56 1357.24,-272.88 1366.04,-261.52\"/>\n<polygon fill=\"black\" stroke=\"black\" points=\"1368.88,-263.57 1372.23,-253.52 1363.34,-259.28 1368.88,-263.57\"/>\n</g>\n<!-- 46 -->\n<g id=\"node47\" class=\"node\">\n<title>46</title>\n<polygon fill=\"#3c39e5\" stroke=\"black\" points=\"1304,-149.5 1164,-149.5 1164,-96.5 1304,-96.5 1304,-149.5\"/>\n<text text-anchor=\"middle\" x=\"1234\" y=\"-134.3\" font-family=\"Helvetica,sans-Serif\" font-size=\"14.00\">entropy = 0.0</text>\n<text text-anchor=\"middle\" x=\"1234\" y=\"-119.3\" font-family=\"Helvetica,sans-Serif\" font-size=\"14.00\">samples = 1</text>\n<text text-anchor=\"middle\" x=\"1234\" y=\"-104.3\" font-family=\"Helvetica,sans-Serif\" font-size=\"14.00\">value = [0, 0, 0, 1, 0]</text>\n</g>\n<!-- 45&#45;&gt;46 -->\n<g id=\"edge46\" class=\"edge\">\n<title>45&#45;&gt;46</title>\n<path fill=\"none\" stroke=\"black\" d=\"M1234,-192.88C1234,-182.33 1234,-170.6 1234,-159.85\"/>\n<polygon fill=\"black\" stroke=\"black\" points=\"1237.5,-159.52 1234,-149.52 1230.5,-159.52 1237.5,-159.52\"/>\n</g>\n<!-- 47 -->\n<g id=\"node48\" class=\"node\">\n<title>47</title>\n<polygon fill=\"#e58139\" stroke=\"black\" points=\"1462,-149.5 1322,-149.5 1322,-96.5 1462,-96.5 1462,-149.5\"/>\n<text text-anchor=\"middle\" x=\"1392\" y=\"-134.3\" font-family=\"Helvetica,sans-Serif\" font-size=\"14.00\">entropy = 0.0</text>\n<text text-anchor=\"middle\" x=\"1392\" y=\"-119.3\" font-family=\"Helvetica,sans-Serif\" font-size=\"14.00\">samples = 1</text>\n<text text-anchor=\"middle\" x=\"1392\" y=\"-104.3\" font-family=\"Helvetica,sans-Serif\" font-size=\"14.00\">value = [1, 0, 0, 0, 0]</text>\n</g>\n<!-- 45&#45;&gt;47 -->\n<g id=\"edge47\" class=\"edge\">\n<title>45&#45;&gt;47</title>\n<path fill=\"none\" stroke=\"black\" d=\"M1285.3,-192.88C1304.12,-180.73 1325.35,-167.03 1343.89,-155.06\"/>\n<polygon fill=\"black\" stroke=\"black\" points=\"1345.97,-157.88 1352.47,-149.52 1342.17,-152 1345.97,-157.88\"/>\n</g>\n<!-- 50 -->\n<g id=\"node51\" class=\"node\">\n<title>50</title>\n<polygon fill=\"#ffffff\" stroke=\"black\" points=\"1857,-469 1717,-469 1717,-401 1857,-401 1857,-469\"/>\n<text text-anchor=\"middle\" x=\"1787\" y=\"-453.8\" font-family=\"Helvetica,sans-Serif\" font-size=\"14.00\">Frame_ID &lt;= &#45;0.427</text>\n<text text-anchor=\"middle\" x=\"1787\" y=\"-438.8\" font-family=\"Helvetica,sans-Serif\" font-size=\"14.00\">entropy = 1.782</text>\n<text text-anchor=\"middle\" x=\"1787\" y=\"-423.8\" font-family=\"Helvetica,sans-Serif\" font-size=\"14.00\">samples = 21</text>\n<text text-anchor=\"middle\" x=\"1787\" y=\"-408.8\" font-family=\"Helvetica,sans-Serif\" font-size=\"14.00\">value = [7, 0, 7, 6, 1]</text>\n</g>\n<!-- 49&#45;&gt;50 -->\n<g id=\"edge50\" class=\"edge\">\n<title>49&#45;&gt;50</title>\n<path fill=\"none\" stroke=\"black\" d=\"M1787,-504.88C1787,-496.78 1787,-487.98 1787,-479.47\"/>\n<polygon fill=\"black\" stroke=\"black\" points=\"1790.5,-479.3 1787,-469.3 1783.5,-479.3 1790.5,-479.3\"/>\n</g>\n<!-- 65 -->\n<g id=\"node66\" class=\"node\">\n<title>65</title>\n<polygon fill=\"#efb388\" stroke=\"black\" points=\"2094,-469 1954,-469 1954,-401 2094,-401 2094,-469\"/>\n<text text-anchor=\"middle\" x=\"2024\" y=\"-453.8\" font-family=\"Helvetica,sans-Serif\" font-size=\"14.00\">Frame_ID &lt;= &#45;0.082</text>\n<text text-anchor=\"middle\" x=\"2024\" y=\"-438.8\" font-family=\"Helvetica,sans-Serif\" font-size=\"14.00\">entropy = 1.252</text>\n<text text-anchor=\"middle\" x=\"2024\" y=\"-423.8\" font-family=\"Helvetica,sans-Serif\" font-size=\"14.00\">samples = 6</text>\n<text text-anchor=\"middle\" x=\"2024\" y=\"-408.8\" font-family=\"Helvetica,sans-Serif\" font-size=\"14.00\">value = [4, 1, 0, 0, 1]</text>\n</g>\n<!-- 49&#45;&gt;65 -->\n<g id=\"edge65\" class=\"edge\">\n<title>49&#45;&gt;65</title>\n<path fill=\"none\" stroke=\"black\" d=\"M1860.69,-506.29C1887.19,-494.88 1917.19,-481.97 1944.19,-470.35\"/>\n<polygon fill=\"black\" stroke=\"black\" points=\"1945.8,-473.47 1953.6,-466.3 1943.03,-467.04 1945.8,-473.47\"/>\n</g>\n<!-- 51 -->\n<g id=\"node52\" class=\"node\">\n<title>51</title>\n<polygon fill=\"#f8e0ce\" stroke=\"black\" points=\"1778,-365 1638,-365 1638,-297 1778,-297 1778,-365\"/>\n<text text-anchor=\"middle\" x=\"1708\" y=\"-349.8\" font-family=\"Helvetica,sans-Serif\" font-size=\"14.00\">Frame_ID &lt;= &#45;0.489</text>\n<text text-anchor=\"middle\" x=\"1708\" y=\"-334.8\" font-family=\"Helvetica,sans-Serif\" font-size=\"14.00\">entropy = 1.296</text>\n<text text-anchor=\"middle\" x=\"1708\" y=\"-319.8\" font-family=\"Helvetica,sans-Serif\" font-size=\"14.00\">samples = 13</text>\n<text text-anchor=\"middle\" x=\"1708\" y=\"-304.8\" font-family=\"Helvetica,sans-Serif\" font-size=\"14.00\">value = [7, 0, 5, 1, 0]</text>\n</g>\n<!-- 50&#45;&gt;51 -->\n<g id=\"edge51\" class=\"edge\">\n<title>50&#45;&gt;51</title>\n<path fill=\"none\" stroke=\"black\" d=\"M1761.35,-400.88C1754.52,-392.07 1747.06,-382.43 1739.94,-373.24\"/>\n<polygon fill=\"black\" stroke=\"black\" points=\"1742.68,-371.06 1733.79,-365.3 1737.15,-375.35 1742.68,-371.06\"/>\n</g>\n<!-- 60 -->\n<g id=\"node61\" class=\"node\">\n<title>60</title>\n<polygon fill=\"#9e9cf2\" stroke=\"black\" points=\"1936,-365 1796,-365 1796,-297 1936,-297 1936,-365\"/>\n<text text-anchor=\"middle\" x=\"1866\" y=\"-349.8\" font-family=\"Helvetica,sans-Serif\" font-size=\"14.00\">Frame_ID &lt;= &#45;0.308</text>\n<text text-anchor=\"middle\" x=\"1866\" y=\"-334.8\" font-family=\"Helvetica,sans-Serif\" font-size=\"14.00\">entropy = 1.299</text>\n<text text-anchor=\"middle\" x=\"1866\" y=\"-319.8\" font-family=\"Helvetica,sans-Serif\" font-size=\"14.00\">samples = 8</text>\n<text text-anchor=\"middle\" x=\"1866\" y=\"-304.8\" font-family=\"Helvetica,sans-Serif\" font-size=\"14.00\">value = [0, 0, 2, 5, 1]</text>\n</g>\n<!-- 50&#45;&gt;60 -->\n<g id=\"edge60\" class=\"edge\">\n<title>50&#45;&gt;60</title>\n<path fill=\"none\" stroke=\"black\" d=\"M1812.65,-400.88C1819.48,-392.07 1826.94,-382.43 1834.06,-373.24\"/>\n<polygon fill=\"black\" stroke=\"black\" points=\"1836.85,-375.35 1840.21,-365.3 1831.32,-371.06 1836.85,-375.35\"/>\n</g>\n<!-- 52 -->\n<g id=\"node53\" class=\"node\">\n<title>52</title>\n<polygon fill=\"#9cf2e2\" stroke=\"black\" points=\"1620,-261 1480,-261 1480,-193 1620,-193 1620,-261\"/>\n<text text-anchor=\"middle\" x=\"1550\" y=\"-245.8\" font-family=\"Helvetica,sans-Serif\" font-size=\"14.00\">Frame_ID &lt;= &#45;0.562</text>\n<text text-anchor=\"middle\" x=\"1550\" y=\"-230.8\" font-family=\"Helvetica,sans-Serif\" font-size=\"14.00\">entropy = 1.299</text>\n<text text-anchor=\"middle\" x=\"1550\" y=\"-215.8\" font-family=\"Helvetica,sans-Serif\" font-size=\"14.00\">samples = 8</text>\n<text text-anchor=\"middle\" x=\"1550\" y=\"-200.8\" font-family=\"Helvetica,sans-Serif\" font-size=\"14.00\">value = [2, 0, 5, 1, 0]</text>\n</g>\n<!-- 51&#45;&gt;52 -->\n<g id=\"edge52\" class=\"edge\">\n<title>51&#45;&gt;52</title>\n<path fill=\"none\" stroke=\"black\" d=\"M1656.7,-296.88C1641.72,-287.21 1625.23,-276.56 1609.77,-266.59\"/>\n<polygon fill=\"black\" stroke=\"black\" points=\"1611.61,-263.61 1601.31,-261.12 1607.81,-269.49 1611.61,-263.61\"/>\n</g>\n<!-- 59 -->\n<g id=\"node60\" class=\"node\">\n<title>59</title>\n<polygon fill=\"#e58139\" stroke=\"black\" points=\"1778,-253.5 1638,-253.5 1638,-200.5 1778,-200.5 1778,-253.5\"/>\n<text text-anchor=\"middle\" x=\"1708\" y=\"-238.3\" font-family=\"Helvetica,sans-Serif\" font-size=\"14.00\">entropy = 0.0</text>\n<text text-anchor=\"middle\" x=\"1708\" y=\"-223.3\" font-family=\"Helvetica,sans-Serif\" font-size=\"14.00\">samples = 5</text>\n<text text-anchor=\"middle\" x=\"1708\" y=\"-208.3\" font-family=\"Helvetica,sans-Serif\" font-size=\"14.00\">value = [5, 0, 0, 0, 0]</text>\n</g>\n<!-- 51&#45;&gt;59 -->\n<g id=\"edge59\" class=\"edge\">\n<title>51&#45;&gt;59</title>\n<path fill=\"none\" stroke=\"black\" d=\"M1708,-296.88C1708,-286.33 1708,-274.6 1708,-263.85\"/>\n<polygon fill=\"black\" stroke=\"black\" points=\"1711.5,-263.52 1708,-253.52 1704.5,-263.52 1711.5,-263.52\"/>\n</g>\n<!-- 53 -->\n<g id=\"node54\" class=\"node\">\n<title>53</title>\n<polygon fill=\"#ffffff\" stroke=\"black\" points=\"1620,-157 1480,-157 1480,-89 1620,-89 1620,-157\"/>\n<text text-anchor=\"middle\" x=\"1550\" y=\"-141.8\" font-family=\"Helvetica,sans-Serif\" font-size=\"14.00\">Frame_ID &lt;= &#45;0.607</text>\n<text text-anchor=\"middle\" x=\"1550\" y=\"-126.8\" font-family=\"Helvetica,sans-Serif\" font-size=\"14.00\">entropy = 1.0</text>\n<text text-anchor=\"middle\" x=\"1550\" y=\"-111.8\" font-family=\"Helvetica,sans-Serif\" font-size=\"14.00\">samples = 4</text>\n<text text-anchor=\"middle\" x=\"1550\" y=\"-96.8\" font-family=\"Helvetica,sans-Serif\" font-size=\"14.00\">value = [2, 0, 2, 0, 0]</text>\n</g>\n<!-- 52&#45;&gt;53 -->\n<g id=\"edge53\" class=\"edge\">\n<title>52&#45;&gt;53</title>\n<path fill=\"none\" stroke=\"black\" d=\"M1550,-192.88C1550,-184.78 1550,-175.98 1550,-167.47\"/>\n<polygon fill=\"black\" stroke=\"black\" points=\"1553.5,-167.3 1550,-157.3 1546.5,-167.3 1553.5,-167.3\"/>\n</g>\n<!-- 56 -->\n<g id=\"node57\" class=\"node\">\n<title>56</title>\n<polygon fill=\"#7beed8\" stroke=\"black\" points=\"1778,-157 1638,-157 1638,-89 1778,-89 1778,-157\"/>\n<text text-anchor=\"middle\" x=\"1708\" y=\"-141.8\" font-family=\"Helvetica,sans-Serif\" font-size=\"14.00\">Frame_ID &lt;= &#45;0.528</text>\n<text text-anchor=\"middle\" x=\"1708\" y=\"-126.8\" font-family=\"Helvetica,sans-Serif\" font-size=\"14.00\">entropy = 0.811</text>\n<text text-anchor=\"middle\" x=\"1708\" y=\"-111.8\" font-family=\"Helvetica,sans-Serif\" font-size=\"14.00\">samples = 4</text>\n<text text-anchor=\"middle\" x=\"1708\" y=\"-96.8\" font-family=\"Helvetica,sans-Serif\" font-size=\"14.00\">value = [0, 0, 3, 1, 0]</text>\n</g>\n<!-- 52&#45;&gt;56 -->\n<g id=\"edge56\" class=\"edge\">\n<title>52&#45;&gt;56</title>\n<path fill=\"none\" stroke=\"black\" d=\"M1601.3,-192.88C1616.28,-183.21 1632.77,-172.56 1648.23,-162.59\"/>\n<polygon fill=\"black\" stroke=\"black\" points=\"1650.19,-165.49 1656.69,-157.12 1646.39,-159.61 1650.19,-165.49\"/>\n</g>\n<!-- 54 -->\n<g id=\"node55\" class=\"node\">\n<title>54</title>\n<polygon fill=\"#39e5c5\" stroke=\"black\" points=\"1462,-53 1322,-53 1322,0 1462,0 1462,-53\"/>\n<text text-anchor=\"middle\" x=\"1392\" y=\"-37.8\" font-family=\"Helvetica,sans-Serif\" font-size=\"14.00\">entropy = 0.0</text>\n<text text-anchor=\"middle\" x=\"1392\" y=\"-22.8\" font-family=\"Helvetica,sans-Serif\" font-size=\"14.00\">samples = 2</text>\n<text text-anchor=\"middle\" x=\"1392\" y=\"-7.8\" font-family=\"Helvetica,sans-Serif\" font-size=\"14.00\">value = [0, 0, 2, 0, 0]</text>\n</g>\n<!-- 53&#45;&gt;54 -->\n<g id=\"edge54\" class=\"edge\">\n<title>53&#45;&gt;54</title>\n<path fill=\"none\" stroke=\"black\" d=\"M1494.74,-88.95C1478.15,-79.02 1460.01,-68.18 1443.66,-58.4\"/>\n<polygon fill=\"black\" stroke=\"black\" points=\"1445.16,-55.22 1434.78,-53.09 1441.57,-61.22 1445.16,-55.22\"/>\n</g>\n<!-- 55 -->\n<g id=\"node56\" class=\"node\">\n<title>55</title>\n<polygon fill=\"#e58139\" stroke=\"black\" points=\"1620,-53 1480,-53 1480,0 1620,0 1620,-53\"/>\n<text text-anchor=\"middle\" x=\"1550\" y=\"-37.8\" font-family=\"Helvetica,sans-Serif\" font-size=\"14.00\">entropy = 0.0</text>\n<text text-anchor=\"middle\" x=\"1550\" y=\"-22.8\" font-family=\"Helvetica,sans-Serif\" font-size=\"14.00\">samples = 2</text>\n<text text-anchor=\"middle\" x=\"1550\" y=\"-7.8\" font-family=\"Helvetica,sans-Serif\" font-size=\"14.00\">value = [2, 0, 0, 0, 0]</text>\n</g>\n<!-- 53&#45;&gt;55 -->\n<g id=\"edge55\" class=\"edge\">\n<title>53&#45;&gt;55</title>\n<path fill=\"none\" stroke=\"black\" d=\"M1550,-88.95C1550,-80.72 1550,-71.85 1550,-63.48\"/>\n<polygon fill=\"black\" stroke=\"black\" points=\"1553.5,-63.24 1550,-53.24 1546.5,-63.24 1553.5,-63.24\"/>\n</g>\n<!-- 57 -->\n<g id=\"node58\" class=\"node\">\n<title>57</title>\n<polygon fill=\"#3c39e5\" stroke=\"black\" points=\"1778,-53 1638,-53 1638,0 1778,0 1778,-53\"/>\n<text text-anchor=\"middle\" x=\"1708\" y=\"-37.8\" font-family=\"Helvetica,sans-Serif\" font-size=\"14.00\">entropy = 0.0</text>\n<text text-anchor=\"middle\" x=\"1708\" y=\"-22.8\" font-family=\"Helvetica,sans-Serif\" font-size=\"14.00\">samples = 1</text>\n<text text-anchor=\"middle\" x=\"1708\" y=\"-7.8\" font-family=\"Helvetica,sans-Serif\" font-size=\"14.00\">value = [0, 0, 0, 1, 0]</text>\n</g>\n<!-- 56&#45;&gt;57 -->\n<g id=\"edge57\" class=\"edge\">\n<title>56&#45;&gt;57</title>\n<path fill=\"none\" stroke=\"black\" d=\"M1708,-88.95C1708,-80.72 1708,-71.85 1708,-63.48\"/>\n<polygon fill=\"black\" stroke=\"black\" points=\"1711.5,-63.24 1708,-53.24 1704.5,-63.24 1711.5,-63.24\"/>\n</g>\n<!-- 58 -->\n<g id=\"node59\" class=\"node\">\n<title>58</title>\n<polygon fill=\"#39e5c5\" stroke=\"black\" points=\"1936,-53 1796,-53 1796,0 1936,0 1936,-53\"/>\n<text text-anchor=\"middle\" x=\"1866\" y=\"-37.8\" font-family=\"Helvetica,sans-Serif\" font-size=\"14.00\">entropy = 0.0</text>\n<text text-anchor=\"middle\" x=\"1866\" y=\"-22.8\" font-family=\"Helvetica,sans-Serif\" font-size=\"14.00\">samples = 3</text>\n<text text-anchor=\"middle\" x=\"1866\" y=\"-7.8\" font-family=\"Helvetica,sans-Serif\" font-size=\"14.00\">value = [0, 0, 3, 0, 0]</text>\n</g>\n<!-- 56&#45;&gt;58 -->\n<g id=\"edge58\" class=\"edge\">\n<title>56&#45;&gt;58</title>\n<path fill=\"none\" stroke=\"black\" d=\"M1763.26,-88.95C1779.85,-79.02 1797.99,-68.18 1814.34,-58.4\"/>\n<polygon fill=\"black\" stroke=\"black\" points=\"1816.43,-61.22 1823.22,-53.09 1812.84,-55.22 1816.43,-61.22\"/>\n</g>\n<!-- 61 -->\n<g id=\"node62\" class=\"node\">\n<title>61</title>\n<polygon fill=\"#6361ea\" stroke=\"black\" points=\"1936,-261 1796,-261 1796,-193 1936,-193 1936,-261\"/>\n<text text-anchor=\"middle\" x=\"1866\" y=\"-245.8\" font-family=\"Helvetica,sans-Serif\" font-size=\"14.00\">Frame_ID &lt;= &#45;0.393</text>\n<text text-anchor=\"middle\" x=\"1866\" y=\"-230.8\" font-family=\"Helvetica,sans-Serif\" font-size=\"14.00\">entropy = 0.65</text>\n<text text-anchor=\"middle\" x=\"1866\" y=\"-215.8\" font-family=\"Helvetica,sans-Serif\" font-size=\"14.00\">samples = 6</text>\n<text text-anchor=\"middle\" x=\"1866\" y=\"-200.8\" font-family=\"Helvetica,sans-Serif\" font-size=\"14.00\">value = [0, 0, 0, 5, 1]</text>\n</g>\n<!-- 60&#45;&gt;61 -->\n<g id=\"edge61\" class=\"edge\">\n<title>60&#45;&gt;61</title>\n<path fill=\"none\" stroke=\"black\" d=\"M1866,-296.88C1866,-288.78 1866,-279.98 1866,-271.47\"/>\n<polygon fill=\"black\" stroke=\"black\" points=\"1869.5,-271.3 1866,-261.3 1862.5,-271.3 1869.5,-271.3\"/>\n</g>\n<!-- 64 -->\n<g id=\"node65\" class=\"node\">\n<title>64</title>\n<polygon fill=\"#39e5c5\" stroke=\"black\" points=\"2094,-253.5 1954,-253.5 1954,-200.5 2094,-200.5 2094,-253.5\"/>\n<text text-anchor=\"middle\" x=\"2024\" y=\"-238.3\" font-family=\"Helvetica,sans-Serif\" font-size=\"14.00\">entropy = 0.0</text>\n<text text-anchor=\"middle\" x=\"2024\" y=\"-223.3\" font-family=\"Helvetica,sans-Serif\" font-size=\"14.00\">samples = 2</text>\n<text text-anchor=\"middle\" x=\"2024\" y=\"-208.3\" font-family=\"Helvetica,sans-Serif\" font-size=\"14.00\">value = [0, 0, 2, 0, 0]</text>\n</g>\n<!-- 60&#45;&gt;64 -->\n<g id=\"edge64\" class=\"edge\">\n<title>60&#45;&gt;64</title>\n<path fill=\"none\" stroke=\"black\" d=\"M1917.3,-296.88C1936.12,-284.73 1957.35,-271.03 1975.89,-259.06\"/>\n<polygon fill=\"black\" stroke=\"black\" points=\"1977.97,-261.88 1984.47,-253.52 1974.17,-256 1977.97,-261.88\"/>\n</g>\n<!-- 62 -->\n<g id=\"node63\" class=\"node\">\n<title>62</title>\n<polygon fill=\"#e539c0\" stroke=\"black\" points=\"1936,-149.5 1796,-149.5 1796,-96.5 1936,-96.5 1936,-149.5\"/>\n<text text-anchor=\"middle\" x=\"1866\" y=\"-134.3\" font-family=\"Helvetica,sans-Serif\" font-size=\"14.00\">entropy = 0.0</text>\n<text text-anchor=\"middle\" x=\"1866\" y=\"-119.3\" font-family=\"Helvetica,sans-Serif\" font-size=\"14.00\">samples = 1</text>\n<text text-anchor=\"middle\" x=\"1866\" y=\"-104.3\" font-family=\"Helvetica,sans-Serif\" font-size=\"14.00\">value = [0, 0, 0, 0, 1]</text>\n</g>\n<!-- 61&#45;&gt;62 -->\n<g id=\"edge62\" class=\"edge\">\n<title>61&#45;&gt;62</title>\n<path fill=\"none\" stroke=\"black\" d=\"M1866,-192.88C1866,-182.33 1866,-170.6 1866,-159.85\"/>\n<polygon fill=\"black\" stroke=\"black\" points=\"1869.5,-159.52 1866,-149.52 1862.5,-159.52 1869.5,-159.52\"/>\n</g>\n<!-- 63 -->\n<g id=\"node64\" class=\"node\">\n<title>63</title>\n<polygon fill=\"#3c39e5\" stroke=\"black\" points=\"2094,-149.5 1954,-149.5 1954,-96.5 2094,-96.5 2094,-149.5\"/>\n<text text-anchor=\"middle\" x=\"2024\" y=\"-134.3\" font-family=\"Helvetica,sans-Serif\" font-size=\"14.00\">entropy = 0.0</text>\n<text text-anchor=\"middle\" x=\"2024\" y=\"-119.3\" font-family=\"Helvetica,sans-Serif\" font-size=\"14.00\">samples = 5</text>\n<text text-anchor=\"middle\" x=\"2024\" y=\"-104.3\" font-family=\"Helvetica,sans-Serif\" font-size=\"14.00\">value = [0, 0, 0, 5, 0]</text>\n</g>\n<!-- 61&#45;&gt;63 -->\n<g id=\"edge63\" class=\"edge\">\n<title>61&#45;&gt;63</title>\n<path fill=\"none\" stroke=\"black\" d=\"M1917.3,-192.88C1936.12,-180.73 1957.35,-167.03 1975.89,-155.06\"/>\n<polygon fill=\"black\" stroke=\"black\" points=\"1977.97,-157.88 1984.47,-149.52 1974.17,-152 1977.97,-157.88\"/>\n</g>\n<!-- 66 -->\n<g id=\"node67\" class=\"node\">\n<title>66</title>\n<polygon fill=\"#e58139\" stroke=\"black\" points=\"2094,-357.5 1954,-357.5 1954,-304.5 2094,-304.5 2094,-357.5\"/>\n<text text-anchor=\"middle\" x=\"2024\" y=\"-342.3\" font-family=\"Helvetica,sans-Serif\" font-size=\"14.00\">entropy = 0.0</text>\n<text text-anchor=\"middle\" x=\"2024\" y=\"-327.3\" font-family=\"Helvetica,sans-Serif\" font-size=\"14.00\">samples = 3</text>\n<text text-anchor=\"middle\" x=\"2024\" y=\"-312.3\" font-family=\"Helvetica,sans-Serif\" font-size=\"14.00\">value = [3, 0, 0, 0, 0]</text>\n</g>\n<!-- 65&#45;&gt;66 -->\n<g id=\"edge66\" class=\"edge\">\n<title>65&#45;&gt;66</title>\n<path fill=\"none\" stroke=\"black\" d=\"M2024,-400.88C2024,-390.33 2024,-378.6 2024,-367.85\"/>\n<polygon fill=\"black\" stroke=\"black\" points=\"2027.5,-367.52 2024,-357.52 2020.5,-367.52 2027.5,-367.52\"/>\n</g>\n<!-- 67 -->\n<g id=\"node68\" class=\"node\">\n<title>67</title>\n<polygon fill=\"#ffffff\" stroke=\"black\" points=\"2252,-365 2112,-365 2112,-297 2252,-297 2252,-365\"/>\n<text text-anchor=\"middle\" x=\"2182\" y=\"-349.8\" font-family=\"Helvetica,sans-Serif\" font-size=\"14.00\">Frame_ID &lt;= &#45;0.042</text>\n<text text-anchor=\"middle\" x=\"2182\" y=\"-334.8\" font-family=\"Helvetica,sans-Serif\" font-size=\"14.00\">entropy = 1.585</text>\n<text text-anchor=\"middle\" x=\"2182\" y=\"-319.8\" font-family=\"Helvetica,sans-Serif\" font-size=\"14.00\">samples = 3</text>\n<text text-anchor=\"middle\" x=\"2182\" y=\"-304.8\" font-family=\"Helvetica,sans-Serif\" font-size=\"14.00\">value = [1, 1, 0, 0, 1]</text>\n</g>\n<!-- 65&#45;&gt;67 -->\n<g id=\"edge67\" class=\"edge\">\n<title>65&#45;&gt;67</title>\n<path fill=\"none\" stroke=\"black\" d=\"M2075.3,-400.88C2090.28,-391.21 2106.77,-380.56 2122.23,-370.59\"/>\n<polygon fill=\"black\" stroke=\"black\" points=\"2124.19,-373.49 2130.69,-365.12 2120.39,-367.61 2124.19,-373.49\"/>\n</g>\n<!-- 68 -->\n<g id=\"node69\" class=\"node\">\n<title>68</title>\n<polygon fill=\"#7be539\" stroke=\"black\" points=\"2252,-253.5 2112,-253.5 2112,-200.5 2252,-200.5 2252,-253.5\"/>\n<text text-anchor=\"middle\" x=\"2182\" y=\"-238.3\" font-family=\"Helvetica,sans-Serif\" font-size=\"14.00\">entropy = 0.0</text>\n<text text-anchor=\"middle\" x=\"2182\" y=\"-223.3\" font-family=\"Helvetica,sans-Serif\" font-size=\"14.00\">samples = 1</text>\n<text text-anchor=\"middle\" x=\"2182\" y=\"-208.3\" font-family=\"Helvetica,sans-Serif\" font-size=\"14.00\">value = [0, 1, 0, 0, 0]</text>\n</g>\n<!-- 67&#45;&gt;68 -->\n<g id=\"edge68\" class=\"edge\">\n<title>67&#45;&gt;68</title>\n<path fill=\"none\" stroke=\"black\" d=\"M2182,-296.88C2182,-286.33 2182,-274.6 2182,-263.85\"/>\n<polygon fill=\"black\" stroke=\"black\" points=\"2185.5,-263.52 2182,-253.52 2178.5,-263.52 2185.5,-263.52\"/>\n</g>\n<!-- 69 -->\n<g id=\"node70\" class=\"node\">\n<title>69</title>\n<polygon fill=\"#ffffff\" stroke=\"black\" points=\"2410,-261 2270,-261 2270,-193 2410,-193 2410,-261\"/>\n<text text-anchor=\"middle\" x=\"2340\" y=\"-245.8\" font-family=\"Helvetica,sans-Serif\" font-size=\"14.00\">Frame_ID &lt;= &#45;0.025</text>\n<text text-anchor=\"middle\" x=\"2340\" y=\"-230.8\" font-family=\"Helvetica,sans-Serif\" font-size=\"14.00\">entropy = 1.0</text>\n<text text-anchor=\"middle\" x=\"2340\" y=\"-215.8\" font-family=\"Helvetica,sans-Serif\" font-size=\"14.00\">samples = 2</text>\n<text text-anchor=\"middle\" x=\"2340\" y=\"-200.8\" font-family=\"Helvetica,sans-Serif\" font-size=\"14.00\">value = [1, 0, 0, 0, 1]</text>\n</g>\n<!-- 67&#45;&gt;69 -->\n<g id=\"edge69\" class=\"edge\">\n<title>67&#45;&gt;69</title>\n<path fill=\"none\" stroke=\"black\" d=\"M2233.3,-296.88C2248.28,-287.21 2264.77,-276.56 2280.23,-266.59\"/>\n<polygon fill=\"black\" stroke=\"black\" points=\"2282.19,-269.49 2288.69,-261.12 2278.39,-263.61 2282.19,-269.49\"/>\n</g>\n<!-- 70 -->\n<g id=\"node71\" class=\"node\">\n<title>70</title>\n<polygon fill=\"#e539c0\" stroke=\"black\" points=\"2292,-149.5 2152,-149.5 2152,-96.5 2292,-96.5 2292,-149.5\"/>\n<text text-anchor=\"middle\" x=\"2222\" y=\"-134.3\" font-family=\"Helvetica,sans-Serif\" font-size=\"14.00\">entropy = 0.0</text>\n<text text-anchor=\"middle\" x=\"2222\" y=\"-119.3\" font-family=\"Helvetica,sans-Serif\" font-size=\"14.00\">samples = 1</text>\n<text text-anchor=\"middle\" x=\"2222\" y=\"-104.3\" font-family=\"Helvetica,sans-Serif\" font-size=\"14.00\">value = [0, 0, 0, 0, 1]</text>\n</g>\n<!-- 69&#45;&gt;70 -->\n<g id=\"edge70\" class=\"edge\">\n<title>69&#45;&gt;70</title>\n<path fill=\"none\" stroke=\"black\" d=\"M2301.69,-192.88C2288.08,-181.12 2272.78,-167.89 2259.25,-156.2\"/>\n<polygon fill=\"black\" stroke=\"black\" points=\"2261.38,-153.41 2251.52,-149.52 2256.8,-158.71 2261.38,-153.41\"/>\n</g>\n<!-- 71 -->\n<g id=\"node72\" class=\"node\">\n<title>71</title>\n<polygon fill=\"#e58139\" stroke=\"black\" points=\"2450,-149.5 2310,-149.5 2310,-96.5 2450,-96.5 2450,-149.5\"/>\n<text text-anchor=\"middle\" x=\"2380\" y=\"-134.3\" font-family=\"Helvetica,sans-Serif\" font-size=\"14.00\">entropy = 0.0</text>\n<text text-anchor=\"middle\" x=\"2380\" y=\"-119.3\" font-family=\"Helvetica,sans-Serif\" font-size=\"14.00\">samples = 1</text>\n<text text-anchor=\"middle\" x=\"2380\" y=\"-104.3\" font-family=\"Helvetica,sans-Serif\" font-size=\"14.00\">value = [1, 0, 0, 0, 0]</text>\n</g>\n<!-- 69&#45;&gt;71 -->\n<g id=\"edge71\" class=\"edge\">\n<title>69&#45;&gt;71</title>\n<path fill=\"none\" stroke=\"black\" d=\"M2352.99,-192.88C2357.26,-182 2362.01,-169.86 2366.33,-158.85\"/>\n<polygon fill=\"black\" stroke=\"black\" points=\"2369.6,-160.11 2369.99,-149.52 2363.08,-157.55 2369.6,-160.11\"/>\n</g>\n<!-- 73 -->\n<g id=\"node74\" class=\"node\">\n<title>73</title>\n<polygon fill=\"#7be539\" stroke=\"black\" points=\"1867,-669.5 1727,-669.5 1727,-616.5 1867,-616.5 1867,-669.5\"/>\n<text text-anchor=\"middle\" x=\"1797\" y=\"-654.3\" font-family=\"Helvetica,sans-Serif\" font-size=\"14.00\">entropy = 0.0</text>\n<text text-anchor=\"middle\" x=\"1797\" y=\"-639.3\" font-family=\"Helvetica,sans-Serif\" font-size=\"14.00\">samples = 5</text>\n<text text-anchor=\"middle\" x=\"1797\" y=\"-624.3\" font-family=\"Helvetica,sans-Serif\" font-size=\"14.00\">value = [0, 5, 0, 0, 0]</text>\n</g>\n<!-- 72&#45;&gt;73 -->\n<g id=\"edge73\" class=\"edge\">\n<title>72&#45;&gt;73</title>\n<path fill=\"none\" stroke=\"black\" d=\"M1797,-712.88C1797,-702.33 1797,-690.6 1797,-679.85\"/>\n<polygon fill=\"black\" stroke=\"black\" points=\"1800.5,-679.52 1797,-669.52 1793.5,-679.52 1800.5,-679.52\"/>\n</g>\n<!-- 74 -->\n<g id=\"node75\" class=\"node\">\n<title>74</title>\n<polygon fill=\"#ecfbe3\" stroke=\"black\" points=\"2249,-677 2109,-677 2109,-609 2249,-609 2249,-677\"/>\n<text text-anchor=\"middle\" x=\"2179\" y=\"-661.8\" font-family=\"Helvetica,sans-Serif\" font-size=\"14.00\">Frame_ID &lt;= 0.274</text>\n<text text-anchor=\"middle\" x=\"2179\" y=\"-646.8\" font-family=\"Helvetica,sans-Serif\" font-size=\"14.00\">entropy = 1.846</text>\n<text text-anchor=\"middle\" x=\"2179\" y=\"-631.8\" font-family=\"Helvetica,sans-Serif\" font-size=\"14.00\">samples = 10</text>\n<text text-anchor=\"middle\" x=\"2179\" y=\"-616.8\" font-family=\"Helvetica,sans-Serif\" font-size=\"14.00\">value = [2, 4, 0, 3, 1]</text>\n</g>\n<!-- 72&#45;&gt;74 -->\n<g id=\"edge74\" class=\"edge\">\n<title>72&#45;&gt;74</title>\n<path fill=\"none\" stroke=\"black\" d=\"M1867.06,-727.29C1932.55,-709.81 2030.27,-683.71 2098.84,-665.41\"/>\n<polygon fill=\"black\" stroke=\"black\" points=\"2099.98,-668.72 2108.73,-662.76 2098.17,-661.96 2099.98,-668.72\"/>\n</g>\n<!-- 75 -->\n<g id=\"node76\" class=\"node\">\n<title>75</title>\n<polygon fill=\"#cecef8\" stroke=\"black\" points=\"2262,-573 2122,-573 2122,-505 2262,-505 2262,-573\"/>\n<text text-anchor=\"middle\" x=\"2192\" y=\"-557.8\" font-family=\"Helvetica,sans-Serif\" font-size=\"14.00\">Frame_ID &lt;= 0.235</text>\n<text text-anchor=\"middle\" x=\"2192\" y=\"-542.8\" font-family=\"Helvetica,sans-Serif\" font-size=\"14.00\">entropy = 1.459</text>\n<text text-anchor=\"middle\" x=\"2192\" y=\"-527.8\" font-family=\"Helvetica,sans-Serif\" font-size=\"14.00\">samples = 6</text>\n<text text-anchor=\"middle\" x=\"2192\" y=\"-512.8\" font-family=\"Helvetica,sans-Serif\" font-size=\"14.00\">value = [2, 0, 0, 3, 1]</text>\n</g>\n<!-- 74&#45;&gt;75 -->\n<g id=\"edge75\" class=\"edge\">\n<title>74&#45;&gt;75</title>\n<path fill=\"none\" stroke=\"black\" d=\"M2183.22,-608.88C2184.25,-600.78 2185.37,-591.98 2186.46,-583.47\"/>\n<polygon fill=\"black\" stroke=\"black\" points=\"2189.96,-583.66 2187.76,-573.3 2183.02,-582.78 2189.96,-583.66\"/>\n</g>\n<!-- 84 -->\n<g id=\"node85\" class=\"node\">\n<title>84</title>\n<polygon fill=\"#7be539\" stroke=\"black\" points=\"2420,-565.5 2280,-565.5 2280,-512.5 2420,-512.5 2420,-565.5\"/>\n<text text-anchor=\"middle\" x=\"2350\" y=\"-550.3\" font-family=\"Helvetica,sans-Serif\" font-size=\"14.00\">entropy = 0.0</text>\n<text text-anchor=\"middle\" x=\"2350\" y=\"-535.3\" font-family=\"Helvetica,sans-Serif\" font-size=\"14.00\">samples = 4</text>\n<text text-anchor=\"middle\" x=\"2350\" y=\"-520.3\" font-family=\"Helvetica,sans-Serif\" font-size=\"14.00\">value = [0, 4, 0, 0, 0]</text>\n</g>\n<!-- 74&#45;&gt;84 -->\n<g id=\"edge84\" class=\"edge\">\n<title>74&#45;&gt;84</title>\n<path fill=\"none\" stroke=\"black\" d=\"M2234.52,-608.88C2255.08,-596.62 2278.28,-582.78 2298.47,-570.74\"/>\n<polygon fill=\"black\" stroke=\"black\" points=\"2300.42,-573.65 2307.22,-565.52 2296.84,-567.64 2300.42,-573.65\"/>\n</g>\n<!-- 76 -->\n<g id=\"node77\" class=\"node\">\n<title>76</title>\n<polygon fill=\"#f6d5bd\" stroke=\"black\" points=\"2311,-469 2171,-469 2171,-401 2311,-401 2311,-469\"/>\n<text text-anchor=\"middle\" x=\"2241\" y=\"-453.8\" font-family=\"Helvetica,sans-Serif\" font-size=\"14.00\">Frame_ID &lt;= 0.178</text>\n<text text-anchor=\"middle\" x=\"2241\" y=\"-438.8\" font-family=\"Helvetica,sans-Serif\" font-size=\"14.00\">entropy = 1.5</text>\n<text text-anchor=\"middle\" x=\"2241\" y=\"-423.8\" font-family=\"Helvetica,sans-Serif\" font-size=\"14.00\">samples = 4</text>\n<text text-anchor=\"middle\" x=\"2241\" y=\"-408.8\" font-family=\"Helvetica,sans-Serif\" font-size=\"14.00\">value = [2, 0, 0, 1, 1]</text>\n</g>\n<!-- 75&#45;&gt;76 -->\n<g id=\"edge76\" class=\"edge\">\n<title>75&#45;&gt;76</title>\n<path fill=\"none\" stroke=\"black\" d=\"M2207.91,-504.88C2211.97,-496.42 2216.4,-487.21 2220.65,-478.35\"/>\n<polygon fill=\"black\" stroke=\"black\" points=\"2223.83,-479.83 2225,-469.3 2217.52,-476.8 2223.83,-479.83\"/>\n</g>\n<!-- 83 -->\n<g id=\"node84\" class=\"node\">\n<title>83</title>\n<polygon fill=\"#3c39e5\" stroke=\"black\" points=\"2469,-461.5 2329,-461.5 2329,-408.5 2469,-408.5 2469,-461.5\"/>\n<text text-anchor=\"middle\" x=\"2399\" y=\"-446.3\" font-family=\"Helvetica,sans-Serif\" font-size=\"14.00\">entropy = 0.0</text>\n<text text-anchor=\"middle\" x=\"2399\" y=\"-431.3\" font-family=\"Helvetica,sans-Serif\" font-size=\"14.00\">samples = 2</text>\n<text text-anchor=\"middle\" x=\"2399\" y=\"-416.3\" font-family=\"Helvetica,sans-Serif\" font-size=\"14.00\">value = [0, 0, 0, 2, 0]</text>\n</g>\n<!-- 75&#45;&gt;83 -->\n<g id=\"edge83\" class=\"edge\">\n<title>75&#45;&gt;83</title>\n<path fill=\"none\" stroke=\"black\" d=\"M2259.21,-504.88C2284.54,-492.4 2313.19,-478.28 2337.93,-466.09\"/>\n<polygon fill=\"black\" stroke=\"black\" points=\"2339.79,-469.08 2347.21,-461.52 2336.69,-462.8 2339.79,-469.08\"/>\n</g>\n<!-- 77 -->\n<g id=\"node78\" class=\"node\">\n<title>77</title>\n<polygon fill=\"#3c39e5\" stroke=\"black\" points=\"2410,-357.5 2270,-357.5 2270,-304.5 2410,-304.5 2410,-357.5\"/>\n<text text-anchor=\"middle\" x=\"2340\" y=\"-342.3\" font-family=\"Helvetica,sans-Serif\" font-size=\"14.00\">entropy = 0.0</text>\n<text text-anchor=\"middle\" x=\"2340\" y=\"-327.3\" font-family=\"Helvetica,sans-Serif\" font-size=\"14.00\">samples = 1</text>\n<text text-anchor=\"middle\" x=\"2340\" y=\"-312.3\" font-family=\"Helvetica,sans-Serif\" font-size=\"14.00\">value = [0, 0, 0, 1, 0]</text>\n</g>\n<!-- 76&#45;&gt;77 -->\n<g id=\"edge77\" class=\"edge\">\n<title>76&#45;&gt;77</title>\n<path fill=\"none\" stroke=\"black\" d=\"M2273.14,-400.88C2284.35,-389.34 2296.92,-376.39 2308.11,-364.86\"/>\n<polygon fill=\"black\" stroke=\"black\" points=\"2310.78,-367.13 2315.23,-357.52 2305.75,-362.26 2310.78,-367.13\"/>\n</g>\n<!-- 78 -->\n<g id=\"node79\" class=\"node\">\n<title>78</title>\n<polygon fill=\"#f2c09c\" stroke=\"black\" points=\"2568,-365 2428,-365 2428,-297 2568,-297 2568,-365\"/>\n<text text-anchor=\"middle\" x=\"2498\" y=\"-349.8\" font-family=\"Helvetica,sans-Serif\" font-size=\"14.00\">Frame_ID &lt;= 0.212</text>\n<text text-anchor=\"middle\" x=\"2498\" y=\"-334.8\" font-family=\"Helvetica,sans-Serif\" font-size=\"14.00\">entropy = 0.918</text>\n<text text-anchor=\"middle\" x=\"2498\" y=\"-319.8\" font-family=\"Helvetica,sans-Serif\" font-size=\"14.00\">samples = 3</text>\n<text text-anchor=\"middle\" x=\"2498\" y=\"-304.8\" font-family=\"Helvetica,sans-Serif\" font-size=\"14.00\">value = [2, 0, 0, 0, 1]</text>\n</g>\n<!-- 76&#45;&gt;78 -->\n<g id=\"edge78\" class=\"edge\">\n<title>76&#45;&gt;78</title>\n<path fill=\"none\" stroke=\"black\" d=\"M2311.14,-404.5C2314.13,-403.31 2317.09,-402.14 2320,-401 2360.89,-385.04 2373.79,-382.33 2418.48,-365.14\"/>\n<polygon fill=\"black\" stroke=\"black\" points=\"2419.8,-368.38 2427.86,-361.5 2417.27,-361.85 2419.8,-368.38\"/>\n</g>\n<!-- 79 -->\n<g id=\"node80\" class=\"node\">\n<title>79</title>\n<polygon fill=\"#e58139\" stroke=\"black\" points=\"2568,-253.5 2428,-253.5 2428,-200.5 2568,-200.5 2568,-253.5\"/>\n<text text-anchor=\"middle\" x=\"2498\" y=\"-238.3\" font-family=\"Helvetica,sans-Serif\" font-size=\"14.00\">entropy = 0.0</text>\n<text text-anchor=\"middle\" x=\"2498\" y=\"-223.3\" font-family=\"Helvetica,sans-Serif\" font-size=\"14.00\">samples = 1</text>\n<text text-anchor=\"middle\" x=\"2498\" y=\"-208.3\" font-family=\"Helvetica,sans-Serif\" font-size=\"14.00\">value = [1, 0, 0, 0, 0]</text>\n</g>\n<!-- 78&#45;&gt;79 -->\n<g id=\"edge79\" class=\"edge\">\n<title>78&#45;&gt;79</title>\n<path fill=\"none\" stroke=\"black\" d=\"M2498,-296.88C2498,-286.33 2498,-274.6 2498,-263.85\"/>\n<polygon fill=\"black\" stroke=\"black\" points=\"2501.5,-263.52 2498,-253.52 2494.5,-263.52 2501.5,-263.52\"/>\n</g>\n<!-- 80 -->\n<g id=\"node81\" class=\"node\">\n<title>80</title>\n<polygon fill=\"#ffffff\" stroke=\"black\" points=\"2726,-261 2586,-261 2586,-193 2726,-193 2726,-261\"/>\n<text text-anchor=\"middle\" x=\"2656\" y=\"-245.8\" font-family=\"Helvetica,sans-Serif\" font-size=\"14.00\">Frame_ID &lt;= 0.223</text>\n<text text-anchor=\"middle\" x=\"2656\" y=\"-230.8\" font-family=\"Helvetica,sans-Serif\" font-size=\"14.00\">entropy = 1.0</text>\n<text text-anchor=\"middle\" x=\"2656\" y=\"-215.8\" font-family=\"Helvetica,sans-Serif\" font-size=\"14.00\">samples = 2</text>\n<text text-anchor=\"middle\" x=\"2656\" y=\"-200.8\" font-family=\"Helvetica,sans-Serif\" font-size=\"14.00\">value = [1, 0, 0, 0, 1]</text>\n</g>\n<!-- 78&#45;&gt;80 -->\n<g id=\"edge80\" class=\"edge\">\n<title>78&#45;&gt;80</title>\n<path fill=\"none\" stroke=\"black\" d=\"M2549.3,-296.88C2564.28,-287.21 2580.77,-276.56 2596.23,-266.59\"/>\n<polygon fill=\"black\" stroke=\"black\" points=\"2598.19,-269.49 2604.69,-261.12 2594.39,-263.61 2598.19,-269.49\"/>\n</g>\n<!-- 81 -->\n<g id=\"node82\" class=\"node\">\n<title>81</title>\n<polygon fill=\"#e539c0\" stroke=\"black\" points=\"2687,-149.5 2547,-149.5 2547,-96.5 2687,-96.5 2687,-149.5\"/>\n<text text-anchor=\"middle\" x=\"2617\" y=\"-134.3\" font-family=\"Helvetica,sans-Serif\" font-size=\"14.00\">entropy = 0.0</text>\n<text text-anchor=\"middle\" x=\"2617\" y=\"-119.3\" font-family=\"Helvetica,sans-Serif\" font-size=\"14.00\">samples = 1</text>\n<text text-anchor=\"middle\" x=\"2617\" y=\"-104.3\" font-family=\"Helvetica,sans-Serif\" font-size=\"14.00\">value = [0, 0, 0, 0, 1]</text>\n</g>\n<!-- 80&#45;&gt;81 -->\n<g id=\"edge81\" class=\"edge\">\n<title>80&#45;&gt;81</title>\n<path fill=\"none\" stroke=\"black\" d=\"M2643.34,-192.88C2639.22,-182.11 2634.63,-170.11 2630.45,-159.18\"/>\n<polygon fill=\"black\" stroke=\"black\" points=\"2633.6,-157.61 2626.76,-149.52 2627.06,-160.11 2633.6,-157.61\"/>\n</g>\n<!-- 82 -->\n<g id=\"node83\" class=\"node\">\n<title>82</title>\n<polygon fill=\"#e58139\" stroke=\"black\" points=\"2845,-149.5 2705,-149.5 2705,-96.5 2845,-96.5 2845,-149.5\"/>\n<text text-anchor=\"middle\" x=\"2775\" y=\"-134.3\" font-family=\"Helvetica,sans-Serif\" font-size=\"14.00\">entropy = 0.0</text>\n<text text-anchor=\"middle\" x=\"2775\" y=\"-119.3\" font-family=\"Helvetica,sans-Serif\" font-size=\"14.00\">samples = 1</text>\n<text text-anchor=\"middle\" x=\"2775\" y=\"-104.3\" font-family=\"Helvetica,sans-Serif\" font-size=\"14.00\">value = [1, 0, 0, 0, 0]</text>\n</g>\n<!-- 80&#45;&gt;82 -->\n<g id=\"edge82\" class=\"edge\">\n<title>80&#45;&gt;82</title>\n<path fill=\"none\" stroke=\"black\" d=\"M2694.64,-192.88C2708.36,-181.12 2723.79,-167.89 2737.43,-156.2\"/>\n<polygon fill=\"black\" stroke=\"black\" points=\"2739.91,-158.69 2745.23,-149.52 2735.36,-153.37 2739.91,-158.69\"/>\n</g>\n<!-- 86 -->\n<g id=\"node87\" class=\"node\">\n<title>86</title>\n<polygon fill=\"#e9965a\" stroke=\"black\" points=\"2565,-885 2425,-885 2425,-817 2565,-817 2565,-885\"/>\n<text text-anchor=\"middle\" x=\"2495\" y=\"-869.8\" font-family=\"Helvetica,sans-Serif\" font-size=\"14.00\">Frame_ID &lt;= 0.415</text>\n<text text-anchor=\"middle\" x=\"2495\" y=\"-854.8\" font-family=\"Helvetica,sans-Serif\" font-size=\"14.00\">entropy = 0.592</text>\n<text text-anchor=\"middle\" x=\"2495\" y=\"-839.8\" font-family=\"Helvetica,sans-Serif\" font-size=\"14.00\">samples = 7</text>\n<text text-anchor=\"middle\" x=\"2495\" y=\"-824.8\" font-family=\"Helvetica,sans-Serif\" font-size=\"14.00\">value = [6, 0, 1, 0, 0]</text>\n</g>\n<!-- 85&#45;&gt;86 -->\n<g id=\"edge86\" class=\"edge\">\n<title>85&#45;&gt;86</title>\n<path fill=\"none\" stroke=\"black\" d=\"M2574.69,-920.88C2563.97,-911.62 2552.21,-901.45 2541.1,-891.85\"/>\n<polygon fill=\"black\" stroke=\"black\" points=\"2543.38,-889.19 2533.52,-885.3 2538.8,-894.49 2543.38,-889.19\"/>\n</g>\n<!-- 91 -->\n<g id=\"node92\" class=\"node\">\n<title>91</title>\n<polygon fill=\"#f3c4a3\" stroke=\"black\" points=\"2805.5,-885 2658.5,-885 2658.5,-817 2805.5,-817 2805.5,-885\"/>\n<text text-anchor=\"middle\" x=\"2732\" y=\"-869.8\" font-family=\"Helvetica,sans-Serif\" font-size=\"14.00\">Frame_ID &lt;= 0.817</text>\n<text text-anchor=\"middle\" x=\"2732\" y=\"-854.8\" font-family=\"Helvetica,sans-Serif\" font-size=\"14.00\">entropy = 1.353</text>\n<text text-anchor=\"middle\" x=\"2732\" y=\"-839.8\" font-family=\"Helvetica,sans-Serif\" font-size=\"14.00\">samples = 20</text>\n<text text-anchor=\"middle\" x=\"2732\" y=\"-824.8\" font-family=\"Helvetica,sans-Serif\" font-size=\"14.00\">value = [12, 0, 0, 3, 5]</text>\n</g>\n<!-- 85&#45;&gt;91 -->\n<g id=\"edge91\" class=\"edge\">\n<title>85&#45;&gt;91</title>\n<path fill=\"none\" stroke=\"black\" d=\"M2651.64,-920.88C2662.44,-911.62 2674.3,-901.45 2685.51,-891.85\"/>\n<polygon fill=\"black\" stroke=\"black\" points=\"2687.84,-894.46 2693.15,-885.3 2683.28,-889.15 2687.84,-894.46\"/>\n</g>\n<!-- 87 -->\n<g id=\"node88\" class=\"node\">\n<title>87</title>\n<polygon fill=\"#e58139\" stroke=\"black\" points=\"2407,-773.5 2267,-773.5 2267,-720.5 2407,-720.5 2407,-773.5\"/>\n<text text-anchor=\"middle\" x=\"2337\" y=\"-758.3\" font-family=\"Helvetica,sans-Serif\" font-size=\"14.00\">entropy = 0.0</text>\n<text text-anchor=\"middle\" x=\"2337\" y=\"-743.3\" font-family=\"Helvetica,sans-Serif\" font-size=\"14.00\">samples = 4</text>\n<text text-anchor=\"middle\" x=\"2337\" y=\"-728.3\" font-family=\"Helvetica,sans-Serif\" font-size=\"14.00\">value = [4, 0, 0, 0, 0]</text>\n</g>\n<!-- 86&#45;&gt;87 -->\n<g id=\"edge87\" class=\"edge\">\n<title>86&#45;&gt;87</title>\n<path fill=\"none\" stroke=\"black\" d=\"M2443.7,-816.88C2424.88,-804.73 2403.65,-791.03 2385.11,-779.06\"/>\n<polygon fill=\"black\" stroke=\"black\" points=\"2386.83,-776 2376.53,-773.52 2383.03,-781.88 2386.83,-776\"/>\n</g>\n<!-- 88 -->\n<g id=\"node89\" class=\"node\">\n<title>88</title>\n<polygon fill=\"#f2c09c\" stroke=\"black\" points=\"2565,-781 2425,-781 2425,-713 2565,-713 2565,-781\"/>\n<text text-anchor=\"middle\" x=\"2495\" y=\"-765.8\" font-family=\"Helvetica,sans-Serif\" font-size=\"14.00\">Frame_ID &lt;= 0.427</text>\n<text text-anchor=\"middle\" x=\"2495\" y=\"-750.8\" font-family=\"Helvetica,sans-Serif\" font-size=\"14.00\">entropy = 0.918</text>\n<text text-anchor=\"middle\" x=\"2495\" y=\"-735.8\" font-family=\"Helvetica,sans-Serif\" font-size=\"14.00\">samples = 3</text>\n<text text-anchor=\"middle\" x=\"2495\" y=\"-720.8\" font-family=\"Helvetica,sans-Serif\" font-size=\"14.00\">value = [2, 0, 1, 0, 0]</text>\n</g>\n<!-- 86&#45;&gt;88 -->\n<g id=\"edge88\" class=\"edge\">\n<title>86&#45;&gt;88</title>\n<path fill=\"none\" stroke=\"black\" d=\"M2495,-816.88C2495,-808.78 2495,-799.98 2495,-791.47\"/>\n<polygon fill=\"black\" stroke=\"black\" points=\"2498.5,-791.3 2495,-781.3 2491.5,-791.3 2498.5,-791.3\"/>\n</g>\n<!-- 89 -->\n<g id=\"node90\" class=\"node\">\n<title>89</title>\n<polygon fill=\"#39e5c5\" stroke=\"black\" points=\"2407,-669.5 2267,-669.5 2267,-616.5 2407,-616.5 2407,-669.5\"/>\n<text text-anchor=\"middle\" x=\"2337\" y=\"-654.3\" font-family=\"Helvetica,sans-Serif\" font-size=\"14.00\">entropy = 0.0</text>\n<text text-anchor=\"middle\" x=\"2337\" y=\"-639.3\" font-family=\"Helvetica,sans-Serif\" font-size=\"14.00\">samples = 1</text>\n<text text-anchor=\"middle\" x=\"2337\" y=\"-624.3\" font-family=\"Helvetica,sans-Serif\" font-size=\"14.00\">value = [0, 0, 1, 0, 0]</text>\n</g>\n<!-- 88&#45;&gt;89 -->\n<g id=\"edge89\" class=\"edge\">\n<title>88&#45;&gt;89</title>\n<path fill=\"none\" stroke=\"black\" d=\"M2443.7,-712.88C2424.88,-700.73 2403.65,-687.03 2385.11,-675.06\"/>\n<polygon fill=\"black\" stroke=\"black\" points=\"2386.83,-672 2376.53,-669.52 2383.03,-677.88 2386.83,-672\"/>\n</g>\n<!-- 90 -->\n<g id=\"node91\" class=\"node\">\n<title>90</title>\n<polygon fill=\"#e58139\" stroke=\"black\" points=\"2565,-669.5 2425,-669.5 2425,-616.5 2565,-616.5 2565,-669.5\"/>\n<text text-anchor=\"middle\" x=\"2495\" y=\"-654.3\" font-family=\"Helvetica,sans-Serif\" font-size=\"14.00\">entropy = 0.0</text>\n<text text-anchor=\"middle\" x=\"2495\" y=\"-639.3\" font-family=\"Helvetica,sans-Serif\" font-size=\"14.00\">samples = 2</text>\n<text text-anchor=\"middle\" x=\"2495\" y=\"-624.3\" font-family=\"Helvetica,sans-Serif\" font-size=\"14.00\">value = [2, 0, 0, 0, 0]</text>\n</g>\n<!-- 88&#45;&gt;90 -->\n<g id=\"edge90\" class=\"edge\">\n<title>88&#45;&gt;90</title>\n<path fill=\"none\" stroke=\"black\" d=\"M2495,-712.88C2495,-702.33 2495,-690.6 2495,-679.85\"/>\n<polygon fill=\"black\" stroke=\"black\" points=\"2498.5,-679.52 2495,-669.52 2491.5,-679.52 2498.5,-679.52\"/>\n</g>\n<!-- 92 -->\n<g id=\"node93\" class=\"node\">\n<title>92</title>\n<polygon fill=\"#eeaf81\" stroke=\"black\" points=\"2805.5,-781 2658.5,-781 2658.5,-713 2805.5,-713 2805.5,-781\"/>\n<text text-anchor=\"middle\" x=\"2732\" y=\"-765.8\" font-family=\"Helvetica,sans-Serif\" font-size=\"14.00\">Frame_ID &lt;= 0.602</text>\n<text text-anchor=\"middle\" x=\"2732\" y=\"-750.8\" font-family=\"Helvetica,sans-Serif\" font-size=\"14.00\">entropy = 1.095</text>\n<text text-anchor=\"middle\" x=\"2732\" y=\"-735.8\" font-family=\"Helvetica,sans-Serif\" font-size=\"14.00\">samples = 14</text>\n<text text-anchor=\"middle\" x=\"2732\" y=\"-720.8\" font-family=\"Helvetica,sans-Serif\" font-size=\"14.00\">value = [10, 0, 0, 1, 3]</text>\n</g>\n<!-- 91&#45;&gt;92 -->\n<g id=\"edge92\" class=\"edge\">\n<title>91&#45;&gt;92</title>\n<path fill=\"none\" stroke=\"black\" d=\"M2732,-816.88C2732,-808.78 2732,-799.98 2732,-791.47\"/>\n<polygon fill=\"black\" stroke=\"black\" points=\"2735.5,-791.3 2732,-781.3 2728.5,-791.3 2735.5,-791.3\"/>\n</g>\n<!-- 103 -->\n<g id=\"node104\" class=\"node\">\n<title>103</title>\n<polygon fill=\"#ffffff\" stroke=\"black\" points=\"3039,-781 2899,-781 2899,-713 3039,-713 3039,-781\"/>\n<text text-anchor=\"middle\" x=\"2969\" y=\"-765.8\" font-family=\"Helvetica,sans-Serif\" font-size=\"14.00\">Frame_ID &lt;= 0.867</text>\n<text text-anchor=\"middle\" x=\"2969\" y=\"-750.8\" font-family=\"Helvetica,sans-Serif\" font-size=\"14.00\">entropy = 1.585</text>\n<text text-anchor=\"middle\" x=\"2969\" y=\"-735.8\" font-family=\"Helvetica,sans-Serif\" font-size=\"14.00\">samples = 6</text>\n<text text-anchor=\"middle\" x=\"2969\" y=\"-720.8\" font-family=\"Helvetica,sans-Serif\" font-size=\"14.00\">value = [2, 0, 0, 2, 2]</text>\n</g>\n<!-- 91&#45;&gt;103 -->\n<g id=\"edge103\" class=\"edge\">\n<title>91&#45;&gt;103</title>\n<path fill=\"none\" stroke=\"black\" d=\"M2805.69,-818.29C2832.19,-806.88 2862.19,-793.97 2889.19,-782.35\"/>\n<polygon fill=\"black\" stroke=\"black\" points=\"2890.8,-785.47 2898.6,-778.3 2888.03,-779.04 2890.8,-785.47\"/>\n</g>\n<!-- 93 -->\n<g id=\"node94\" class=\"node\">\n<title>93</title>\n<polygon fill=\"#ffffff\" stroke=\"black\" points=\"2723,-677 2583,-677 2583,-609 2723,-609 2723,-677\"/>\n<text text-anchor=\"middle\" x=\"2653\" y=\"-661.8\" font-family=\"Helvetica,sans-Serif\" font-size=\"14.00\">Frame_ID &lt;= 0.551</text>\n<text text-anchor=\"middle\" x=\"2653\" y=\"-646.8\" font-family=\"Helvetica,sans-Serif\" font-size=\"14.00\">entropy = 1.449</text>\n<text text-anchor=\"middle\" x=\"2653\" y=\"-631.8\" font-family=\"Helvetica,sans-Serif\" font-size=\"14.00\">samples = 7</text>\n<text text-anchor=\"middle\" x=\"2653\" y=\"-616.8\" font-family=\"Helvetica,sans-Serif\" font-size=\"14.00\">value = [3, 0, 0, 1, 3]</text>\n</g>\n<!-- 92&#45;&gt;93 -->\n<g id=\"edge93\" class=\"edge\">\n<title>92&#45;&gt;93</title>\n<path fill=\"none\" stroke=\"black\" d=\"M2706.35,-712.88C2699.52,-704.07 2692.06,-694.43 2684.94,-685.24\"/>\n<polygon fill=\"black\" stroke=\"black\" points=\"2687.68,-683.06 2678.79,-677.3 2682.15,-687.35 2687.68,-683.06\"/>\n</g>\n<!-- 102 -->\n<g id=\"node103\" class=\"node\">\n<title>102</title>\n<polygon fill=\"#e58139\" stroke=\"black\" points=\"2881,-669.5 2741,-669.5 2741,-616.5 2881,-616.5 2881,-669.5\"/>\n<text text-anchor=\"middle\" x=\"2811\" y=\"-654.3\" font-family=\"Helvetica,sans-Serif\" font-size=\"14.00\">entropy = 0.0</text>\n<text text-anchor=\"middle\" x=\"2811\" y=\"-639.3\" font-family=\"Helvetica,sans-Serif\" font-size=\"14.00\">samples = 7</text>\n<text text-anchor=\"middle\" x=\"2811\" y=\"-624.3\" font-family=\"Helvetica,sans-Serif\" font-size=\"14.00\">value = [7, 0, 0, 0, 0]</text>\n</g>\n<!-- 92&#45;&gt;102 -->\n<g id=\"edge102\" class=\"edge\">\n<title>92&#45;&gt;102</title>\n<path fill=\"none\" stroke=\"black\" d=\"M2757.65,-712.88C2766.42,-701.56 2776.24,-688.88 2785.04,-677.52\"/>\n<polygon fill=\"black\" stroke=\"black\" points=\"2787.88,-679.57 2791.23,-669.52 2782.34,-675.28 2787.88,-679.57\"/>\n</g>\n<!-- 94 -->\n<g id=\"node95\" class=\"node\">\n<title>94</title>\n<polygon fill=\"#f2c09c\" stroke=\"black\" points=\"2698,-573 2558,-573 2558,-505 2698,-505 2698,-573\"/>\n<text text-anchor=\"middle\" x=\"2628\" y=\"-557.8\" font-family=\"Helvetica,sans-Serif\" font-size=\"14.00\">Frame_ID &lt;= 0.489</text>\n<text text-anchor=\"middle\" x=\"2628\" y=\"-542.8\" font-family=\"Helvetica,sans-Serif\" font-size=\"14.00\">entropy = 1.371</text>\n<text text-anchor=\"middle\" x=\"2628\" y=\"-527.8\" font-family=\"Helvetica,sans-Serif\" font-size=\"14.00\">samples = 5</text>\n<text text-anchor=\"middle\" x=\"2628\" y=\"-512.8\" font-family=\"Helvetica,sans-Serif\" font-size=\"14.00\">value = [3, 0, 0, 1, 1]</text>\n</g>\n<!-- 93&#45;&gt;94 -->\n<g id=\"edge94\" class=\"edge\">\n<title>93&#45;&gt;94</title>\n<path fill=\"none\" stroke=\"black\" d=\"M2644.88,-608.88C2642.87,-600.69 2640.69,-591.79 2638.59,-583.19\"/>\n<polygon fill=\"black\" stroke=\"black\" points=\"2641.94,-582.18 2636.16,-573.3 2635.14,-583.85 2641.94,-582.18\"/>\n</g>\n<!-- 101 -->\n<g id=\"node102\" class=\"node\">\n<title>101</title>\n<polygon fill=\"#e539c0\" stroke=\"black\" points=\"2856,-565.5 2716,-565.5 2716,-512.5 2856,-512.5 2856,-565.5\"/>\n<text text-anchor=\"middle\" x=\"2786\" y=\"-550.3\" font-family=\"Helvetica,sans-Serif\" font-size=\"14.00\">entropy = 0.0</text>\n<text text-anchor=\"middle\" x=\"2786\" y=\"-535.3\" font-family=\"Helvetica,sans-Serif\" font-size=\"14.00\">samples = 2</text>\n<text text-anchor=\"middle\" x=\"2786\" y=\"-520.3\" font-family=\"Helvetica,sans-Serif\" font-size=\"14.00\">value = [0, 0, 0, 0, 2]</text>\n</g>\n<!-- 93&#45;&gt;101 -->\n<g id=\"edge101\" class=\"edge\">\n<title>93&#45;&gt;101</title>\n<path fill=\"none\" stroke=\"black\" d=\"M2696.18,-608.88C2711.67,-597.01 2729.09,-583.65 2744.44,-571.88\"/>\n<polygon fill=\"black\" stroke=\"black\" points=\"2746.92,-574.38 2752.72,-565.52 2742.66,-568.83 2746.92,-574.38\"/>\n</g>\n<!-- 95 -->\n<g id=\"node96\" class=\"node\">\n<title>95</title>\n<polygon fill=\"#e539c0\" stroke=\"black\" points=\"2686,-461.5 2546,-461.5 2546,-408.5 2686,-408.5 2686,-461.5\"/>\n<text text-anchor=\"middle\" x=\"2616\" y=\"-446.3\" font-family=\"Helvetica,sans-Serif\" font-size=\"14.00\">entropy = 0.0</text>\n<text text-anchor=\"middle\" x=\"2616\" y=\"-431.3\" font-family=\"Helvetica,sans-Serif\" font-size=\"14.00\">samples = 1</text>\n<text text-anchor=\"middle\" x=\"2616\" y=\"-416.3\" font-family=\"Helvetica,sans-Serif\" font-size=\"14.00\">value = [0, 0, 0, 0, 1]</text>\n</g>\n<!-- 94&#45;&gt;95 -->\n<g id=\"edge95\" class=\"edge\">\n<title>94&#45;&gt;95</title>\n<path fill=\"none\" stroke=\"black\" d=\"M2624.1,-504.88C2622.85,-494.22 2621.45,-482.35 2620.18,-471.52\"/>\n<polygon fill=\"black\" stroke=\"black\" points=\"2623.65,-471.04 2619,-461.52 2616.69,-471.86 2623.65,-471.04\"/>\n</g>\n<!-- 96 -->\n<g id=\"node97\" class=\"node\">\n<title>96</title>\n<polygon fill=\"#eeab7b\" stroke=\"black\" points=\"2844,-469 2704,-469 2704,-401 2844,-401 2844,-469\"/>\n<text text-anchor=\"middle\" x=\"2774\" y=\"-453.8\" font-family=\"Helvetica,sans-Serif\" font-size=\"14.00\">Frame_ID &lt;= 0.517</text>\n<text text-anchor=\"middle\" x=\"2774\" y=\"-438.8\" font-family=\"Helvetica,sans-Serif\" font-size=\"14.00\">entropy = 0.811</text>\n<text text-anchor=\"middle\" x=\"2774\" y=\"-423.8\" font-family=\"Helvetica,sans-Serif\" font-size=\"14.00\">samples = 4</text>\n<text text-anchor=\"middle\" x=\"2774\" y=\"-408.8\" font-family=\"Helvetica,sans-Serif\" font-size=\"14.00\">value = [3, 0, 0, 1, 0]</text>\n</g>\n<!-- 94&#45;&gt;96 -->\n<g id=\"edge96\" class=\"edge\">\n<title>94&#45;&gt;96</title>\n<path fill=\"none\" stroke=\"black\" d=\"M2675.4,-504.88C2688.92,-495.44 2703.77,-485.06 2717.76,-475.29\"/>\n<polygon fill=\"black\" stroke=\"black\" points=\"2720.14,-477.9 2726.34,-469.3 2716.13,-472.16 2720.14,-477.9\"/>\n</g>\n<!-- 97 -->\n<g id=\"node98\" class=\"node\">\n<title>97</title>\n<polygon fill=\"#e58139\" stroke=\"black\" points=\"2765,-357.5 2625,-357.5 2625,-304.5 2765,-304.5 2765,-357.5\"/>\n<text text-anchor=\"middle\" x=\"2695\" y=\"-342.3\" font-family=\"Helvetica,sans-Serif\" font-size=\"14.00\">entropy = 0.0</text>\n<text text-anchor=\"middle\" x=\"2695\" y=\"-327.3\" font-family=\"Helvetica,sans-Serif\" font-size=\"14.00\">samples = 2</text>\n<text text-anchor=\"middle\" x=\"2695\" y=\"-312.3\" font-family=\"Helvetica,sans-Serif\" font-size=\"14.00\">value = [2, 0, 0, 0, 0]</text>\n</g>\n<!-- 96&#45;&gt;97 -->\n<g id=\"edge97\" class=\"edge\">\n<title>96&#45;&gt;97</title>\n<path fill=\"none\" stroke=\"black\" d=\"M2748.35,-400.88C2739.58,-389.56 2729.76,-376.88 2720.96,-365.52\"/>\n<polygon fill=\"black\" stroke=\"black\" points=\"2723.66,-363.28 2714.77,-357.52 2718.12,-367.57 2723.66,-363.28\"/>\n</g>\n<!-- 98 -->\n<g id=\"node99\" class=\"node\">\n<title>98</title>\n<polygon fill=\"#ffffff\" stroke=\"black\" points=\"2923,-365 2783,-365 2783,-297 2923,-297 2923,-365\"/>\n<text text-anchor=\"middle\" x=\"2853\" y=\"-349.8\" font-family=\"Helvetica,sans-Serif\" font-size=\"14.00\">Frame_ID &lt;= 0.534</text>\n<text text-anchor=\"middle\" x=\"2853\" y=\"-334.8\" font-family=\"Helvetica,sans-Serif\" font-size=\"14.00\">entropy = 1.0</text>\n<text text-anchor=\"middle\" x=\"2853\" y=\"-319.8\" font-family=\"Helvetica,sans-Serif\" font-size=\"14.00\">samples = 2</text>\n<text text-anchor=\"middle\" x=\"2853\" y=\"-304.8\" font-family=\"Helvetica,sans-Serif\" font-size=\"14.00\">value = [1, 0, 0, 1, 0]</text>\n</g>\n<!-- 96&#45;&gt;98 -->\n<g id=\"edge98\" class=\"edge\">\n<title>96&#45;&gt;98</title>\n<path fill=\"none\" stroke=\"black\" d=\"M2799.65,-400.88C2806.48,-392.07 2813.94,-382.43 2821.06,-373.24\"/>\n<polygon fill=\"black\" stroke=\"black\" points=\"2823.85,-375.35 2827.21,-365.3 2818.32,-371.06 2823.85,-375.35\"/>\n</g>\n<!-- 99 -->\n<g id=\"node100\" class=\"node\">\n<title>99</title>\n<polygon fill=\"#3c39e5\" stroke=\"black\" points=\"2884,-253.5 2744,-253.5 2744,-200.5 2884,-200.5 2884,-253.5\"/>\n<text text-anchor=\"middle\" x=\"2814\" y=\"-238.3\" font-family=\"Helvetica,sans-Serif\" font-size=\"14.00\">entropy = 0.0</text>\n<text text-anchor=\"middle\" x=\"2814\" y=\"-223.3\" font-family=\"Helvetica,sans-Serif\" font-size=\"14.00\">samples = 1</text>\n<text text-anchor=\"middle\" x=\"2814\" y=\"-208.3\" font-family=\"Helvetica,sans-Serif\" font-size=\"14.00\">value = [0, 0, 0, 1, 0]</text>\n</g>\n<!-- 98&#45;&gt;99 -->\n<g id=\"edge99\" class=\"edge\">\n<title>98&#45;&gt;99</title>\n<path fill=\"none\" stroke=\"black\" d=\"M2840.34,-296.88C2836.22,-286.11 2831.63,-274.11 2827.45,-263.18\"/>\n<polygon fill=\"black\" stroke=\"black\" points=\"2830.6,-261.61 2823.76,-253.52 2824.06,-264.11 2830.6,-261.61\"/>\n</g>\n<!-- 100 -->\n<g id=\"node101\" class=\"node\">\n<title>100</title>\n<polygon fill=\"#e58139\" stroke=\"black\" points=\"3042,-253.5 2902,-253.5 2902,-200.5 3042,-200.5 3042,-253.5\"/>\n<text text-anchor=\"middle\" x=\"2972\" y=\"-238.3\" font-family=\"Helvetica,sans-Serif\" font-size=\"14.00\">entropy = 0.0</text>\n<text text-anchor=\"middle\" x=\"2972\" y=\"-223.3\" font-family=\"Helvetica,sans-Serif\" font-size=\"14.00\">samples = 1</text>\n<text text-anchor=\"middle\" x=\"2972\" y=\"-208.3\" font-family=\"Helvetica,sans-Serif\" font-size=\"14.00\">value = [1, 0, 0, 0, 0]</text>\n</g>\n<!-- 98&#45;&gt;100 -->\n<g id=\"edge100\" class=\"edge\">\n<title>98&#45;&gt;100</title>\n<path fill=\"none\" stroke=\"black\" d=\"M2891.64,-296.88C2905.36,-285.12 2920.79,-271.89 2934.43,-260.2\"/>\n<polygon fill=\"black\" stroke=\"black\" points=\"2936.91,-262.69 2942.23,-253.52 2932.36,-257.37 2936.91,-262.69\"/>\n</g>\n<!-- 104 -->\n<g id=\"node105\" class=\"node\">\n<title>104</title>\n<polygon fill=\"#3c39e5\" stroke=\"black\" points=\"3039,-669.5 2899,-669.5 2899,-616.5 3039,-616.5 3039,-669.5\"/>\n<text text-anchor=\"middle\" x=\"2969\" y=\"-654.3\" font-family=\"Helvetica,sans-Serif\" font-size=\"14.00\">entropy = 0.0</text>\n<text text-anchor=\"middle\" x=\"2969\" y=\"-639.3\" font-family=\"Helvetica,sans-Serif\" font-size=\"14.00\">samples = 2</text>\n<text text-anchor=\"middle\" x=\"2969\" y=\"-624.3\" font-family=\"Helvetica,sans-Serif\" font-size=\"14.00\">value = [0, 0, 0, 2, 0]</text>\n</g>\n<!-- 103&#45;&gt;104 -->\n<g id=\"edge104\" class=\"edge\">\n<title>103&#45;&gt;104</title>\n<path fill=\"none\" stroke=\"black\" d=\"M2969,-712.88C2969,-702.33 2969,-690.6 2969,-679.85\"/>\n<polygon fill=\"black\" stroke=\"black\" points=\"2972.5,-679.52 2969,-669.52 2965.5,-679.52 2972.5,-679.52\"/>\n</g>\n<!-- 105 -->\n<g id=\"node106\" class=\"node\">\n<title>105</title>\n<polygon fill=\"#ffffff\" stroke=\"black\" points=\"3197,-677 3057,-677 3057,-609 3197,-609 3197,-677\"/>\n<text text-anchor=\"middle\" x=\"3127\" y=\"-661.8\" font-family=\"Helvetica,sans-Serif\" font-size=\"14.00\">Frame_ID &lt;= 0.907</text>\n<text text-anchor=\"middle\" x=\"3127\" y=\"-646.8\" font-family=\"Helvetica,sans-Serif\" font-size=\"14.00\">entropy = 1.0</text>\n<text text-anchor=\"middle\" x=\"3127\" y=\"-631.8\" font-family=\"Helvetica,sans-Serif\" font-size=\"14.00\">samples = 4</text>\n<text text-anchor=\"middle\" x=\"3127\" y=\"-616.8\" font-family=\"Helvetica,sans-Serif\" font-size=\"14.00\">value = [2, 0, 0, 0, 2]</text>\n</g>\n<!-- 103&#45;&gt;105 -->\n<g id=\"edge105\" class=\"edge\">\n<title>103&#45;&gt;105</title>\n<path fill=\"none\" stroke=\"black\" d=\"M3020.3,-712.88C3035.28,-703.21 3051.77,-692.56 3067.23,-682.59\"/>\n<polygon fill=\"black\" stroke=\"black\" points=\"3069.19,-685.49 3075.69,-677.12 3065.39,-679.61 3069.19,-685.49\"/>\n</g>\n<!-- 106 -->\n<g id=\"node107\" class=\"node\">\n<title>106</title>\n<polygon fill=\"#e539c0\" stroke=\"black\" points=\"3039,-565.5 2899,-565.5 2899,-512.5 3039,-512.5 3039,-565.5\"/>\n<text text-anchor=\"middle\" x=\"2969\" y=\"-550.3\" font-family=\"Helvetica,sans-Serif\" font-size=\"14.00\">entropy = 0.0</text>\n<text text-anchor=\"middle\" x=\"2969\" y=\"-535.3\" font-family=\"Helvetica,sans-Serif\" font-size=\"14.00\">samples = 2</text>\n<text text-anchor=\"middle\" x=\"2969\" y=\"-520.3\" font-family=\"Helvetica,sans-Serif\" font-size=\"14.00\">value = [0, 0, 0, 0, 2]</text>\n</g>\n<!-- 105&#45;&gt;106 -->\n<g id=\"edge106\" class=\"edge\">\n<title>105&#45;&gt;106</title>\n<path fill=\"none\" stroke=\"black\" d=\"M3075.7,-608.88C3056.88,-596.73 3035.65,-583.03 3017.11,-571.06\"/>\n<polygon fill=\"black\" stroke=\"black\" points=\"3018.83,-568 3008.53,-565.52 3015.03,-573.88 3018.83,-568\"/>\n</g>\n<!-- 107 -->\n<g id=\"node108\" class=\"node\">\n<title>107</title>\n<polygon fill=\"#e58139\" stroke=\"black\" points=\"3197,-565.5 3057,-565.5 3057,-512.5 3197,-512.5 3197,-565.5\"/>\n<text text-anchor=\"middle\" x=\"3127\" y=\"-550.3\" font-family=\"Helvetica,sans-Serif\" font-size=\"14.00\">entropy = 0.0</text>\n<text text-anchor=\"middle\" x=\"3127\" y=\"-535.3\" font-family=\"Helvetica,sans-Serif\" font-size=\"14.00\">samples = 2</text>\n<text text-anchor=\"middle\" x=\"3127\" y=\"-520.3\" font-family=\"Helvetica,sans-Serif\" font-size=\"14.00\">value = [2, 0, 0, 0, 0]</text>\n</g>\n<!-- 105&#45;&gt;107 -->\n<g id=\"edge107\" class=\"edge\">\n<title>105&#45;&gt;107</title>\n<path fill=\"none\" stroke=\"black\" d=\"M3127,-608.88C3127,-598.33 3127,-586.6 3127,-575.85\"/>\n<polygon fill=\"black\" stroke=\"black\" points=\"3130.5,-575.52 3127,-565.52 3123.5,-575.52 3130.5,-575.52\"/>\n</g>\n<!-- 109 -->\n<g id=\"node110\" class=\"node\">\n<title>109</title>\n<polygon fill=\"#fdeefa\" stroke=\"black\" points=\"3750,-989 3610,-989 3610,-921 3750,-921 3750,-989\"/>\n<text text-anchor=\"middle\" x=\"3680\" y=\"-973.8\" font-family=\"Helvetica,sans-Serif\" font-size=\"14.00\">Frame_ID &lt;= 1.207</text>\n<text text-anchor=\"middle\" x=\"3680\" y=\"-958.8\" font-family=\"Helvetica,sans-Serif\" font-size=\"14.00\">entropy = 1.529</text>\n<text text-anchor=\"middle\" x=\"3680\" y=\"-943.8\" font-family=\"Helvetica,sans-Serif\" font-size=\"14.00\">samples = 19</text>\n<text text-anchor=\"middle\" x=\"3680\" y=\"-928.8\" font-family=\"Helvetica,sans-Serif\" font-size=\"14.00\">value = [0, 0, 7, 4, 8]</text>\n</g>\n<!-- 108&#45;&gt;109 -->\n<g id=\"edge109\" class=\"edge\">\n<title>108&#45;&gt;109</title>\n<path fill=\"none\" stroke=\"black\" d=\"M3680,-1024.88C3680,-1016.78 3680,-1007.98 3680,-999.47\"/>\n<polygon fill=\"black\" stroke=\"black\" points=\"3683.5,-999.3 3680,-989.3 3676.5,-999.3 3683.5,-999.3\"/>\n</g>\n<!-- 126 -->\n<g id=\"node127\" class=\"node\">\n<title>126</title>\n<polygon fill=\"#fbdef4\" stroke=\"black\" points=\"4540,-989 4400,-989 4400,-921 4540,-921 4540,-989\"/>\n<text text-anchor=\"middle\" x=\"4470\" y=\"-973.8\" font-family=\"Helvetica,sans-Serif\" font-size=\"14.00\">Frame_ID &lt;= 1.523</text>\n<text text-anchor=\"middle\" x=\"4470\" y=\"-958.8\" font-family=\"Helvetica,sans-Serif\" font-size=\"14.00\">entropy = 2.232</text>\n<text text-anchor=\"middle\" x=\"4470\" y=\"-943.8\" font-family=\"Helvetica,sans-Serif\" font-size=\"14.00\">samples = 15</text>\n<text text-anchor=\"middle\" x=\"4470\" y=\"-928.8\" font-family=\"Helvetica,sans-Serif\" font-size=\"14.00\">value = [3, 2, 3, 2, 5]</text>\n</g>\n<!-- 108&#45;&gt;126 -->\n<g id=\"edge126\" class=\"edge\">\n<title>108&#45;&gt;126</title>\n<path fill=\"none\" stroke=\"black\" d=\"M3757.55,-1047.99C3907.75,-1028.59 4236.98,-986.09 4389.5,-966.39\"/>\n<polygon fill=\"black\" stroke=\"black\" points=\"4390.26,-969.82 4399.73,-965.07 4389.36,-962.88 4390.26,-969.82\"/>\n</g>\n<!-- 110 -->\n<g id=\"node111\" class=\"node\">\n<title>110</title>\n<polygon fill=\"#f3a7e3\" stroke=\"black\" points=\"3671,-885 3531,-885 3531,-817 3671,-817 3671,-885\"/>\n<text text-anchor=\"middle\" x=\"3601\" y=\"-869.8\" font-family=\"Helvetica,sans-Serif\" font-size=\"14.00\">Frame_ID &lt;= 1.065</text>\n<text text-anchor=\"middle\" x=\"3601\" y=\"-854.8\" font-family=\"Helvetica,sans-Serif\" font-size=\"14.00\">entropy = 1.384</text>\n<text text-anchor=\"middle\" x=\"3601\" y=\"-839.8\" font-family=\"Helvetica,sans-Serif\" font-size=\"14.00\">samples = 12</text>\n<text text-anchor=\"middle\" x=\"3601\" y=\"-824.8\" font-family=\"Helvetica,sans-Serif\" font-size=\"14.00\">value = [0, 0, 2, 3, 7]</text>\n</g>\n<!-- 109&#45;&gt;110 -->\n<g id=\"edge110\" class=\"edge\">\n<title>109&#45;&gt;110</title>\n<path fill=\"none\" stroke=\"black\" d=\"M3654.35,-920.88C3647.52,-912.07 3640.06,-902.43 3632.94,-893.24\"/>\n<polygon fill=\"black\" stroke=\"black\" points=\"3635.68,-891.06 3626.79,-885.3 3630.15,-895.35 3635.68,-891.06\"/>\n</g>\n<!-- 117 -->\n<g id=\"node118\" class=\"node\">\n<title>117</title>\n<polygon fill=\"#7beed8\" stroke=\"black\" points=\"3829,-885 3689,-885 3689,-817 3829,-817 3829,-885\"/>\n<text text-anchor=\"middle\" x=\"3759\" y=\"-869.8\" font-family=\"Helvetica,sans-Serif\" font-size=\"14.00\">Frame_ID &lt;= 1.337</text>\n<text text-anchor=\"middle\" x=\"3759\" y=\"-854.8\" font-family=\"Helvetica,sans-Serif\" font-size=\"14.00\">entropy = 1.149</text>\n<text text-anchor=\"middle\" x=\"3759\" y=\"-839.8\" font-family=\"Helvetica,sans-Serif\" font-size=\"14.00\">samples = 7</text>\n<text text-anchor=\"middle\" x=\"3759\" y=\"-824.8\" font-family=\"Helvetica,sans-Serif\" font-size=\"14.00\">value = [0, 0, 5, 1, 1]</text>\n</g>\n<!-- 109&#45;&gt;117 -->\n<g id=\"edge117\" class=\"edge\">\n<title>109&#45;&gt;117</title>\n<path fill=\"none\" stroke=\"black\" d=\"M3705.65,-920.88C3712.48,-912.07 3719.94,-902.43 3727.06,-893.24\"/>\n<polygon fill=\"black\" stroke=\"black\" points=\"3729.85,-895.35 3733.21,-885.3 3724.32,-891.06 3729.85,-895.35\"/>\n</g>\n<!-- 111 -->\n<g id=\"node112\" class=\"node\">\n<title>111</title>\n<polygon fill=\"#cecef8\" stroke=\"black\" points=\"3513,-781 3373,-781 3373,-713 3513,-713 3513,-781\"/>\n<text text-anchor=\"middle\" x=\"3443\" y=\"-765.8\" font-family=\"Helvetica,sans-Serif\" font-size=\"14.00\">Frame_ID &lt;= 1.009</text>\n<text text-anchor=\"middle\" x=\"3443\" y=\"-750.8\" font-family=\"Helvetica,sans-Serif\" font-size=\"14.00\">entropy = 1.459</text>\n<text text-anchor=\"middle\" x=\"3443\" y=\"-735.8\" font-family=\"Helvetica,sans-Serif\" font-size=\"14.00\">samples = 6</text>\n<text text-anchor=\"middle\" x=\"3443\" y=\"-720.8\" font-family=\"Helvetica,sans-Serif\" font-size=\"14.00\">value = [0, 0, 2, 3, 1]</text>\n</g>\n<!-- 110&#45;&gt;111 -->\n<g id=\"edge111\" class=\"edge\">\n<title>110&#45;&gt;111</title>\n<path fill=\"none\" stroke=\"black\" d=\"M3549.7,-816.88C3534.72,-807.21 3518.23,-796.56 3502.77,-786.59\"/>\n<polygon fill=\"black\" stroke=\"black\" points=\"3504.61,-783.61 3494.31,-781.12 3500.81,-789.49 3504.61,-783.61\"/>\n</g>\n<!-- 116 -->\n<g id=\"node117\" class=\"node\">\n<title>116</title>\n<polygon fill=\"#e539c0\" stroke=\"black\" points=\"3671,-773.5 3531,-773.5 3531,-720.5 3671,-720.5 3671,-773.5\"/>\n<text text-anchor=\"middle\" x=\"3601\" y=\"-758.3\" font-family=\"Helvetica,sans-Serif\" font-size=\"14.00\">entropy = 0.0</text>\n<text text-anchor=\"middle\" x=\"3601\" y=\"-743.3\" font-family=\"Helvetica,sans-Serif\" font-size=\"14.00\">samples = 6</text>\n<text text-anchor=\"middle\" x=\"3601\" y=\"-728.3\" font-family=\"Helvetica,sans-Serif\" font-size=\"14.00\">value = [0, 0, 0, 0, 6]</text>\n</g>\n<!-- 110&#45;&gt;116 -->\n<g id=\"edge116\" class=\"edge\">\n<title>110&#45;&gt;116</title>\n<path fill=\"none\" stroke=\"black\" d=\"M3601,-816.88C3601,-806.33 3601,-794.6 3601,-783.85\"/>\n<polygon fill=\"black\" stroke=\"black\" points=\"3604.5,-783.52 3601,-773.52 3597.5,-783.52 3604.5,-783.52\"/>\n</g>\n<!-- 112 -->\n<g id=\"node113\" class=\"node\">\n<title>112</title>\n<polygon fill=\"#9cf2e2\" stroke=\"black\" points=\"3355,-677 3215,-677 3215,-609 3355,-609 3355,-677\"/>\n<text text-anchor=\"middle\" x=\"3285\" y=\"-661.8\" font-family=\"Helvetica,sans-Serif\" font-size=\"14.00\">Frame_ID &lt;= 0.981</text>\n<text text-anchor=\"middle\" x=\"3285\" y=\"-646.8\" font-family=\"Helvetica,sans-Serif\" font-size=\"14.00\">entropy = 0.918</text>\n<text text-anchor=\"middle\" x=\"3285\" y=\"-631.8\" font-family=\"Helvetica,sans-Serif\" font-size=\"14.00\">samples = 3</text>\n<text text-anchor=\"middle\" x=\"3285\" y=\"-616.8\" font-family=\"Helvetica,sans-Serif\" font-size=\"14.00\">value = [0, 0, 2, 0, 1]</text>\n</g>\n<!-- 111&#45;&gt;112 -->\n<g id=\"edge112\" class=\"edge\">\n<title>111&#45;&gt;112</title>\n<path fill=\"none\" stroke=\"black\" d=\"M3391.7,-712.88C3376.72,-703.21 3360.23,-692.56 3344.77,-682.59\"/>\n<polygon fill=\"black\" stroke=\"black\" points=\"3346.61,-679.61 3336.31,-677.12 3342.81,-685.49 3346.61,-679.61\"/>\n</g>\n<!-- 115 -->\n<g id=\"node116\" class=\"node\">\n<title>115</title>\n<polygon fill=\"#3c39e5\" stroke=\"black\" points=\"3513,-669.5 3373,-669.5 3373,-616.5 3513,-616.5 3513,-669.5\"/>\n<text text-anchor=\"middle\" x=\"3443\" y=\"-654.3\" font-family=\"Helvetica,sans-Serif\" font-size=\"14.00\">entropy = 0.0</text>\n<text text-anchor=\"middle\" x=\"3443\" y=\"-639.3\" font-family=\"Helvetica,sans-Serif\" font-size=\"14.00\">samples = 3</text>\n<text text-anchor=\"middle\" x=\"3443\" y=\"-624.3\" font-family=\"Helvetica,sans-Serif\" font-size=\"14.00\">value = [0, 0, 0, 3, 0]</text>\n</g>\n<!-- 111&#45;&gt;115 -->\n<g id=\"edge115\" class=\"edge\">\n<title>111&#45;&gt;115</title>\n<path fill=\"none\" stroke=\"black\" d=\"M3443,-712.88C3443,-702.33 3443,-690.6 3443,-679.85\"/>\n<polygon fill=\"black\" stroke=\"black\" points=\"3446.5,-679.52 3443,-669.52 3439.5,-679.52 3446.5,-679.52\"/>\n</g>\n<!-- 113 -->\n<g id=\"node114\" class=\"node\">\n<title>113</title>\n<polygon fill=\"#39e5c5\" stroke=\"black\" points=\"3355,-565.5 3215,-565.5 3215,-512.5 3355,-512.5 3355,-565.5\"/>\n<text text-anchor=\"middle\" x=\"3285\" y=\"-550.3\" font-family=\"Helvetica,sans-Serif\" font-size=\"14.00\">entropy = 0.0</text>\n<text text-anchor=\"middle\" x=\"3285\" y=\"-535.3\" font-family=\"Helvetica,sans-Serif\" font-size=\"14.00\">samples = 2</text>\n<text text-anchor=\"middle\" x=\"3285\" y=\"-520.3\" font-family=\"Helvetica,sans-Serif\" font-size=\"14.00\">value = [0, 0, 2, 0, 0]</text>\n</g>\n<!-- 112&#45;&gt;113 -->\n<g id=\"edge113\" class=\"edge\">\n<title>112&#45;&gt;113</title>\n<path fill=\"none\" stroke=\"black\" d=\"M3285,-608.88C3285,-598.33 3285,-586.6 3285,-575.85\"/>\n<polygon fill=\"black\" stroke=\"black\" points=\"3288.5,-575.52 3285,-565.52 3281.5,-575.52 3288.5,-575.52\"/>\n</g>\n<!-- 114 -->\n<g id=\"node115\" class=\"node\">\n<title>114</title>\n<polygon fill=\"#e539c0\" stroke=\"black\" points=\"3513,-565.5 3373,-565.5 3373,-512.5 3513,-512.5 3513,-565.5\"/>\n<text text-anchor=\"middle\" x=\"3443\" y=\"-550.3\" font-family=\"Helvetica,sans-Serif\" font-size=\"14.00\">entropy = 0.0</text>\n<text text-anchor=\"middle\" x=\"3443\" y=\"-535.3\" font-family=\"Helvetica,sans-Serif\" font-size=\"14.00\">samples = 1</text>\n<text text-anchor=\"middle\" x=\"3443\" y=\"-520.3\" font-family=\"Helvetica,sans-Serif\" font-size=\"14.00\">value = [0, 0, 0, 0, 1]</text>\n</g>\n<!-- 112&#45;&gt;114 -->\n<g id=\"edge114\" class=\"edge\">\n<title>112&#45;&gt;114</title>\n<path fill=\"none\" stroke=\"black\" d=\"M3336.3,-608.88C3355.12,-596.73 3376.35,-583.03 3394.89,-571.06\"/>\n<polygon fill=\"black\" stroke=\"black\" points=\"3396.97,-573.88 3403.47,-565.52 3393.17,-568 3396.97,-573.88\"/>\n</g>\n<!-- 118 -->\n<g id=\"node119\" class=\"node\">\n<title>118</title>\n<polygon fill=\"#6aecd4\" stroke=\"black\" points=\"3829,-781 3689,-781 3689,-713 3829,-713 3829,-781\"/>\n<text text-anchor=\"middle\" x=\"3759\" y=\"-765.8\" font-family=\"Helvetica,sans-Serif\" font-size=\"14.00\">Frame_ID &lt;= 1.274</text>\n<text text-anchor=\"middle\" x=\"3759\" y=\"-750.8\" font-family=\"Helvetica,sans-Serif\" font-size=\"14.00\">entropy = 0.722</text>\n<text text-anchor=\"middle\" x=\"3759\" y=\"-735.8\" font-family=\"Helvetica,sans-Serif\" font-size=\"14.00\">samples = 5</text>\n<text text-anchor=\"middle\" x=\"3759\" y=\"-720.8\" font-family=\"Helvetica,sans-Serif\" font-size=\"14.00\">value = [0, 0, 4, 0, 1]</text>\n</g>\n<!-- 117&#45;&gt;118 -->\n<g id=\"edge118\" class=\"edge\">\n<title>117&#45;&gt;118</title>\n<path fill=\"none\" stroke=\"black\" d=\"M3759,-816.88C3759,-808.78 3759,-799.98 3759,-791.47\"/>\n<polygon fill=\"black\" stroke=\"black\" points=\"3762.5,-791.3 3759,-781.3 3755.5,-791.3 3762.5,-791.3\"/>\n</g>\n<!-- 123 -->\n<g id=\"node124\" class=\"node\">\n<title>123</title>\n<polygon fill=\"#ffffff\" stroke=\"black\" points=\"3987,-781 3847,-781 3847,-713 3987,-713 3987,-781\"/>\n<text text-anchor=\"middle\" x=\"3917\" y=\"-765.8\" font-family=\"Helvetica,sans-Serif\" font-size=\"14.00\">Frame_ID &lt;= 1.382</text>\n<text text-anchor=\"middle\" x=\"3917\" y=\"-750.8\" font-family=\"Helvetica,sans-Serif\" font-size=\"14.00\">entropy = 1.0</text>\n<text text-anchor=\"middle\" x=\"3917\" y=\"-735.8\" font-family=\"Helvetica,sans-Serif\" font-size=\"14.00\">samples = 2</text>\n<text text-anchor=\"middle\" x=\"3917\" y=\"-720.8\" font-family=\"Helvetica,sans-Serif\" font-size=\"14.00\">value = [0, 0, 1, 1, 0]</text>\n</g>\n<!-- 117&#45;&gt;123 -->\n<g id=\"edge123\" class=\"edge\">\n<title>117&#45;&gt;123</title>\n<path fill=\"none\" stroke=\"black\" d=\"M3810.3,-816.88C3825.28,-807.21 3841.77,-796.56 3857.23,-786.59\"/>\n<polygon fill=\"black\" stroke=\"black\" points=\"3859.19,-789.49 3865.69,-781.12 3855.39,-783.61 3859.19,-789.49\"/>\n</g>\n<!-- 119 -->\n<g id=\"node120\" class=\"node\">\n<title>119</title>\n<polygon fill=\"#39e5c5\" stroke=\"black\" points=\"3671,-669.5 3531,-669.5 3531,-616.5 3671,-616.5 3671,-669.5\"/>\n<text text-anchor=\"middle\" x=\"3601\" y=\"-654.3\" font-family=\"Helvetica,sans-Serif\" font-size=\"14.00\">entropy = 0.0</text>\n<text text-anchor=\"middle\" x=\"3601\" y=\"-639.3\" font-family=\"Helvetica,sans-Serif\" font-size=\"14.00\">samples = 2</text>\n<text text-anchor=\"middle\" x=\"3601\" y=\"-624.3\" font-family=\"Helvetica,sans-Serif\" font-size=\"14.00\">value = [0, 0, 2, 0, 0]</text>\n</g>\n<!-- 118&#45;&gt;119 -->\n<g id=\"edge119\" class=\"edge\">\n<title>118&#45;&gt;119</title>\n<path fill=\"none\" stroke=\"black\" d=\"M3707.7,-712.88C3688.88,-700.73 3667.65,-687.03 3649.11,-675.06\"/>\n<polygon fill=\"black\" stroke=\"black\" points=\"3650.83,-672 3640.53,-669.52 3647.03,-677.88 3650.83,-672\"/>\n</g>\n<!-- 120 -->\n<g id=\"node121\" class=\"node\">\n<title>120</title>\n<polygon fill=\"#9cf2e2\" stroke=\"black\" points=\"3829,-677 3689,-677 3689,-609 3829,-609 3829,-677\"/>\n<text text-anchor=\"middle\" x=\"3759\" y=\"-661.8\" font-family=\"Helvetica,sans-Serif\" font-size=\"14.00\">Frame_ID &lt;= 1.297</text>\n<text text-anchor=\"middle\" x=\"3759\" y=\"-646.8\" font-family=\"Helvetica,sans-Serif\" font-size=\"14.00\">entropy = 0.918</text>\n<text text-anchor=\"middle\" x=\"3759\" y=\"-631.8\" font-family=\"Helvetica,sans-Serif\" font-size=\"14.00\">samples = 3</text>\n<text text-anchor=\"middle\" x=\"3759\" y=\"-616.8\" font-family=\"Helvetica,sans-Serif\" font-size=\"14.00\">value = [0, 0, 2, 0, 1]</text>\n</g>\n<!-- 118&#45;&gt;120 -->\n<g id=\"edge120\" class=\"edge\">\n<title>118&#45;&gt;120</title>\n<path fill=\"none\" stroke=\"black\" d=\"M3759,-712.88C3759,-704.78 3759,-695.98 3759,-687.47\"/>\n<polygon fill=\"black\" stroke=\"black\" points=\"3762.5,-687.3 3759,-677.3 3755.5,-687.3 3762.5,-687.3\"/>\n</g>\n<!-- 121 -->\n<g id=\"node122\" class=\"node\">\n<title>121</title>\n<polygon fill=\"#e539c0\" stroke=\"black\" points=\"3750,-565.5 3610,-565.5 3610,-512.5 3750,-512.5 3750,-565.5\"/>\n<text text-anchor=\"middle\" x=\"3680\" y=\"-550.3\" font-family=\"Helvetica,sans-Serif\" font-size=\"14.00\">entropy = 0.0</text>\n<text text-anchor=\"middle\" x=\"3680\" y=\"-535.3\" font-family=\"Helvetica,sans-Serif\" font-size=\"14.00\">samples = 1</text>\n<text text-anchor=\"middle\" x=\"3680\" y=\"-520.3\" font-family=\"Helvetica,sans-Serif\" font-size=\"14.00\">value = [0, 0, 0, 0, 1]</text>\n</g>\n<!-- 120&#45;&gt;121 -->\n<g id=\"edge121\" class=\"edge\">\n<title>120&#45;&gt;121</title>\n<path fill=\"none\" stroke=\"black\" d=\"M3733.35,-608.88C3724.58,-597.56 3714.76,-584.88 3705.96,-573.52\"/>\n<polygon fill=\"black\" stroke=\"black\" points=\"3708.66,-571.28 3699.77,-565.52 3703.12,-575.57 3708.66,-571.28\"/>\n</g>\n<!-- 122 -->\n<g id=\"node123\" class=\"node\">\n<title>122</title>\n<polygon fill=\"#39e5c5\" stroke=\"black\" points=\"3908,-565.5 3768,-565.5 3768,-512.5 3908,-512.5 3908,-565.5\"/>\n<text text-anchor=\"middle\" x=\"3838\" y=\"-550.3\" font-family=\"Helvetica,sans-Serif\" font-size=\"14.00\">entropy = 0.0</text>\n<text text-anchor=\"middle\" x=\"3838\" y=\"-535.3\" font-family=\"Helvetica,sans-Serif\" font-size=\"14.00\">samples = 2</text>\n<text text-anchor=\"middle\" x=\"3838\" y=\"-520.3\" font-family=\"Helvetica,sans-Serif\" font-size=\"14.00\">value = [0, 0, 2, 0, 0]</text>\n</g>\n<!-- 120&#45;&gt;122 -->\n<g id=\"edge122\" class=\"edge\">\n<title>120&#45;&gt;122</title>\n<path fill=\"none\" stroke=\"black\" d=\"M3784.65,-608.88C3793.42,-597.56 3803.24,-584.88 3812.04,-573.52\"/>\n<polygon fill=\"black\" stroke=\"black\" points=\"3814.88,-575.57 3818.23,-565.52 3809.34,-571.28 3814.88,-575.57\"/>\n</g>\n<!-- 124 -->\n<g id=\"node125\" class=\"node\">\n<title>124</title>\n<polygon fill=\"#3c39e5\" stroke=\"black\" points=\"3987,-669.5 3847,-669.5 3847,-616.5 3987,-616.5 3987,-669.5\"/>\n<text text-anchor=\"middle\" x=\"3917\" y=\"-654.3\" font-family=\"Helvetica,sans-Serif\" font-size=\"14.00\">entropy = 0.0</text>\n<text text-anchor=\"middle\" x=\"3917\" y=\"-639.3\" font-family=\"Helvetica,sans-Serif\" font-size=\"14.00\">samples = 1</text>\n<text text-anchor=\"middle\" x=\"3917\" y=\"-624.3\" font-family=\"Helvetica,sans-Serif\" font-size=\"14.00\">value = [0, 0, 0, 1, 0]</text>\n</g>\n<!-- 123&#45;&gt;124 -->\n<g id=\"edge124\" class=\"edge\">\n<title>123&#45;&gt;124</title>\n<path fill=\"none\" stroke=\"black\" d=\"M3917,-712.88C3917,-702.33 3917,-690.6 3917,-679.85\"/>\n<polygon fill=\"black\" stroke=\"black\" points=\"3920.5,-679.52 3917,-669.52 3913.5,-679.52 3920.5,-679.52\"/>\n</g>\n<!-- 125 -->\n<g id=\"node126\" class=\"node\">\n<title>125</title>\n<polygon fill=\"#39e5c5\" stroke=\"black\" points=\"4145,-669.5 4005,-669.5 4005,-616.5 4145,-616.5 4145,-669.5\"/>\n<text text-anchor=\"middle\" x=\"4075\" y=\"-654.3\" font-family=\"Helvetica,sans-Serif\" font-size=\"14.00\">entropy = 0.0</text>\n<text text-anchor=\"middle\" x=\"4075\" y=\"-639.3\" font-family=\"Helvetica,sans-Serif\" font-size=\"14.00\">samples = 1</text>\n<text text-anchor=\"middle\" x=\"4075\" y=\"-624.3\" font-family=\"Helvetica,sans-Serif\" font-size=\"14.00\">value = [0, 0, 1, 0, 0]</text>\n</g>\n<!-- 123&#45;&gt;125 -->\n<g id=\"edge125\" class=\"edge\">\n<title>123&#45;&gt;125</title>\n<path fill=\"none\" stroke=\"black\" d=\"M3968.3,-712.88C3987.12,-700.73 4008.35,-687.03 4026.89,-675.06\"/>\n<polygon fill=\"black\" stroke=\"black\" points=\"4028.97,-677.88 4035.47,-669.52 4025.17,-672 4028.97,-677.88\"/>\n</g>\n<!-- 127 -->\n<g id=\"node128\" class=\"node\">\n<title>127</title>\n<polygon fill=\"#f5cdb0\" stroke=\"black\" points=\"4540,-885 4400,-885 4400,-817 4540,-817 4540,-885\"/>\n<text text-anchor=\"middle\" x=\"4470\" y=\"-869.8\" font-family=\"Helvetica,sans-Serif\" font-size=\"14.00\">Frame_ID &lt;= 1.483</text>\n<text text-anchor=\"middle\" x=\"4470\" y=\"-854.8\" font-family=\"Helvetica,sans-Serif\" font-size=\"14.00\">entropy = 1.792</text>\n<text text-anchor=\"middle\" x=\"4470\" y=\"-839.8\" font-family=\"Helvetica,sans-Serif\" font-size=\"14.00\">samples = 6</text>\n<text text-anchor=\"middle\" x=\"4470\" y=\"-824.8\" font-family=\"Helvetica,sans-Serif\" font-size=\"14.00\">value = [3, 1, 1, 0, 1]</text>\n</g>\n<!-- 126&#45;&gt;127 -->\n<g id=\"edge127\" class=\"edge\">\n<title>126&#45;&gt;127</title>\n<path fill=\"none\" stroke=\"black\" d=\"M4470,-920.88C4470,-912.78 4470,-903.98 4470,-895.47\"/>\n<polygon fill=\"black\" stroke=\"black\" points=\"4473.5,-895.3 4470,-885.3 4466.5,-895.3 4473.5,-895.3\"/>\n</g>\n<!-- 138 -->\n<g id=\"node139\" class=\"node\">\n<title>138</title>\n<polygon fill=\"#f8c6ed\" stroke=\"black\" points=\"5014,-885 4874,-885 4874,-817 5014,-817 5014,-885\"/>\n<text text-anchor=\"middle\" x=\"4944\" y=\"-869.8\" font-family=\"Helvetica,sans-Serif\" font-size=\"14.00\">Frame_ID &lt;= 1.636</text>\n<text text-anchor=\"middle\" x=\"4944\" y=\"-854.8\" font-family=\"Helvetica,sans-Serif\" font-size=\"14.00\">entropy = 1.837</text>\n<text text-anchor=\"middle\" x=\"4944\" y=\"-839.8\" font-family=\"Helvetica,sans-Serif\" font-size=\"14.00\">samples = 9</text>\n<text text-anchor=\"middle\" x=\"4944\" y=\"-824.8\" font-family=\"Helvetica,sans-Serif\" font-size=\"14.00\">value = [0, 1, 2, 2, 4]</text>\n</g>\n<!-- 126&#45;&gt;138 -->\n<g id=\"edge138\" class=\"edge\">\n<title>126&#45;&gt;138</title>\n<path fill=\"none\" stroke=\"black\" d=\"M4540.2,-938.89C4626.64,-920.29 4773.13,-888.77 4863.89,-869.24\"/>\n<polygon fill=\"black\" stroke=\"black\" points=\"4864.81,-872.62 4873.85,-867.09 4863.34,-865.78 4864.81,-872.62\"/>\n</g>\n<!-- 128 -->\n<g id=\"node129\" class=\"node\">\n<title>128</title>\n<polygon fill=\"#f2c09c\" stroke=\"black\" points=\"4461,-781 4321,-781 4321,-713 4461,-713 4461,-781\"/>\n<text text-anchor=\"middle\" x=\"4391\" y=\"-765.8\" font-family=\"Helvetica,sans-Serif\" font-size=\"14.00\">Frame_ID &lt;= 1.438</text>\n<text text-anchor=\"middle\" x=\"4391\" y=\"-750.8\" font-family=\"Helvetica,sans-Serif\" font-size=\"14.00\">entropy = 0.918</text>\n<text text-anchor=\"middle\" x=\"4391\" y=\"-735.8\" font-family=\"Helvetica,sans-Serif\" font-size=\"14.00\">samples = 3</text>\n<text text-anchor=\"middle\" x=\"4391\" y=\"-720.8\" font-family=\"Helvetica,sans-Serif\" font-size=\"14.00\">value = [2, 1, 0, 0, 0]</text>\n</g>\n<!-- 127&#45;&gt;128 -->\n<g id=\"edge128\" class=\"edge\">\n<title>127&#45;&gt;128</title>\n<path fill=\"none\" stroke=\"black\" d=\"M4444.35,-816.88C4437.52,-808.07 4430.06,-798.43 4422.94,-789.24\"/>\n<polygon fill=\"black\" stroke=\"black\" points=\"4425.68,-787.06 4416.79,-781.3 4420.15,-791.35 4425.68,-787.06\"/>\n</g>\n<!-- 133 -->\n<g id=\"node134\" class=\"node\">\n<title>133</title>\n<polygon fill=\"#ffffff\" stroke=\"black\" points=\"4619,-781 4479,-781 4479,-713 4619,-713 4619,-781\"/>\n<text text-anchor=\"middle\" x=\"4549\" y=\"-765.8\" font-family=\"Helvetica,sans-Serif\" font-size=\"14.00\">Frame_ID &lt;= 1.5</text>\n<text text-anchor=\"middle\" x=\"4549\" y=\"-750.8\" font-family=\"Helvetica,sans-Serif\" font-size=\"14.00\">entropy = 1.585</text>\n<text text-anchor=\"middle\" x=\"4549\" y=\"-735.8\" font-family=\"Helvetica,sans-Serif\" font-size=\"14.00\">samples = 3</text>\n<text text-anchor=\"middle\" x=\"4549\" y=\"-720.8\" font-family=\"Helvetica,sans-Serif\" font-size=\"14.00\">value = [1, 0, 1, 0, 1]</text>\n</g>\n<!-- 127&#45;&gt;133 -->\n<g id=\"edge133\" class=\"edge\">\n<title>127&#45;&gt;133</title>\n<path fill=\"none\" stroke=\"black\" d=\"M4495.65,-816.88C4502.48,-808.07 4509.94,-798.43 4517.06,-789.24\"/>\n<polygon fill=\"black\" stroke=\"black\" points=\"4519.85,-791.35 4523.21,-781.3 4514.32,-787.06 4519.85,-791.35\"/>\n</g>\n<!-- 129 -->\n<g id=\"node130\" class=\"node\">\n<title>129</title>\n<polygon fill=\"#e58139\" stroke=\"black\" points=\"4303,-669.5 4163,-669.5 4163,-616.5 4303,-616.5 4303,-669.5\"/>\n<text text-anchor=\"middle\" x=\"4233\" y=\"-654.3\" font-family=\"Helvetica,sans-Serif\" font-size=\"14.00\">entropy = 0.0</text>\n<text text-anchor=\"middle\" x=\"4233\" y=\"-639.3\" font-family=\"Helvetica,sans-Serif\" font-size=\"14.00\">samples = 1</text>\n<text text-anchor=\"middle\" x=\"4233\" y=\"-624.3\" font-family=\"Helvetica,sans-Serif\" font-size=\"14.00\">value = [1, 0, 0, 0, 0]</text>\n</g>\n<!-- 128&#45;&gt;129 -->\n<g id=\"edge129\" class=\"edge\">\n<title>128&#45;&gt;129</title>\n<path fill=\"none\" stroke=\"black\" d=\"M4339.7,-712.88C4320.88,-700.73 4299.65,-687.03 4281.11,-675.06\"/>\n<polygon fill=\"black\" stroke=\"black\" points=\"4282.83,-672 4272.53,-669.52 4279.03,-677.88 4282.83,-672\"/>\n</g>\n<!-- 130 -->\n<g id=\"node131\" class=\"node\">\n<title>130</title>\n<polygon fill=\"#ffffff\" stroke=\"black\" points=\"4461,-677 4321,-677 4321,-609 4461,-609 4461,-677\"/>\n<text text-anchor=\"middle\" x=\"4391\" y=\"-661.8\" font-family=\"Helvetica,sans-Serif\" font-size=\"14.00\">Frame_ID &lt;= 1.461</text>\n<text text-anchor=\"middle\" x=\"4391\" y=\"-646.8\" font-family=\"Helvetica,sans-Serif\" font-size=\"14.00\">entropy = 1.0</text>\n<text text-anchor=\"middle\" x=\"4391\" y=\"-631.8\" font-family=\"Helvetica,sans-Serif\" font-size=\"14.00\">samples = 2</text>\n<text text-anchor=\"middle\" x=\"4391\" y=\"-616.8\" font-family=\"Helvetica,sans-Serif\" font-size=\"14.00\">value = [1, 1, 0, 0, 0]</text>\n</g>\n<!-- 128&#45;&gt;130 -->\n<g id=\"edge130\" class=\"edge\">\n<title>128&#45;&gt;130</title>\n<path fill=\"none\" stroke=\"black\" d=\"M4391,-712.88C4391,-704.78 4391,-695.98 4391,-687.47\"/>\n<polygon fill=\"black\" stroke=\"black\" points=\"4394.5,-687.3 4391,-677.3 4387.5,-687.3 4394.5,-687.3\"/>\n</g>\n<!-- 131 -->\n<g id=\"node132\" class=\"node\">\n<title>131</title>\n<polygon fill=\"#7be539\" stroke=\"black\" points=\"4303,-565.5 4163,-565.5 4163,-512.5 4303,-512.5 4303,-565.5\"/>\n<text text-anchor=\"middle\" x=\"4233\" y=\"-550.3\" font-family=\"Helvetica,sans-Serif\" font-size=\"14.00\">entropy = 0.0</text>\n<text text-anchor=\"middle\" x=\"4233\" y=\"-535.3\" font-family=\"Helvetica,sans-Serif\" font-size=\"14.00\">samples = 1</text>\n<text text-anchor=\"middle\" x=\"4233\" y=\"-520.3\" font-family=\"Helvetica,sans-Serif\" font-size=\"14.00\">value = [0, 1, 0, 0, 0]</text>\n</g>\n<!-- 130&#45;&gt;131 -->\n<g id=\"edge131\" class=\"edge\">\n<title>130&#45;&gt;131</title>\n<path fill=\"none\" stroke=\"black\" d=\"M4339.7,-608.88C4320.88,-596.73 4299.65,-583.03 4281.11,-571.06\"/>\n<polygon fill=\"black\" stroke=\"black\" points=\"4282.83,-568 4272.53,-565.52 4279.03,-573.88 4282.83,-568\"/>\n</g>\n<!-- 132 -->\n<g id=\"node133\" class=\"node\">\n<title>132</title>\n<polygon fill=\"#e58139\" stroke=\"black\" points=\"4461,-565.5 4321,-565.5 4321,-512.5 4461,-512.5 4461,-565.5\"/>\n<text text-anchor=\"middle\" x=\"4391\" y=\"-550.3\" font-family=\"Helvetica,sans-Serif\" font-size=\"14.00\">entropy = 0.0</text>\n<text text-anchor=\"middle\" x=\"4391\" y=\"-535.3\" font-family=\"Helvetica,sans-Serif\" font-size=\"14.00\">samples = 1</text>\n<text text-anchor=\"middle\" x=\"4391\" y=\"-520.3\" font-family=\"Helvetica,sans-Serif\" font-size=\"14.00\">value = [1, 0, 0, 0, 0]</text>\n</g>\n<!-- 130&#45;&gt;132 -->\n<g id=\"edge132\" class=\"edge\">\n<title>130&#45;&gt;132</title>\n<path fill=\"none\" stroke=\"black\" d=\"M4391,-608.88C4391,-598.33 4391,-586.6 4391,-575.85\"/>\n<polygon fill=\"black\" stroke=\"black\" points=\"4394.5,-575.52 4391,-565.52 4387.5,-575.52 4394.5,-575.52\"/>\n</g>\n<!-- 134 -->\n<g id=\"node135\" class=\"node\">\n<title>134</title>\n<polygon fill=\"#39e5c5\" stroke=\"black\" points=\"4619,-669.5 4479,-669.5 4479,-616.5 4619,-616.5 4619,-669.5\"/>\n<text text-anchor=\"middle\" x=\"4549\" y=\"-654.3\" font-family=\"Helvetica,sans-Serif\" font-size=\"14.00\">entropy = 0.0</text>\n<text text-anchor=\"middle\" x=\"4549\" y=\"-639.3\" font-family=\"Helvetica,sans-Serif\" font-size=\"14.00\">samples = 1</text>\n<text text-anchor=\"middle\" x=\"4549\" y=\"-624.3\" font-family=\"Helvetica,sans-Serif\" font-size=\"14.00\">value = [0, 0, 1, 0, 0]</text>\n</g>\n<!-- 133&#45;&gt;134 -->\n<g id=\"edge134\" class=\"edge\">\n<title>133&#45;&gt;134</title>\n<path fill=\"none\" stroke=\"black\" d=\"M4549,-712.88C4549,-702.33 4549,-690.6 4549,-679.85\"/>\n<polygon fill=\"black\" stroke=\"black\" points=\"4552.5,-679.52 4549,-669.52 4545.5,-679.52 4552.5,-679.52\"/>\n</g>\n<!-- 135 -->\n<g id=\"node136\" class=\"node\">\n<title>135</title>\n<polygon fill=\"#ffffff\" stroke=\"black\" points=\"4777,-677 4637,-677 4637,-609 4777,-609 4777,-677\"/>\n<text text-anchor=\"middle\" x=\"4707\" y=\"-661.8\" font-family=\"Helvetica,sans-Serif\" font-size=\"14.00\">Frame_ID &lt;= 1.512</text>\n<text text-anchor=\"middle\" x=\"4707\" y=\"-646.8\" font-family=\"Helvetica,sans-Serif\" font-size=\"14.00\">entropy = 1.0</text>\n<text text-anchor=\"middle\" x=\"4707\" y=\"-631.8\" font-family=\"Helvetica,sans-Serif\" font-size=\"14.00\">samples = 2</text>\n<text text-anchor=\"middle\" x=\"4707\" y=\"-616.8\" font-family=\"Helvetica,sans-Serif\" font-size=\"14.00\">value = [1, 0, 0, 0, 1]</text>\n</g>\n<!-- 133&#45;&gt;135 -->\n<g id=\"edge135\" class=\"edge\">\n<title>133&#45;&gt;135</title>\n<path fill=\"none\" stroke=\"black\" d=\"M4600.3,-712.88C4615.28,-703.21 4631.77,-692.56 4647.23,-682.59\"/>\n<polygon fill=\"black\" stroke=\"black\" points=\"4649.19,-685.49 4655.69,-677.12 4645.39,-679.61 4649.19,-685.49\"/>\n</g>\n<!-- 136 -->\n<g id=\"node137\" class=\"node\">\n<title>136</title>\n<polygon fill=\"#e539c0\" stroke=\"black\" points=\"4619,-565.5 4479,-565.5 4479,-512.5 4619,-512.5 4619,-565.5\"/>\n<text text-anchor=\"middle\" x=\"4549\" y=\"-550.3\" font-family=\"Helvetica,sans-Serif\" font-size=\"14.00\">entropy = 0.0</text>\n<text text-anchor=\"middle\" x=\"4549\" y=\"-535.3\" font-family=\"Helvetica,sans-Serif\" font-size=\"14.00\">samples = 1</text>\n<text text-anchor=\"middle\" x=\"4549\" y=\"-520.3\" font-family=\"Helvetica,sans-Serif\" font-size=\"14.00\">value = [0, 0, 0, 0, 1]</text>\n</g>\n<!-- 135&#45;&gt;136 -->\n<g id=\"edge136\" class=\"edge\">\n<title>135&#45;&gt;136</title>\n<path fill=\"none\" stroke=\"black\" d=\"M4655.7,-608.88C4636.88,-596.73 4615.65,-583.03 4597.11,-571.06\"/>\n<polygon fill=\"black\" stroke=\"black\" points=\"4598.83,-568 4588.53,-565.52 4595.03,-573.88 4598.83,-568\"/>\n</g>\n<!-- 137 -->\n<g id=\"node138\" class=\"node\">\n<title>137</title>\n<polygon fill=\"#e58139\" stroke=\"black\" points=\"4777,-565.5 4637,-565.5 4637,-512.5 4777,-512.5 4777,-565.5\"/>\n<text text-anchor=\"middle\" x=\"4707\" y=\"-550.3\" font-family=\"Helvetica,sans-Serif\" font-size=\"14.00\">entropy = 0.0</text>\n<text text-anchor=\"middle\" x=\"4707\" y=\"-535.3\" font-family=\"Helvetica,sans-Serif\" font-size=\"14.00\">samples = 1</text>\n<text text-anchor=\"middle\" x=\"4707\" y=\"-520.3\" font-family=\"Helvetica,sans-Serif\" font-size=\"14.00\">value = [1, 0, 0, 0, 0]</text>\n</g>\n<!-- 135&#45;&gt;137 -->\n<g id=\"edge137\" class=\"edge\">\n<title>135&#45;&gt;137</title>\n<path fill=\"none\" stroke=\"black\" d=\"M4707,-608.88C4707,-598.33 4707,-586.6 4707,-575.85\"/>\n<polygon fill=\"black\" stroke=\"black\" points=\"4710.5,-575.52 4707,-565.52 4703.5,-575.52 4710.5,-575.52\"/>\n</g>\n<!-- 139 -->\n<g id=\"node140\" class=\"node\">\n<title>139</title>\n<polygon fill=\"#f5b0e6\" stroke=\"black\" points=\"5014,-781 4874,-781 4874,-713 5014,-713 5014,-781\"/>\n<text text-anchor=\"middle\" x=\"4944\" y=\"-765.8\" font-family=\"Helvetica,sans-Serif\" font-size=\"14.00\">Frame_ID &lt;= 1.574</text>\n<text text-anchor=\"middle\" x=\"4944\" y=\"-750.8\" font-family=\"Helvetica,sans-Serif\" font-size=\"14.00\">entropy = 1.379</text>\n<text text-anchor=\"middle\" x=\"4944\" y=\"-735.8\" font-family=\"Helvetica,sans-Serif\" font-size=\"14.00\">samples = 7</text>\n<text text-anchor=\"middle\" x=\"4944\" y=\"-720.8\" font-family=\"Helvetica,sans-Serif\" font-size=\"14.00\">value = [0, 1, 0, 2, 4]</text>\n</g>\n<!-- 138&#45;&gt;139 -->\n<g id=\"edge139\" class=\"edge\">\n<title>138&#45;&gt;139</title>\n<path fill=\"none\" stroke=\"black\" d=\"M4944,-816.88C4944,-808.78 4944,-799.98 4944,-791.47\"/>\n<polygon fill=\"black\" stroke=\"black\" points=\"4947.5,-791.3 4944,-781.3 4940.5,-791.3 4947.5,-791.3\"/>\n</g>\n<!-- 148 -->\n<g id=\"node149\" class=\"node\">\n<title>148</title>\n<polygon fill=\"#39e5c5\" stroke=\"black\" points=\"5172,-773.5 5032,-773.5 5032,-720.5 5172,-720.5 5172,-773.5\"/>\n<text text-anchor=\"middle\" x=\"5102\" y=\"-758.3\" font-family=\"Helvetica,sans-Serif\" font-size=\"14.00\">entropy = 0.0</text>\n<text text-anchor=\"middle\" x=\"5102\" y=\"-743.3\" font-family=\"Helvetica,sans-Serif\" font-size=\"14.00\">samples = 2</text>\n<text text-anchor=\"middle\" x=\"5102\" y=\"-728.3\" font-family=\"Helvetica,sans-Serif\" font-size=\"14.00\">value = [0, 0, 2, 0, 0]</text>\n</g>\n<!-- 138&#45;&gt;148 -->\n<g id=\"edge148\" class=\"edge\">\n<title>138&#45;&gt;148</title>\n<path fill=\"none\" stroke=\"black\" d=\"M4995.3,-816.88C5014.12,-804.73 5035.35,-791.03 5053.89,-779.06\"/>\n<polygon fill=\"black\" stroke=\"black\" points=\"5055.97,-781.88 5062.47,-773.52 5052.17,-776 5055.97,-781.88\"/>\n</g>\n<!-- 140 -->\n<g id=\"node141\" class=\"node\">\n<title>140</title>\n<polygon fill=\"#ffffff\" stroke=\"black\" points=\"5014,-677 4874,-677 4874,-609 5014,-609 5014,-677\"/>\n<text text-anchor=\"middle\" x=\"4944\" y=\"-661.8\" font-family=\"Helvetica,sans-Serif\" font-size=\"14.00\">Frame_ID &lt;= 1.534</text>\n<text text-anchor=\"middle\" x=\"4944\" y=\"-646.8\" font-family=\"Helvetica,sans-Serif\" font-size=\"14.00\">entropy = 1.585</text>\n<text text-anchor=\"middle\" x=\"4944\" y=\"-631.8\" font-family=\"Helvetica,sans-Serif\" font-size=\"14.00\">samples = 3</text>\n<text text-anchor=\"middle\" x=\"4944\" y=\"-616.8\" font-family=\"Helvetica,sans-Serif\" font-size=\"14.00\">value = [0, 1, 0, 1, 1]</text>\n</g>\n<!-- 139&#45;&gt;140 -->\n<g id=\"edge140\" class=\"edge\">\n<title>139&#45;&gt;140</title>\n<path fill=\"none\" stroke=\"black\" d=\"M4944,-712.88C4944,-704.78 4944,-695.98 4944,-687.47\"/>\n<polygon fill=\"black\" stroke=\"black\" points=\"4947.5,-687.3 4944,-677.3 4940.5,-687.3 4947.5,-687.3\"/>\n</g>\n<!-- 145 -->\n<g id=\"node146\" class=\"node\">\n<title>145</title>\n<polygon fill=\"#ee7bd5\" stroke=\"black\" points=\"5251,-677 5111,-677 5111,-609 5251,-609 5251,-677\"/>\n<text text-anchor=\"middle\" x=\"5181\" y=\"-661.8\" font-family=\"Helvetica,sans-Serif\" font-size=\"14.00\">Frame_ID &lt;= 1.613</text>\n<text text-anchor=\"middle\" x=\"5181\" y=\"-646.8\" font-family=\"Helvetica,sans-Serif\" font-size=\"14.00\">entropy = 0.811</text>\n<text text-anchor=\"middle\" x=\"5181\" y=\"-631.8\" font-family=\"Helvetica,sans-Serif\" font-size=\"14.00\">samples = 4</text>\n<text text-anchor=\"middle\" x=\"5181\" y=\"-616.8\" font-family=\"Helvetica,sans-Serif\" font-size=\"14.00\">value = [0, 0, 0, 1, 3]</text>\n</g>\n<!-- 139&#45;&gt;145 -->\n<g id=\"edge145\" class=\"edge\">\n<title>139&#45;&gt;145</title>\n<path fill=\"none\" stroke=\"black\" d=\"M5014.15,-715.81C5041.49,-704.04 5072.99,-690.49 5101.2,-678.35\"/>\n<polygon fill=\"black\" stroke=\"black\" points=\"5102.82,-681.46 5110.62,-674.29 5100.06,-675.03 5102.82,-681.46\"/>\n</g>\n<!-- 141 -->\n<g id=\"node142\" class=\"node\">\n<title>141</title>\n<polygon fill=\"#e539c0\" stroke=\"black\" points=\"4935,-565.5 4795,-565.5 4795,-512.5 4935,-512.5 4935,-565.5\"/>\n<text text-anchor=\"middle\" x=\"4865\" y=\"-550.3\" font-family=\"Helvetica,sans-Serif\" font-size=\"14.00\">entropy = 0.0</text>\n<text text-anchor=\"middle\" x=\"4865\" y=\"-535.3\" font-family=\"Helvetica,sans-Serif\" font-size=\"14.00\">samples = 1</text>\n<text text-anchor=\"middle\" x=\"4865\" y=\"-520.3\" font-family=\"Helvetica,sans-Serif\" font-size=\"14.00\">value = [0, 0, 0, 0, 1]</text>\n</g>\n<!-- 140&#45;&gt;141 -->\n<g id=\"edge141\" class=\"edge\">\n<title>140&#45;&gt;141</title>\n<path fill=\"none\" stroke=\"black\" d=\"M4918.35,-608.88C4909.58,-597.56 4899.76,-584.88 4890.96,-573.52\"/>\n<polygon fill=\"black\" stroke=\"black\" points=\"4893.66,-571.28 4884.77,-565.52 4888.12,-575.57 4893.66,-571.28\"/>\n</g>\n<!-- 142 -->\n<g id=\"node143\" class=\"node\">\n<title>142</title>\n<polygon fill=\"#ffffff\" stroke=\"black\" points=\"5093,-573 4953,-573 4953,-505 5093,-505 5093,-573\"/>\n<text text-anchor=\"middle\" x=\"5023\" y=\"-557.8\" font-family=\"Helvetica,sans-Serif\" font-size=\"14.00\">Frame_ID &lt;= 1.551</text>\n<text text-anchor=\"middle\" x=\"5023\" y=\"-542.8\" font-family=\"Helvetica,sans-Serif\" font-size=\"14.00\">entropy = 1.0</text>\n<text text-anchor=\"middle\" x=\"5023\" y=\"-527.8\" font-family=\"Helvetica,sans-Serif\" font-size=\"14.00\">samples = 2</text>\n<text text-anchor=\"middle\" x=\"5023\" y=\"-512.8\" font-family=\"Helvetica,sans-Serif\" font-size=\"14.00\">value = [0, 1, 0, 1, 0]</text>\n</g>\n<!-- 140&#45;&gt;142 -->\n<g id=\"edge142\" class=\"edge\">\n<title>140&#45;&gt;142</title>\n<path fill=\"none\" stroke=\"black\" d=\"M4969.65,-608.88C4976.48,-600.07 4983.94,-590.43 4991.06,-581.24\"/>\n<polygon fill=\"black\" stroke=\"black\" points=\"4993.85,-583.35 4997.21,-573.3 4988.32,-579.06 4993.85,-583.35\"/>\n</g>\n<!-- 143 -->\n<g id=\"node144\" class=\"node\">\n<title>143</title>\n<polygon fill=\"#3c39e5\" stroke=\"black\" points=\"5014,-461.5 4874,-461.5 4874,-408.5 5014,-408.5 5014,-461.5\"/>\n<text text-anchor=\"middle\" x=\"4944\" y=\"-446.3\" font-family=\"Helvetica,sans-Serif\" font-size=\"14.00\">entropy = 0.0</text>\n<text text-anchor=\"middle\" x=\"4944\" y=\"-431.3\" font-family=\"Helvetica,sans-Serif\" font-size=\"14.00\">samples = 1</text>\n<text text-anchor=\"middle\" x=\"4944\" y=\"-416.3\" font-family=\"Helvetica,sans-Serif\" font-size=\"14.00\">value = [0, 0, 0, 1, 0]</text>\n</g>\n<!-- 142&#45;&gt;143 -->\n<g id=\"edge143\" class=\"edge\">\n<title>142&#45;&gt;143</title>\n<path fill=\"none\" stroke=\"black\" d=\"M4997.35,-504.88C4988.58,-493.56 4978.76,-480.88 4969.96,-469.52\"/>\n<polygon fill=\"black\" stroke=\"black\" points=\"4972.66,-467.28 4963.77,-461.52 4967.12,-471.57 4972.66,-467.28\"/>\n</g>\n<!-- 144 -->\n<g id=\"node145\" class=\"node\">\n<title>144</title>\n<polygon fill=\"#7be539\" stroke=\"black\" points=\"5172,-461.5 5032,-461.5 5032,-408.5 5172,-408.5 5172,-461.5\"/>\n<text text-anchor=\"middle\" x=\"5102\" y=\"-446.3\" font-family=\"Helvetica,sans-Serif\" font-size=\"14.00\">entropy = 0.0</text>\n<text text-anchor=\"middle\" x=\"5102\" y=\"-431.3\" font-family=\"Helvetica,sans-Serif\" font-size=\"14.00\">samples = 1</text>\n<text text-anchor=\"middle\" x=\"5102\" y=\"-416.3\" font-family=\"Helvetica,sans-Serif\" font-size=\"14.00\">value = [0, 1, 0, 0, 0]</text>\n</g>\n<!-- 142&#45;&gt;144 -->\n<g id=\"edge144\" class=\"edge\">\n<title>142&#45;&gt;144</title>\n<path fill=\"none\" stroke=\"black\" d=\"M5048.65,-504.88C5057.42,-493.56 5067.24,-480.88 5076.04,-469.52\"/>\n<polygon fill=\"black\" stroke=\"black\" points=\"5078.88,-471.57 5082.23,-461.52 5073.34,-467.28 5078.88,-471.57\"/>\n</g>\n<!-- 146 -->\n<g id=\"node147\" class=\"node\">\n<title>146</title>\n<polygon fill=\"#e539c0\" stroke=\"black\" points=\"5251,-565.5 5111,-565.5 5111,-512.5 5251,-512.5 5251,-565.5\"/>\n<text text-anchor=\"middle\" x=\"5181\" y=\"-550.3\" font-family=\"Helvetica,sans-Serif\" font-size=\"14.00\">entropy = 0.0</text>\n<text text-anchor=\"middle\" x=\"5181\" y=\"-535.3\" font-family=\"Helvetica,sans-Serif\" font-size=\"14.00\">samples = 2</text>\n<text text-anchor=\"middle\" x=\"5181\" y=\"-520.3\" font-family=\"Helvetica,sans-Serif\" font-size=\"14.00\">value = [0, 0, 0, 0, 2]</text>\n</g>\n<!-- 145&#45;&gt;146 -->\n<g id=\"edge146\" class=\"edge\">\n<title>145&#45;&gt;146</title>\n<path fill=\"none\" stroke=\"black\" d=\"M5181,-608.88C5181,-598.33 5181,-586.6 5181,-575.85\"/>\n<polygon fill=\"black\" stroke=\"black\" points=\"5184.5,-575.52 5181,-565.52 5177.5,-575.52 5184.5,-575.52\"/>\n</g>\n<!-- 147 -->\n<g id=\"node148\" class=\"node\">\n<title>147</title>\n<polygon fill=\"#ffffff\" stroke=\"black\" points=\"5409,-565.5 5269,-565.5 5269,-512.5 5409,-512.5 5409,-565.5\"/>\n<text text-anchor=\"middle\" x=\"5339\" y=\"-550.3\" font-family=\"Helvetica,sans-Serif\" font-size=\"14.00\">entropy = 1.0</text>\n<text text-anchor=\"middle\" x=\"5339\" y=\"-535.3\" font-family=\"Helvetica,sans-Serif\" font-size=\"14.00\">samples = 2</text>\n<text text-anchor=\"middle\" x=\"5339\" y=\"-520.3\" font-family=\"Helvetica,sans-Serif\" font-size=\"14.00\">value = [0, 0, 0, 1, 1]</text>\n</g>\n<!-- 145&#45;&gt;147 -->\n<g id=\"edge147\" class=\"edge\">\n<title>145&#45;&gt;147</title>\n<path fill=\"none\" stroke=\"black\" d=\"M5232.3,-608.88C5251.12,-596.73 5272.35,-583.03 5290.89,-571.06\"/>\n<polygon fill=\"black\" stroke=\"black\" points=\"5292.97,-573.88 5299.47,-565.52 5289.17,-568 5292.97,-573.88\"/>\n</g>\n</g>\n</svg>\n",
            "text/plain": [
              "<graphviz.sources.Source at 0x7f8d3697ab50>"
            ]
          },
          "metadata": {},
          "execution_count": 29
        }
      ]
    },
    {
      "cell_type": "code",
      "source": [],
      "metadata": {
        "id": "NcB07evm8Srl"
      },
      "execution_count": null,
      "outputs": []
    }
  ]
}